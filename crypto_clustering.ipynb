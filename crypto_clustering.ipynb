{
 "cells": [
  {
   "cell_type": "markdown",
   "metadata": {},
   "source": [
    "# Clustering Crypto"
   ]
  },
  {
   "cell_type": "code",
   "execution_count": 149,
   "metadata": {},
   "outputs": [],
   "source": [
    "# Initial imports\n",
    "import pandas as pd\n",
    "import hvplot.pandas\n",
    "from path import Path\n",
    "import plotly.express as px\n",
    "from sklearn.preprocessing import StandardScaler, MinMaxScaler\n",
    "from sklearn.decomposition import PCA\n",
    "from sklearn.cluster import KMeans\n"
   ]
  },
  {
   "cell_type": "markdown",
   "metadata": {},
   "source": [
    "### Deliverable 1: Preprocessing the Data for PCA"
   ]
  },
  {
   "cell_type": "code",
   "execution_count": 150,
   "metadata": {},
   "outputs": [
    {
     "data": {
      "text/html": [
       "<div>\n",
       "<style scoped>\n",
       "    .dataframe tbody tr th:only-of-type {\n",
       "        vertical-align: middle;\n",
       "    }\n",
       "\n",
       "    .dataframe tbody tr th {\n",
       "        vertical-align: top;\n",
       "    }\n",
       "\n",
       "    .dataframe thead th {\n",
       "        text-align: right;\n",
       "    }\n",
       "</style>\n",
       "<table border=\"1\" class=\"dataframe\">\n",
       "  <thead>\n",
       "    <tr style=\"text-align: right;\">\n",
       "      <th></th>\n",
       "      <th>Unnamed: 0</th>\n",
       "      <th>CoinName</th>\n",
       "      <th>Algorithm</th>\n",
       "      <th>IsTrading</th>\n",
       "      <th>ProofType</th>\n",
       "      <th>TotalCoinsMined</th>\n",
       "      <th>TotalCoinSupply</th>\n",
       "    </tr>\n",
       "  </thead>\n",
       "  <tbody>\n",
       "    <tr>\n",
       "      <th>0</th>\n",
       "      <td>42</td>\n",
       "      <td>42 Coin</td>\n",
       "      <td>Scrypt</td>\n",
       "      <td>True</td>\n",
       "      <td>PoW/PoS</td>\n",
       "      <td>4.199995e+01</td>\n",
       "      <td>42</td>\n",
       "    </tr>\n",
       "    <tr>\n",
       "      <th>1</th>\n",
       "      <td>365</td>\n",
       "      <td>365Coin</td>\n",
       "      <td>X11</td>\n",
       "      <td>True</td>\n",
       "      <td>PoW/PoS</td>\n",
       "      <td>NaN</td>\n",
       "      <td>2300000000</td>\n",
       "    </tr>\n",
       "    <tr>\n",
       "      <th>2</th>\n",
       "      <td>404</td>\n",
       "      <td>404Coin</td>\n",
       "      <td>Scrypt</td>\n",
       "      <td>True</td>\n",
       "      <td>PoW/PoS</td>\n",
       "      <td>1.055185e+09</td>\n",
       "      <td>532000000</td>\n",
       "    </tr>\n",
       "    <tr>\n",
       "      <th>3</th>\n",
       "      <td>611</td>\n",
       "      <td>SixEleven</td>\n",
       "      <td>SHA-256</td>\n",
       "      <td>True</td>\n",
       "      <td>PoW</td>\n",
       "      <td>NaN</td>\n",
       "      <td>611000</td>\n",
       "    </tr>\n",
       "    <tr>\n",
       "      <th>4</th>\n",
       "      <td>808</td>\n",
       "      <td>808</td>\n",
       "      <td>SHA-256</td>\n",
       "      <td>True</td>\n",
       "      <td>PoW/PoS</td>\n",
       "      <td>0.000000e+00</td>\n",
       "      <td>0</td>\n",
       "    </tr>\n",
       "  </tbody>\n",
       "</table>\n",
       "</div>"
      ],
      "text/plain": [
       "  Unnamed: 0   CoinName Algorithm  IsTrading ProofType  TotalCoinsMined  \\\n",
       "0         42    42 Coin    Scrypt       True   PoW/PoS     4.199995e+01   \n",
       "1        365    365Coin       X11       True   PoW/PoS              NaN   \n",
       "2        404    404Coin    Scrypt       True   PoW/PoS     1.055185e+09   \n",
       "3        611  SixEleven   SHA-256       True       PoW              NaN   \n",
       "4        808        808   SHA-256       True   PoW/PoS     0.000000e+00   \n",
       "\n",
       "  TotalCoinSupply  \n",
       "0              42  \n",
       "1      2300000000  \n",
       "2       532000000  \n",
       "3          611000  \n",
       "4               0  "
      ]
     },
     "execution_count": 150,
     "metadata": {},
     "output_type": "execute_result"
    }
   ],
   "source": [
    "# Load the crypto_data.csv dataset.\n",
    "crypto_df = pd.read_csv('crypto_data.csv')\n",
    "crypto_df.head()"
   ]
  },
  {
   "cell_type": "code",
   "execution_count": 151,
   "metadata": {},
   "outputs": [
    {
     "data": {
      "text/html": [
       "<div>\n",
       "<style scoped>\n",
       "    .dataframe tbody tr th:only-of-type {\n",
       "        vertical-align: middle;\n",
       "    }\n",
       "\n",
       "    .dataframe tbody tr th {\n",
       "        vertical-align: top;\n",
       "    }\n",
       "\n",
       "    .dataframe thead th {\n",
       "        text-align: right;\n",
       "    }\n",
       "</style>\n",
       "<table border=\"1\" class=\"dataframe\">\n",
       "  <thead>\n",
       "    <tr style=\"text-align: right;\">\n",
       "      <th></th>\n",
       "      <th>CoinName</th>\n",
       "      <th>Algorithm</th>\n",
       "      <th>IsTrading</th>\n",
       "      <th>ProofType</th>\n",
       "      <th>TotalCoinsMined</th>\n",
       "      <th>TotalCoinSupply</th>\n",
       "    </tr>\n",
       "    <tr>\n",
       "      <th></th>\n",
       "      <th></th>\n",
       "      <th></th>\n",
       "      <th></th>\n",
       "      <th></th>\n",
       "      <th></th>\n",
       "      <th></th>\n",
       "    </tr>\n",
       "  </thead>\n",
       "  <tbody>\n",
       "    <tr>\n",
       "      <th>42</th>\n",
       "      <td>42 Coin</td>\n",
       "      <td>Scrypt</td>\n",
       "      <td>True</td>\n",
       "      <td>PoW/PoS</td>\n",
       "      <td>4.199995e+01</td>\n",
       "      <td>42</td>\n",
       "    </tr>\n",
       "    <tr>\n",
       "      <th>365</th>\n",
       "      <td>365Coin</td>\n",
       "      <td>X11</td>\n",
       "      <td>True</td>\n",
       "      <td>PoW/PoS</td>\n",
       "      <td>NaN</td>\n",
       "      <td>2300000000</td>\n",
       "    </tr>\n",
       "    <tr>\n",
       "      <th>404</th>\n",
       "      <td>404Coin</td>\n",
       "      <td>Scrypt</td>\n",
       "      <td>True</td>\n",
       "      <td>PoW/PoS</td>\n",
       "      <td>1.055185e+09</td>\n",
       "      <td>532000000</td>\n",
       "    </tr>\n",
       "    <tr>\n",
       "      <th>611</th>\n",
       "      <td>SixEleven</td>\n",
       "      <td>SHA-256</td>\n",
       "      <td>True</td>\n",
       "      <td>PoW</td>\n",
       "      <td>NaN</td>\n",
       "      <td>611000</td>\n",
       "    </tr>\n",
       "    <tr>\n",
       "      <th>808</th>\n",
       "      <td>808</td>\n",
       "      <td>SHA-256</td>\n",
       "      <td>True</td>\n",
       "      <td>PoW/PoS</td>\n",
       "      <td>0.000000e+00</td>\n",
       "      <td>0</td>\n",
       "    </tr>\n",
       "  </tbody>\n",
       "</table>\n",
       "</div>"
      ],
      "text/plain": [
       "      CoinName Algorithm  IsTrading ProofType  TotalCoinsMined TotalCoinSupply\n",
       "                                                                              \n",
       "42     42 Coin    Scrypt       True   PoW/PoS     4.199995e+01              42\n",
       "365    365Coin       X11       True   PoW/PoS              NaN      2300000000\n",
       "404    404Coin    Scrypt       True   PoW/PoS     1.055185e+09       532000000\n",
       "611  SixEleven   SHA-256       True       PoW              NaN          611000\n",
       "808        808   SHA-256       True   PoW/PoS     0.000000e+00               0"
      ]
     },
     "execution_count": 151,
     "metadata": {},
     "output_type": "execute_result"
    }
   ],
   "source": [
    "crypto_df = crypto_df.rename(columns={'Unnamed: 0': ' '})\n",
    "crypto_df = crypto_df.set_index(' ')\n",
    "crypto_df.head()"
   ]
  },
  {
   "cell_type": "code",
   "execution_count": 152,
   "metadata": {},
   "outputs": [
    {
     "data": {
      "text/html": [
       "<div>\n",
       "<style scoped>\n",
       "    .dataframe tbody tr th:only-of-type {\n",
       "        vertical-align: middle;\n",
       "    }\n",
       "\n",
       "    .dataframe tbody tr th {\n",
       "        vertical-align: top;\n",
       "    }\n",
       "\n",
       "    .dataframe thead th {\n",
       "        text-align: right;\n",
       "    }\n",
       "</style>\n",
       "<table border=\"1\" class=\"dataframe\">\n",
       "  <thead>\n",
       "    <tr style=\"text-align: right;\">\n",
       "      <th></th>\n",
       "      <th>CoinName</th>\n",
       "      <th>Algorithm</th>\n",
       "      <th>IsTrading</th>\n",
       "      <th>ProofType</th>\n",
       "      <th>TotalCoinsMined</th>\n",
       "      <th>TotalCoinSupply</th>\n",
       "    </tr>\n",
       "    <tr>\n",
       "      <th></th>\n",
       "      <th></th>\n",
       "      <th></th>\n",
       "      <th></th>\n",
       "      <th></th>\n",
       "      <th></th>\n",
       "      <th></th>\n",
       "    </tr>\n",
       "  </thead>\n",
       "  <tbody>\n",
       "    <tr>\n",
       "      <th>42</th>\n",
       "      <td>42 Coin</td>\n",
       "      <td>Scrypt</td>\n",
       "      <td>True</td>\n",
       "      <td>PoW/PoS</td>\n",
       "      <td>4.199995e+01</td>\n",
       "      <td>42</td>\n",
       "    </tr>\n",
       "    <tr>\n",
       "      <th>365</th>\n",
       "      <td>365Coin</td>\n",
       "      <td>X11</td>\n",
       "      <td>True</td>\n",
       "      <td>PoW/PoS</td>\n",
       "      <td>NaN</td>\n",
       "      <td>2300000000</td>\n",
       "    </tr>\n",
       "    <tr>\n",
       "      <th>404</th>\n",
       "      <td>404Coin</td>\n",
       "      <td>Scrypt</td>\n",
       "      <td>True</td>\n",
       "      <td>PoW/PoS</td>\n",
       "      <td>1.055185e+09</td>\n",
       "      <td>532000000</td>\n",
       "    </tr>\n",
       "    <tr>\n",
       "      <th>611</th>\n",
       "      <td>SixEleven</td>\n",
       "      <td>SHA-256</td>\n",
       "      <td>True</td>\n",
       "      <td>PoW</td>\n",
       "      <td>NaN</td>\n",
       "      <td>611000</td>\n",
       "    </tr>\n",
       "    <tr>\n",
       "      <th>808</th>\n",
       "      <td>808</td>\n",
       "      <td>SHA-256</td>\n",
       "      <td>True</td>\n",
       "      <td>PoW/PoS</td>\n",
       "      <td>0.000000e+00</td>\n",
       "      <td>0</td>\n",
       "    </tr>\n",
       "  </tbody>\n",
       "</table>\n",
       "</div>"
      ],
      "text/plain": [
       "      CoinName Algorithm  IsTrading ProofType  TotalCoinsMined TotalCoinSupply\n",
       "                                                                              \n",
       "42     42 Coin    Scrypt       True   PoW/PoS     4.199995e+01              42\n",
       "365    365Coin       X11       True   PoW/PoS              NaN      2300000000\n",
       "404    404Coin    Scrypt       True   PoW/PoS     1.055185e+09       532000000\n",
       "611  SixEleven   SHA-256       True       PoW              NaN          611000\n",
       "808        808   SHA-256       True   PoW/PoS     0.000000e+00               0"
      ]
     },
     "execution_count": 152,
     "metadata": {},
     "output_type": "execute_result"
    }
   ],
   "source": [
    "# Keep all the cryptocurrencies that are being traded.\n",
    "crypto_df = crypto_df.loc[crypto_df['IsTrading'] == True]\n",
    "crypto_df.head()"
   ]
  },
  {
   "cell_type": "code",
   "execution_count": 153,
   "metadata": {},
   "outputs": [
    {
     "data": {
      "text/html": [
       "<div>\n",
       "<style scoped>\n",
       "    .dataframe tbody tr th:only-of-type {\n",
       "        vertical-align: middle;\n",
       "    }\n",
       "\n",
       "    .dataframe tbody tr th {\n",
       "        vertical-align: top;\n",
       "    }\n",
       "\n",
       "    .dataframe thead th {\n",
       "        text-align: right;\n",
       "    }\n",
       "</style>\n",
       "<table border=\"1\" class=\"dataframe\">\n",
       "  <thead>\n",
       "    <tr style=\"text-align: right;\">\n",
       "      <th></th>\n",
       "      <th>CoinName</th>\n",
       "      <th>Algorithm</th>\n",
       "      <th>IsTrading</th>\n",
       "      <th>ProofType</th>\n",
       "      <th>TotalCoinsMined</th>\n",
       "      <th>TotalCoinSupply</th>\n",
       "    </tr>\n",
       "    <tr>\n",
       "      <th></th>\n",
       "      <th></th>\n",
       "      <th></th>\n",
       "      <th></th>\n",
       "      <th></th>\n",
       "      <th></th>\n",
       "      <th></th>\n",
       "    </tr>\n",
       "  </thead>\n",
       "  <tbody>\n",
       "    <tr>\n",
       "      <th>42</th>\n",
       "      <td>42 Coin</td>\n",
       "      <td>Scrypt</td>\n",
       "      <td>True</td>\n",
       "      <td>PoW/PoS</td>\n",
       "      <td>4.199995e+01</td>\n",
       "      <td>42</td>\n",
       "    </tr>\n",
       "    <tr>\n",
       "      <th>365</th>\n",
       "      <td>365Coin</td>\n",
       "      <td>X11</td>\n",
       "      <td>True</td>\n",
       "      <td>PoW/PoS</td>\n",
       "      <td>NaN</td>\n",
       "      <td>2300000000</td>\n",
       "    </tr>\n",
       "    <tr>\n",
       "      <th>404</th>\n",
       "      <td>404Coin</td>\n",
       "      <td>Scrypt</td>\n",
       "      <td>True</td>\n",
       "      <td>PoW/PoS</td>\n",
       "      <td>1.055185e+09</td>\n",
       "      <td>532000000</td>\n",
       "    </tr>\n",
       "    <tr>\n",
       "      <th>611</th>\n",
       "      <td>SixEleven</td>\n",
       "      <td>SHA-256</td>\n",
       "      <td>True</td>\n",
       "      <td>PoW</td>\n",
       "      <td>NaN</td>\n",
       "      <td>611000</td>\n",
       "    </tr>\n",
       "    <tr>\n",
       "      <th>808</th>\n",
       "      <td>808</td>\n",
       "      <td>SHA-256</td>\n",
       "      <td>True</td>\n",
       "      <td>PoW/PoS</td>\n",
       "      <td>0.000000e+00</td>\n",
       "      <td>0</td>\n",
       "    </tr>\n",
       "  </tbody>\n",
       "</table>\n",
       "</div>"
      ],
      "text/plain": [
       "      CoinName Algorithm  IsTrading ProofType  TotalCoinsMined TotalCoinSupply\n",
       "                                                                              \n",
       "42     42 Coin    Scrypt       True   PoW/PoS     4.199995e+01              42\n",
       "365    365Coin       X11       True   PoW/PoS              NaN      2300000000\n",
       "404    404Coin    Scrypt       True   PoW/PoS     1.055185e+09       532000000\n",
       "611  SixEleven   SHA-256       True       PoW              NaN          611000\n",
       "808        808   SHA-256       True   PoW/PoS     0.000000e+00               0"
      ]
     },
     "execution_count": 153,
     "metadata": {},
     "output_type": "execute_result"
    }
   ],
   "source": [
    "# Keep all the cryptocurrencies that have a working algorithm.\n",
    "crypto_df.head()"
   ]
  },
  {
   "cell_type": "code",
   "execution_count": 154,
   "metadata": {},
   "outputs": [
    {
     "data": {
      "text/html": [
       "<div>\n",
       "<style scoped>\n",
       "    .dataframe tbody tr th:only-of-type {\n",
       "        vertical-align: middle;\n",
       "    }\n",
       "\n",
       "    .dataframe tbody tr th {\n",
       "        vertical-align: top;\n",
       "    }\n",
       "\n",
       "    .dataframe thead th {\n",
       "        text-align: right;\n",
       "    }\n",
       "</style>\n",
       "<table border=\"1\" class=\"dataframe\">\n",
       "  <thead>\n",
       "    <tr style=\"text-align: right;\">\n",
       "      <th></th>\n",
       "      <th>CoinName</th>\n",
       "      <th>Algorithm</th>\n",
       "      <th>ProofType</th>\n",
       "      <th>TotalCoinsMined</th>\n",
       "      <th>TotalCoinSupply</th>\n",
       "    </tr>\n",
       "    <tr>\n",
       "      <th></th>\n",
       "      <th></th>\n",
       "      <th></th>\n",
       "      <th></th>\n",
       "      <th></th>\n",
       "      <th></th>\n",
       "    </tr>\n",
       "  </thead>\n",
       "  <tbody>\n",
       "    <tr>\n",
       "      <th>42</th>\n",
       "      <td>42 Coin</td>\n",
       "      <td>Scrypt</td>\n",
       "      <td>PoW/PoS</td>\n",
       "      <td>4.199995e+01</td>\n",
       "      <td>42</td>\n",
       "    </tr>\n",
       "    <tr>\n",
       "      <th>365</th>\n",
       "      <td>365Coin</td>\n",
       "      <td>X11</td>\n",
       "      <td>PoW/PoS</td>\n",
       "      <td>NaN</td>\n",
       "      <td>2300000000</td>\n",
       "    </tr>\n",
       "    <tr>\n",
       "      <th>404</th>\n",
       "      <td>404Coin</td>\n",
       "      <td>Scrypt</td>\n",
       "      <td>PoW/PoS</td>\n",
       "      <td>1.055185e+09</td>\n",
       "      <td>532000000</td>\n",
       "    </tr>\n",
       "    <tr>\n",
       "      <th>611</th>\n",
       "      <td>SixEleven</td>\n",
       "      <td>SHA-256</td>\n",
       "      <td>PoW</td>\n",
       "      <td>NaN</td>\n",
       "      <td>611000</td>\n",
       "    </tr>\n",
       "    <tr>\n",
       "      <th>808</th>\n",
       "      <td>808</td>\n",
       "      <td>SHA-256</td>\n",
       "      <td>PoW/PoS</td>\n",
       "      <td>0.000000e+00</td>\n",
       "      <td>0</td>\n",
       "    </tr>\n",
       "    <tr>\n",
       "      <th>1337</th>\n",
       "      <td>EliteCoin</td>\n",
       "      <td>X13</td>\n",
       "      <td>PoW/PoS</td>\n",
       "      <td>2.927942e+10</td>\n",
       "      <td>314159265359</td>\n",
       "    </tr>\n",
       "    <tr>\n",
       "      <th>2015</th>\n",
       "      <td>2015 coin</td>\n",
       "      <td>X11</td>\n",
       "      <td>PoW/PoS</td>\n",
       "      <td>NaN</td>\n",
       "      <td>0</td>\n",
       "    </tr>\n",
       "    <tr>\n",
       "      <th>BTC</th>\n",
       "      <td>Bitcoin</td>\n",
       "      <td>SHA-256</td>\n",
       "      <td>PoW</td>\n",
       "      <td>1.792718e+07</td>\n",
       "      <td>21000000</td>\n",
       "    </tr>\n",
       "    <tr>\n",
       "      <th>ETH</th>\n",
       "      <td>Ethereum</td>\n",
       "      <td>Ethash</td>\n",
       "      <td>PoW</td>\n",
       "      <td>1.076842e+08</td>\n",
       "      <td>0</td>\n",
       "    </tr>\n",
       "    <tr>\n",
       "      <th>LTC</th>\n",
       "      <td>Litecoin</td>\n",
       "      <td>Scrypt</td>\n",
       "      <td>PoW</td>\n",
       "      <td>6.303924e+07</td>\n",
       "      <td>84000000</td>\n",
       "    </tr>\n",
       "  </tbody>\n",
       "</table>\n",
       "</div>"
      ],
      "text/plain": [
       "       CoinName Algorithm ProofType  TotalCoinsMined TotalCoinSupply\n",
       "                                                                    \n",
       "42      42 Coin    Scrypt   PoW/PoS     4.199995e+01              42\n",
       "365     365Coin       X11   PoW/PoS              NaN      2300000000\n",
       "404     404Coin    Scrypt   PoW/PoS     1.055185e+09       532000000\n",
       "611   SixEleven   SHA-256       PoW              NaN          611000\n",
       "808         808   SHA-256   PoW/PoS     0.000000e+00               0\n",
       "1337  EliteCoin       X13   PoW/PoS     2.927942e+10    314159265359\n",
       "2015  2015 coin       X11   PoW/PoS              NaN               0\n",
       "BTC     Bitcoin   SHA-256       PoW     1.792718e+07        21000000\n",
       "ETH    Ethereum    Ethash       PoW     1.076842e+08               0\n",
       "LTC    Litecoin    Scrypt       PoW     6.303924e+07        84000000"
      ]
     },
     "execution_count": 154,
     "metadata": {},
     "output_type": "execute_result"
    }
   ],
   "source": [
    "# Remove the \"IsTrading\" column. \n",
    "crypto_df = crypto_df.drop(columns=['IsTrading'], axis=1)\n",
    "crypto_df.head(10)"
   ]
  },
  {
   "cell_type": "code",
   "execution_count": 155,
   "metadata": {},
   "outputs": [
    {
     "data": {
      "text/html": [
       "<div>\n",
       "<style scoped>\n",
       "    .dataframe tbody tr th:only-of-type {\n",
       "        vertical-align: middle;\n",
       "    }\n",
       "\n",
       "    .dataframe tbody tr th {\n",
       "        vertical-align: top;\n",
       "    }\n",
       "\n",
       "    .dataframe thead th {\n",
       "        text-align: right;\n",
       "    }\n",
       "</style>\n",
       "<table border=\"1\" class=\"dataframe\">\n",
       "  <thead>\n",
       "    <tr style=\"text-align: right;\">\n",
       "      <th></th>\n",
       "      <th>CoinName</th>\n",
       "      <th>Algorithm</th>\n",
       "      <th>ProofType</th>\n",
       "      <th>TotalCoinsMined</th>\n",
       "      <th>TotalCoinSupply</th>\n",
       "    </tr>\n",
       "    <tr>\n",
       "      <th></th>\n",
       "      <th></th>\n",
       "      <th></th>\n",
       "      <th></th>\n",
       "      <th></th>\n",
       "      <th></th>\n",
       "    </tr>\n",
       "  </thead>\n",
       "  <tbody>\n",
       "    <tr>\n",
       "      <th>42</th>\n",
       "      <td>42 Coin</td>\n",
       "      <td>Scrypt</td>\n",
       "      <td>PoW/PoS</td>\n",
       "      <td>4.199995e+01</td>\n",
       "      <td>42</td>\n",
       "    </tr>\n",
       "    <tr>\n",
       "      <th>404</th>\n",
       "      <td>404Coin</td>\n",
       "      <td>Scrypt</td>\n",
       "      <td>PoW/PoS</td>\n",
       "      <td>1.055185e+09</td>\n",
       "      <td>532000000</td>\n",
       "    </tr>\n",
       "    <tr>\n",
       "      <th>808</th>\n",
       "      <td>808</td>\n",
       "      <td>SHA-256</td>\n",
       "      <td>PoW/PoS</td>\n",
       "      <td>0.000000e+00</td>\n",
       "      <td>0</td>\n",
       "    </tr>\n",
       "    <tr>\n",
       "      <th>1337</th>\n",
       "      <td>EliteCoin</td>\n",
       "      <td>X13</td>\n",
       "      <td>PoW/PoS</td>\n",
       "      <td>2.927942e+10</td>\n",
       "      <td>314159265359</td>\n",
       "    </tr>\n",
       "    <tr>\n",
       "      <th>BTC</th>\n",
       "      <td>Bitcoin</td>\n",
       "      <td>SHA-256</td>\n",
       "      <td>PoW</td>\n",
       "      <td>1.792718e+07</td>\n",
       "      <td>21000000</td>\n",
       "    </tr>\n",
       "    <tr>\n",
       "      <th>ETH</th>\n",
       "      <td>Ethereum</td>\n",
       "      <td>Ethash</td>\n",
       "      <td>PoW</td>\n",
       "      <td>1.076842e+08</td>\n",
       "      <td>0</td>\n",
       "    </tr>\n",
       "    <tr>\n",
       "      <th>LTC</th>\n",
       "      <td>Litecoin</td>\n",
       "      <td>Scrypt</td>\n",
       "      <td>PoW</td>\n",
       "      <td>6.303924e+07</td>\n",
       "      <td>84000000</td>\n",
       "    </tr>\n",
       "    <tr>\n",
       "      <th>DASH</th>\n",
       "      <td>Dash</td>\n",
       "      <td>X11</td>\n",
       "      <td>PoW/PoS</td>\n",
       "      <td>9.031294e+06</td>\n",
       "      <td>22000000</td>\n",
       "    </tr>\n",
       "    <tr>\n",
       "      <th>XMR</th>\n",
       "      <td>Monero</td>\n",
       "      <td>CryptoNight-V7</td>\n",
       "      <td>PoW</td>\n",
       "      <td>1.720114e+07</td>\n",
       "      <td>0</td>\n",
       "    </tr>\n",
       "    <tr>\n",
       "      <th>ETC</th>\n",
       "      <td>Ethereum Classic</td>\n",
       "      <td>Ethash</td>\n",
       "      <td>PoW</td>\n",
       "      <td>1.133597e+08</td>\n",
       "      <td>210000000</td>\n",
       "    </tr>\n",
       "  </tbody>\n",
       "</table>\n",
       "</div>"
      ],
      "text/plain": [
       "              CoinName       Algorithm ProofType  TotalCoinsMined  \\\n",
       "                                                                    \n",
       "42             42 Coin          Scrypt   PoW/PoS     4.199995e+01   \n",
       "404            404Coin          Scrypt   PoW/PoS     1.055185e+09   \n",
       "808                808         SHA-256   PoW/PoS     0.000000e+00   \n",
       "1337         EliteCoin             X13   PoW/PoS     2.927942e+10   \n",
       "BTC            Bitcoin         SHA-256       PoW     1.792718e+07   \n",
       "ETH           Ethereum          Ethash       PoW     1.076842e+08   \n",
       "LTC           Litecoin          Scrypt       PoW     6.303924e+07   \n",
       "DASH              Dash             X11   PoW/PoS     9.031294e+06   \n",
       "XMR             Monero  CryptoNight-V7       PoW     1.720114e+07   \n",
       "ETC   Ethereum Classic          Ethash       PoW     1.133597e+08   \n",
       "\n",
       "     TotalCoinSupply  \n",
       "                      \n",
       "42                42  \n",
       "404        532000000  \n",
       "808                0  \n",
       "1337    314159265359  \n",
       "BTC         21000000  \n",
       "ETH                0  \n",
       "LTC         84000000  \n",
       "DASH        22000000  \n",
       "XMR                0  \n",
       "ETC        210000000  "
      ]
     },
     "execution_count": 155,
     "metadata": {},
     "output_type": "execute_result"
    }
   ],
   "source": [
    "# Remove rows that have at least 1 null value.\n",
    "crypto_df = crypto_df.dropna(axis=0)\n",
    "crypto_df.head(10)"
   ]
  },
  {
   "cell_type": "code",
   "execution_count": 156,
   "metadata": {},
   "outputs": [
    {
     "data": {
      "text/html": [
       "<div>\n",
       "<style scoped>\n",
       "    .dataframe tbody tr th:only-of-type {\n",
       "        vertical-align: middle;\n",
       "    }\n",
       "\n",
       "    .dataframe tbody tr th {\n",
       "        vertical-align: top;\n",
       "    }\n",
       "\n",
       "    .dataframe thead th {\n",
       "        text-align: right;\n",
       "    }\n",
       "</style>\n",
       "<table border=\"1\" class=\"dataframe\">\n",
       "  <thead>\n",
       "    <tr style=\"text-align: right;\">\n",
       "      <th></th>\n",
       "      <th>CoinName</th>\n",
       "      <th>Algorithm</th>\n",
       "      <th>ProofType</th>\n",
       "      <th>TotalCoinsMined</th>\n",
       "      <th>TotalCoinSupply</th>\n",
       "    </tr>\n",
       "    <tr>\n",
       "      <th></th>\n",
       "      <th></th>\n",
       "      <th></th>\n",
       "      <th></th>\n",
       "      <th></th>\n",
       "      <th></th>\n",
       "    </tr>\n",
       "  </thead>\n",
       "  <tbody>\n",
       "    <tr>\n",
       "      <th>42</th>\n",
       "      <td>42 Coin</td>\n",
       "      <td>Scrypt</td>\n",
       "      <td>PoW/PoS</td>\n",
       "      <td>4.199995e+01</td>\n",
       "      <td>42</td>\n",
       "    </tr>\n",
       "    <tr>\n",
       "      <th>404</th>\n",
       "      <td>404Coin</td>\n",
       "      <td>Scrypt</td>\n",
       "      <td>PoW/PoS</td>\n",
       "      <td>1.055185e+09</td>\n",
       "      <td>532000000</td>\n",
       "    </tr>\n",
       "    <tr>\n",
       "      <th>1337</th>\n",
       "      <td>EliteCoin</td>\n",
       "      <td>X13</td>\n",
       "      <td>PoW/PoS</td>\n",
       "      <td>2.927942e+10</td>\n",
       "      <td>314159265359</td>\n",
       "    </tr>\n",
       "    <tr>\n",
       "      <th>BTC</th>\n",
       "      <td>Bitcoin</td>\n",
       "      <td>SHA-256</td>\n",
       "      <td>PoW</td>\n",
       "      <td>1.792718e+07</td>\n",
       "      <td>21000000</td>\n",
       "    </tr>\n",
       "    <tr>\n",
       "      <th>ETH</th>\n",
       "      <td>Ethereum</td>\n",
       "      <td>Ethash</td>\n",
       "      <td>PoW</td>\n",
       "      <td>1.076842e+08</td>\n",
       "      <td>0</td>\n",
       "    </tr>\n",
       "    <tr>\n",
       "      <th>LTC</th>\n",
       "      <td>Litecoin</td>\n",
       "      <td>Scrypt</td>\n",
       "      <td>PoW</td>\n",
       "      <td>6.303924e+07</td>\n",
       "      <td>84000000</td>\n",
       "    </tr>\n",
       "    <tr>\n",
       "      <th>DASH</th>\n",
       "      <td>Dash</td>\n",
       "      <td>X11</td>\n",
       "      <td>PoW/PoS</td>\n",
       "      <td>9.031294e+06</td>\n",
       "      <td>22000000</td>\n",
       "    </tr>\n",
       "    <tr>\n",
       "      <th>XMR</th>\n",
       "      <td>Monero</td>\n",
       "      <td>CryptoNight-V7</td>\n",
       "      <td>PoW</td>\n",
       "      <td>1.720114e+07</td>\n",
       "      <td>0</td>\n",
       "    </tr>\n",
       "    <tr>\n",
       "      <th>ETC</th>\n",
       "      <td>Ethereum Classic</td>\n",
       "      <td>Ethash</td>\n",
       "      <td>PoW</td>\n",
       "      <td>1.133597e+08</td>\n",
       "      <td>210000000</td>\n",
       "    </tr>\n",
       "    <tr>\n",
       "      <th>ZEC</th>\n",
       "      <td>ZCash</td>\n",
       "      <td>Equihash</td>\n",
       "      <td>PoW</td>\n",
       "      <td>7.383056e+06</td>\n",
       "      <td>21000000</td>\n",
       "    </tr>\n",
       "  </tbody>\n",
       "</table>\n",
       "</div>"
      ],
      "text/plain": [
       "              CoinName       Algorithm ProofType  TotalCoinsMined  \\\n",
       "                                                                    \n",
       "42             42 Coin          Scrypt   PoW/PoS     4.199995e+01   \n",
       "404            404Coin          Scrypt   PoW/PoS     1.055185e+09   \n",
       "1337         EliteCoin             X13   PoW/PoS     2.927942e+10   \n",
       "BTC            Bitcoin         SHA-256       PoW     1.792718e+07   \n",
       "ETH           Ethereum          Ethash       PoW     1.076842e+08   \n",
       "LTC           Litecoin          Scrypt       PoW     6.303924e+07   \n",
       "DASH              Dash             X11   PoW/PoS     9.031294e+06   \n",
       "XMR             Monero  CryptoNight-V7       PoW     1.720114e+07   \n",
       "ETC   Ethereum Classic          Ethash       PoW     1.133597e+08   \n",
       "ZEC              ZCash        Equihash       PoW     7.383056e+06   \n",
       "\n",
       "     TotalCoinSupply  \n",
       "                      \n",
       "42                42  \n",
       "404        532000000  \n",
       "1337    314159265359  \n",
       "BTC         21000000  \n",
       "ETH                0  \n",
       "LTC         84000000  \n",
       "DASH        22000000  \n",
       "XMR                0  \n",
       "ETC        210000000  \n",
       "ZEC         21000000  "
      ]
     },
     "execution_count": 156,
     "metadata": {},
     "output_type": "execute_result"
    }
   ],
   "source": [
    "# Keep the rows where coins are mined.\n",
    "crypto_df = crypto_df.loc[crypto_df['TotalCoinsMined'] > 0]\n",
    "crypto_df.shape\n",
    "crypto_df.head(10)"
   ]
  },
  {
   "cell_type": "code",
   "execution_count": 157,
   "metadata": {},
   "outputs": [
    {
     "data": {
      "text/html": [
       "<div>\n",
       "<style scoped>\n",
       "    .dataframe tbody tr th:only-of-type {\n",
       "        vertical-align: middle;\n",
       "    }\n",
       "\n",
       "    .dataframe tbody tr th {\n",
       "        vertical-align: top;\n",
       "    }\n",
       "\n",
       "    .dataframe thead th {\n",
       "        text-align: right;\n",
       "    }\n",
       "</style>\n",
       "<table border=\"1\" class=\"dataframe\">\n",
       "  <thead>\n",
       "    <tr style=\"text-align: right;\">\n",
       "      <th></th>\n",
       "      <th>CoinName</th>\n",
       "    </tr>\n",
       "    <tr>\n",
       "      <th></th>\n",
       "      <th></th>\n",
       "    </tr>\n",
       "  </thead>\n",
       "  <tbody>\n",
       "    <tr>\n",
       "      <th>42</th>\n",
       "      <td>42 Coin</td>\n",
       "    </tr>\n",
       "    <tr>\n",
       "      <th>404</th>\n",
       "      <td>404Coin</td>\n",
       "    </tr>\n",
       "    <tr>\n",
       "      <th>1337</th>\n",
       "      <td>EliteCoin</td>\n",
       "    </tr>\n",
       "    <tr>\n",
       "      <th>BTC</th>\n",
       "      <td>Bitcoin</td>\n",
       "    </tr>\n",
       "    <tr>\n",
       "      <th>ETH</th>\n",
       "      <td>Ethereum</td>\n",
       "    </tr>\n",
       "  </tbody>\n",
       "</table>\n",
       "</div>"
      ],
      "text/plain": [
       "       CoinName\n",
       "               \n",
       "42      42 Coin\n",
       "404     404Coin\n",
       "1337  EliteCoin\n",
       "BTC     Bitcoin\n",
       "ETH    Ethereum"
      ]
     },
     "execution_count": 157,
     "metadata": {},
     "output_type": "execute_result"
    }
   ],
   "source": [
    "# Create a new DataFrame that holds only the cryptocurrencies names.\n",
    "crypto_names_df = crypto_df[['CoinName']].copy()\n",
    "crypto_names_df.head()"
   ]
  },
  {
   "cell_type": "code",
   "execution_count": 158,
   "metadata": {},
   "outputs": [
    {
     "data": {
      "text/html": [
       "<div>\n",
       "<style scoped>\n",
       "    .dataframe tbody tr th:only-of-type {\n",
       "        vertical-align: middle;\n",
       "    }\n",
       "\n",
       "    .dataframe tbody tr th {\n",
       "        vertical-align: top;\n",
       "    }\n",
       "\n",
       "    .dataframe thead th {\n",
       "        text-align: right;\n",
       "    }\n",
       "</style>\n",
       "<table border=\"1\" class=\"dataframe\">\n",
       "  <thead>\n",
       "    <tr style=\"text-align: right;\">\n",
       "      <th></th>\n",
       "      <th>Algorithm</th>\n",
       "      <th>ProofType</th>\n",
       "      <th>TotalCoinsMined</th>\n",
       "      <th>TotalCoinSupply</th>\n",
       "    </tr>\n",
       "    <tr>\n",
       "      <th></th>\n",
       "      <th></th>\n",
       "      <th></th>\n",
       "      <th></th>\n",
       "      <th></th>\n",
       "    </tr>\n",
       "  </thead>\n",
       "  <tbody>\n",
       "    <tr>\n",
       "      <th>42</th>\n",
       "      <td>Scrypt</td>\n",
       "      <td>PoW/PoS</td>\n",
       "      <td>4.199995e+01</td>\n",
       "      <td>42</td>\n",
       "    </tr>\n",
       "    <tr>\n",
       "      <th>404</th>\n",
       "      <td>Scrypt</td>\n",
       "      <td>PoW/PoS</td>\n",
       "      <td>1.055185e+09</td>\n",
       "      <td>532000000</td>\n",
       "    </tr>\n",
       "    <tr>\n",
       "      <th>1337</th>\n",
       "      <td>X13</td>\n",
       "      <td>PoW/PoS</td>\n",
       "      <td>2.927942e+10</td>\n",
       "      <td>314159265359</td>\n",
       "    </tr>\n",
       "    <tr>\n",
       "      <th>BTC</th>\n",
       "      <td>SHA-256</td>\n",
       "      <td>PoW</td>\n",
       "      <td>1.792718e+07</td>\n",
       "      <td>21000000</td>\n",
       "    </tr>\n",
       "    <tr>\n",
       "      <th>ETH</th>\n",
       "      <td>Ethash</td>\n",
       "      <td>PoW</td>\n",
       "      <td>1.076842e+08</td>\n",
       "      <td>0</td>\n",
       "    </tr>\n",
       "    <tr>\n",
       "      <th>LTC</th>\n",
       "      <td>Scrypt</td>\n",
       "      <td>PoW</td>\n",
       "      <td>6.303924e+07</td>\n",
       "      <td>84000000</td>\n",
       "    </tr>\n",
       "    <tr>\n",
       "      <th>DASH</th>\n",
       "      <td>X11</td>\n",
       "      <td>PoW/PoS</td>\n",
       "      <td>9.031294e+06</td>\n",
       "      <td>22000000</td>\n",
       "    </tr>\n",
       "    <tr>\n",
       "      <th>XMR</th>\n",
       "      <td>CryptoNight-V7</td>\n",
       "      <td>PoW</td>\n",
       "      <td>1.720114e+07</td>\n",
       "      <td>0</td>\n",
       "    </tr>\n",
       "    <tr>\n",
       "      <th>ETC</th>\n",
       "      <td>Ethash</td>\n",
       "      <td>PoW</td>\n",
       "      <td>1.133597e+08</td>\n",
       "      <td>210000000</td>\n",
       "    </tr>\n",
       "    <tr>\n",
       "      <th>ZEC</th>\n",
       "      <td>Equihash</td>\n",
       "      <td>PoW</td>\n",
       "      <td>7.383056e+06</td>\n",
       "      <td>21000000</td>\n",
       "    </tr>\n",
       "  </tbody>\n",
       "</table>\n",
       "</div>"
      ],
      "text/plain": [
       "           Algorithm ProofType  TotalCoinsMined TotalCoinSupply\n",
       "                                                               \n",
       "42            Scrypt   PoW/PoS     4.199995e+01              42\n",
       "404           Scrypt   PoW/PoS     1.055185e+09       532000000\n",
       "1337             X13   PoW/PoS     2.927942e+10    314159265359\n",
       "BTC          SHA-256       PoW     1.792718e+07        21000000\n",
       "ETH           Ethash       PoW     1.076842e+08               0\n",
       "LTC           Scrypt       PoW     6.303924e+07        84000000\n",
       "DASH             X11   PoW/PoS     9.031294e+06        22000000\n",
       "XMR   CryptoNight-V7       PoW     1.720114e+07               0\n",
       "ETC           Ethash       PoW     1.133597e+08       210000000\n",
       "ZEC         Equihash       PoW     7.383056e+06        21000000"
      ]
     },
     "execution_count": 158,
     "metadata": {},
     "output_type": "execute_result"
    }
   ],
   "source": [
    "# Drop the 'CoinName' column since it's not going to be used on the clustering algorithm.\n",
    "crypto_df = crypto_df.drop(columns=['CoinName'], axis=1)\n",
    "crypto_df.head(10)"
   ]
  },
  {
   "cell_type": "code",
   "execution_count": 159,
   "metadata": {},
   "outputs": [
    {
     "data": {
      "text/html": [
       "<div>\n",
       "<style scoped>\n",
       "    .dataframe tbody tr th:only-of-type {\n",
       "        vertical-align: middle;\n",
       "    }\n",
       "\n",
       "    .dataframe tbody tr th {\n",
       "        vertical-align: top;\n",
       "    }\n",
       "\n",
       "    .dataframe thead th {\n",
       "        text-align: right;\n",
       "    }\n",
       "</style>\n",
       "<table border=\"1\" class=\"dataframe\">\n",
       "  <thead>\n",
       "    <tr style=\"text-align: right;\">\n",
       "      <th></th>\n",
       "      <th>TotalCoinsMined</th>\n",
       "      <th>TotalCoinSupply</th>\n",
       "      <th>Algorithm_1GB AES Pattern Search</th>\n",
       "      <th>Algorithm_536</th>\n",
       "      <th>Algorithm_Argon2d</th>\n",
       "      <th>Algorithm_BLAKE256</th>\n",
       "      <th>Algorithm_Blake</th>\n",
       "      <th>Algorithm_Blake2S</th>\n",
       "      <th>Algorithm_Blake2b</th>\n",
       "      <th>Algorithm_C11</th>\n",
       "      <th>...</th>\n",
       "      <th>ProofType_PoW/PoS</th>\n",
       "      <th>ProofType_PoW/PoS</th>\n",
       "      <th>ProofType_PoW/PoW</th>\n",
       "      <th>ProofType_PoW/nPoS</th>\n",
       "      <th>ProofType_Pos</th>\n",
       "      <th>ProofType_Proof of Authority</th>\n",
       "      <th>ProofType_Proof of Trust</th>\n",
       "      <th>ProofType_TPoS</th>\n",
       "      <th>ProofType_Zero-Knowledge Proof</th>\n",
       "      <th>ProofType_dPoW/PoW</th>\n",
       "    </tr>\n",
       "    <tr>\n",
       "      <th></th>\n",
       "      <th></th>\n",
       "      <th></th>\n",
       "      <th></th>\n",
       "      <th></th>\n",
       "      <th></th>\n",
       "      <th></th>\n",
       "      <th></th>\n",
       "      <th></th>\n",
       "      <th></th>\n",
       "      <th></th>\n",
       "      <th></th>\n",
       "      <th></th>\n",
       "      <th></th>\n",
       "      <th></th>\n",
       "      <th></th>\n",
       "      <th></th>\n",
       "      <th></th>\n",
       "      <th></th>\n",
       "      <th></th>\n",
       "      <th></th>\n",
       "      <th></th>\n",
       "    </tr>\n",
       "  </thead>\n",
       "  <tbody>\n",
       "    <tr>\n",
       "      <th>42</th>\n",
       "      <td>4.199995e+01</td>\n",
       "      <td>42</td>\n",
       "      <td>0</td>\n",
       "      <td>0</td>\n",
       "      <td>0</td>\n",
       "      <td>0</td>\n",
       "      <td>0</td>\n",
       "      <td>0</td>\n",
       "      <td>0</td>\n",
       "      <td>0</td>\n",
       "      <td>...</td>\n",
       "      <td>1</td>\n",
       "      <td>0</td>\n",
       "      <td>0</td>\n",
       "      <td>0</td>\n",
       "      <td>0</td>\n",
       "      <td>0</td>\n",
       "      <td>0</td>\n",
       "      <td>0</td>\n",
       "      <td>0</td>\n",
       "      <td>0</td>\n",
       "    </tr>\n",
       "    <tr>\n",
       "      <th>404</th>\n",
       "      <td>1.055185e+09</td>\n",
       "      <td>532000000</td>\n",
       "      <td>0</td>\n",
       "      <td>0</td>\n",
       "      <td>0</td>\n",
       "      <td>0</td>\n",
       "      <td>0</td>\n",
       "      <td>0</td>\n",
       "      <td>0</td>\n",
       "      <td>0</td>\n",
       "      <td>...</td>\n",
       "      <td>1</td>\n",
       "      <td>0</td>\n",
       "      <td>0</td>\n",
       "      <td>0</td>\n",
       "      <td>0</td>\n",
       "      <td>0</td>\n",
       "      <td>0</td>\n",
       "      <td>0</td>\n",
       "      <td>0</td>\n",
       "      <td>0</td>\n",
       "    </tr>\n",
       "    <tr>\n",
       "      <th>1337</th>\n",
       "      <td>2.927942e+10</td>\n",
       "      <td>314159265359</td>\n",
       "      <td>0</td>\n",
       "      <td>0</td>\n",
       "      <td>0</td>\n",
       "      <td>0</td>\n",
       "      <td>0</td>\n",
       "      <td>0</td>\n",
       "      <td>0</td>\n",
       "      <td>0</td>\n",
       "      <td>...</td>\n",
       "      <td>1</td>\n",
       "      <td>0</td>\n",
       "      <td>0</td>\n",
       "      <td>0</td>\n",
       "      <td>0</td>\n",
       "      <td>0</td>\n",
       "      <td>0</td>\n",
       "      <td>0</td>\n",
       "      <td>0</td>\n",
       "      <td>0</td>\n",
       "    </tr>\n",
       "    <tr>\n",
       "      <th>BTC</th>\n",
       "      <td>1.792718e+07</td>\n",
       "      <td>21000000</td>\n",
       "      <td>0</td>\n",
       "      <td>0</td>\n",
       "      <td>0</td>\n",
       "      <td>0</td>\n",
       "      <td>0</td>\n",
       "      <td>0</td>\n",
       "      <td>0</td>\n",
       "      <td>0</td>\n",
       "      <td>...</td>\n",
       "      <td>0</td>\n",
       "      <td>0</td>\n",
       "      <td>0</td>\n",
       "      <td>0</td>\n",
       "      <td>0</td>\n",
       "      <td>0</td>\n",
       "      <td>0</td>\n",
       "      <td>0</td>\n",
       "      <td>0</td>\n",
       "      <td>0</td>\n",
       "    </tr>\n",
       "    <tr>\n",
       "      <th>ETH</th>\n",
       "      <td>1.076842e+08</td>\n",
       "      <td>0</td>\n",
       "      <td>0</td>\n",
       "      <td>0</td>\n",
       "      <td>0</td>\n",
       "      <td>0</td>\n",
       "      <td>0</td>\n",
       "      <td>0</td>\n",
       "      <td>0</td>\n",
       "      <td>0</td>\n",
       "      <td>...</td>\n",
       "      <td>0</td>\n",
       "      <td>0</td>\n",
       "      <td>0</td>\n",
       "      <td>0</td>\n",
       "      <td>0</td>\n",
       "      <td>0</td>\n",
       "      <td>0</td>\n",
       "      <td>0</td>\n",
       "      <td>0</td>\n",
       "      <td>0</td>\n",
       "    </tr>\n",
       "    <tr>\n",
       "      <th>LTC</th>\n",
       "      <td>6.303924e+07</td>\n",
       "      <td>84000000</td>\n",
       "      <td>0</td>\n",
       "      <td>0</td>\n",
       "      <td>0</td>\n",
       "      <td>0</td>\n",
       "      <td>0</td>\n",
       "      <td>0</td>\n",
       "      <td>0</td>\n",
       "      <td>0</td>\n",
       "      <td>...</td>\n",
       "      <td>0</td>\n",
       "      <td>0</td>\n",
       "      <td>0</td>\n",
       "      <td>0</td>\n",
       "      <td>0</td>\n",
       "      <td>0</td>\n",
       "      <td>0</td>\n",
       "      <td>0</td>\n",
       "      <td>0</td>\n",
       "      <td>0</td>\n",
       "    </tr>\n",
       "    <tr>\n",
       "      <th>DASH</th>\n",
       "      <td>9.031294e+06</td>\n",
       "      <td>22000000</td>\n",
       "      <td>0</td>\n",
       "      <td>0</td>\n",
       "      <td>0</td>\n",
       "      <td>0</td>\n",
       "      <td>0</td>\n",
       "      <td>0</td>\n",
       "      <td>0</td>\n",
       "      <td>0</td>\n",
       "      <td>...</td>\n",
       "      <td>1</td>\n",
       "      <td>0</td>\n",
       "      <td>0</td>\n",
       "      <td>0</td>\n",
       "      <td>0</td>\n",
       "      <td>0</td>\n",
       "      <td>0</td>\n",
       "      <td>0</td>\n",
       "      <td>0</td>\n",
       "      <td>0</td>\n",
       "    </tr>\n",
       "    <tr>\n",
       "      <th>XMR</th>\n",
       "      <td>1.720114e+07</td>\n",
       "      <td>0</td>\n",
       "      <td>0</td>\n",
       "      <td>0</td>\n",
       "      <td>0</td>\n",
       "      <td>0</td>\n",
       "      <td>0</td>\n",
       "      <td>0</td>\n",
       "      <td>0</td>\n",
       "      <td>0</td>\n",
       "      <td>...</td>\n",
       "      <td>0</td>\n",
       "      <td>0</td>\n",
       "      <td>0</td>\n",
       "      <td>0</td>\n",
       "      <td>0</td>\n",
       "      <td>0</td>\n",
       "      <td>0</td>\n",
       "      <td>0</td>\n",
       "      <td>0</td>\n",
       "      <td>0</td>\n",
       "    </tr>\n",
       "    <tr>\n",
       "      <th>ETC</th>\n",
       "      <td>1.133597e+08</td>\n",
       "      <td>210000000</td>\n",
       "      <td>0</td>\n",
       "      <td>0</td>\n",
       "      <td>0</td>\n",
       "      <td>0</td>\n",
       "      <td>0</td>\n",
       "      <td>0</td>\n",
       "      <td>0</td>\n",
       "      <td>0</td>\n",
       "      <td>...</td>\n",
       "      <td>0</td>\n",
       "      <td>0</td>\n",
       "      <td>0</td>\n",
       "      <td>0</td>\n",
       "      <td>0</td>\n",
       "      <td>0</td>\n",
       "      <td>0</td>\n",
       "      <td>0</td>\n",
       "      <td>0</td>\n",
       "      <td>0</td>\n",
       "    </tr>\n",
       "    <tr>\n",
       "      <th>ZEC</th>\n",
       "      <td>7.383056e+06</td>\n",
       "      <td>21000000</td>\n",
       "      <td>0</td>\n",
       "      <td>0</td>\n",
       "      <td>0</td>\n",
       "      <td>0</td>\n",
       "      <td>0</td>\n",
       "      <td>0</td>\n",
       "      <td>0</td>\n",
       "      <td>0</td>\n",
       "      <td>...</td>\n",
       "      <td>0</td>\n",
       "      <td>0</td>\n",
       "      <td>0</td>\n",
       "      <td>0</td>\n",
       "      <td>0</td>\n",
       "      <td>0</td>\n",
       "      <td>0</td>\n",
       "      <td>0</td>\n",
       "      <td>0</td>\n",
       "      <td>0</td>\n",
       "    </tr>\n",
       "  </tbody>\n",
       "</table>\n",
       "<p>10 rows × 98 columns</p>\n",
       "</div>"
      ],
      "text/plain": [
       "      TotalCoinsMined TotalCoinSupply  Algorithm_1GB AES Pattern Search  \\\n",
       "                                                                          \n",
       "42       4.199995e+01              42                                 0   \n",
       "404      1.055185e+09       532000000                                 0   \n",
       "1337     2.927942e+10    314159265359                                 0   \n",
       "BTC      1.792718e+07        21000000                                 0   \n",
       "ETH      1.076842e+08               0                                 0   \n",
       "LTC      6.303924e+07        84000000                                 0   \n",
       "DASH     9.031294e+06        22000000                                 0   \n",
       "XMR      1.720114e+07               0                                 0   \n",
       "ETC      1.133597e+08       210000000                                 0   \n",
       "ZEC      7.383056e+06        21000000                                 0   \n",
       "\n",
       "      Algorithm_536  Algorithm_Argon2d  Algorithm_BLAKE256  Algorithm_Blake  \\\n",
       "                                                                              \n",
       "42                0                  0                   0                0   \n",
       "404               0                  0                   0                0   \n",
       "1337              0                  0                   0                0   \n",
       "BTC               0                  0                   0                0   \n",
       "ETH               0                  0                   0                0   \n",
       "LTC               0                  0                   0                0   \n",
       "DASH              0                  0                   0                0   \n",
       "XMR               0                  0                   0                0   \n",
       "ETC               0                  0                   0                0   \n",
       "ZEC               0                  0                   0                0   \n",
       "\n",
       "      Algorithm_Blake2S  Algorithm_Blake2b  Algorithm_C11  ...  \\\n",
       "                                                           ...   \n",
       "42                    0                  0              0  ...   \n",
       "404                   0                  0              0  ...   \n",
       "1337                  0                  0              0  ...   \n",
       "BTC                   0                  0              0  ...   \n",
       "ETH                   0                  0              0  ...   \n",
       "LTC                   0                  0              0  ...   \n",
       "DASH                  0                  0              0  ...   \n",
       "XMR                   0                  0              0  ...   \n",
       "ETC                   0                  0              0  ...   \n",
       "ZEC                   0                  0              0  ...   \n",
       "\n",
       "      ProofType_PoW/PoS  ProofType_PoW/PoS   ProofType_PoW/PoW  \\\n",
       "                                                                 \n",
       "42                    1                   0                  0   \n",
       "404                   1                   0                  0   \n",
       "1337                  1                   0                  0   \n",
       "BTC                   0                   0                  0   \n",
       "ETH                   0                   0                  0   \n",
       "LTC                   0                   0                  0   \n",
       "DASH                  1                   0                  0   \n",
       "XMR                   0                   0                  0   \n",
       "ETC                   0                   0                  0   \n",
       "ZEC                   0                   0                  0   \n",
       "\n",
       "      ProofType_PoW/nPoS  ProofType_Pos  ProofType_Proof of Authority  \\\n",
       "                                                                        \n",
       "42                     0              0                             0   \n",
       "404                    0              0                             0   \n",
       "1337                   0              0                             0   \n",
       "BTC                    0              0                             0   \n",
       "ETH                    0              0                             0   \n",
       "LTC                    0              0                             0   \n",
       "DASH                   0              0                             0   \n",
       "XMR                    0              0                             0   \n",
       "ETC                    0              0                             0   \n",
       "ZEC                    0              0                             0   \n",
       "\n",
       "      ProofType_Proof of Trust  ProofType_TPoS  \\\n",
       "                                                 \n",
       "42                           0               0   \n",
       "404                          0               0   \n",
       "1337                         0               0   \n",
       "BTC                          0               0   \n",
       "ETH                          0               0   \n",
       "LTC                          0               0   \n",
       "DASH                         0               0   \n",
       "XMR                          0               0   \n",
       "ETC                          0               0   \n",
       "ZEC                          0               0   \n",
       "\n",
       "      ProofType_Zero-Knowledge Proof  ProofType_dPoW/PoW  \n",
       "                                                          \n",
       "42                                 0                   0  \n",
       "404                                0                   0  \n",
       "1337                               0                   0  \n",
       "BTC                                0                   0  \n",
       "ETH                                0                   0  \n",
       "LTC                                0                   0  \n",
       "DASH                               0                   0  \n",
       "XMR                                0                   0  \n",
       "ETC                                0                   0  \n",
       "ZEC                                0                   0  \n",
       "\n",
       "[10 rows x 98 columns]"
      ]
     },
     "execution_count": 159,
     "metadata": {},
     "output_type": "execute_result"
    }
   ],
   "source": [
    "# Use get_dummies() to create variables for text features.\n",
    "X = pd.get_dummies(crypto_df, columns=['Algorithm', 'ProofType'])\n",
    "X.head(10)"
   ]
  },
  {
   "cell_type": "code",
   "execution_count": 160,
   "metadata": {},
   "outputs": [
    {
     "name": "stdout",
     "output_type": "stream",
     "text": [
      "[[-0.11710817 -0.1528703  -0.0433963  -0.0433963  -0.0433963  -0.06142951\n",
      "  -0.07530656 -0.0433963  -0.06142951 -0.06142951 -0.0433963  -0.0433963\n",
      "  -0.19245009 -0.06142951 -0.09740465 -0.0433963  -0.11547005 -0.07530656\n",
      "  -0.0433963  -0.0433963  -0.15191091 -0.0433963  -0.13118084 -0.0433963\n",
      "  -0.0433963  -0.08703883 -0.0433963  -0.0433963  -0.0433963  -0.0433963\n",
      "  -0.06142951 -0.0433963  -0.08703883 -0.08703883 -0.08703883 -0.0433963\n",
      "  -0.13118084 -0.13840913 -0.13840913 -0.0433963  -0.06142951 -0.0433963\n",
      "  -0.07530656 -0.18168574 -0.0433963  -0.0433963  -0.0433963  -0.07530656\n",
      "  -0.15826614 -0.31491833 -0.0433963  -0.08703883 -0.07530656 -0.06142951\n",
      "   1.38675049 -0.0433963  -0.0433963  -0.06142951 -0.0433963  -0.0433963\n",
      "  -0.0433963  -0.0433963  -0.0433963  -0.0433963  -0.0433963  -0.0433963\n",
      "  -0.39879994 -0.0433963  -0.18168574 -0.0433963  -0.08703883 -0.08703883\n",
      "  -0.10680283 -0.0433963  -0.13118084 -0.0433963  -0.0433963  -0.0433963\n",
      "  -0.0433963  -0.07530656 -0.43911856 -0.0433963  -0.06142951 -0.0433963\n",
      "  -0.0433963  -0.89632016 -0.0433963  -0.0433963   1.42222617 -0.0433963\n",
      "  -0.0433963  -0.0433963  -0.0433963  -0.0433963  -0.0433963  -0.0433963\n",
      "  -0.0433963  -0.0433963 ]\n",
      " [-0.09396955 -0.145009   -0.0433963  -0.0433963  -0.0433963  -0.06142951\n",
      "  -0.07530656 -0.0433963  -0.06142951 -0.06142951 -0.0433963  -0.0433963\n",
      "  -0.19245009 -0.06142951 -0.09740465 -0.0433963  -0.11547005 -0.07530656\n",
      "  -0.0433963  -0.0433963  -0.15191091 -0.0433963  -0.13118084 -0.0433963\n",
      "  -0.0433963  -0.08703883 -0.0433963  -0.0433963  -0.0433963  -0.0433963\n",
      "  -0.06142951 -0.0433963  -0.08703883 -0.08703883 -0.08703883 -0.0433963\n",
      "  -0.13118084 -0.13840913 -0.13840913 -0.0433963  -0.06142951 -0.0433963\n",
      "  -0.07530656 -0.18168574 -0.0433963  -0.0433963  -0.0433963  -0.07530656\n",
      "  -0.15826614 -0.31491833 -0.0433963  -0.08703883 -0.07530656 -0.06142951\n",
      "   1.38675049 -0.0433963  -0.0433963  -0.06142951 -0.0433963  -0.0433963\n",
      "  -0.0433963  -0.0433963  -0.0433963  -0.0433963  -0.0433963  -0.0433963\n",
      "  -0.39879994 -0.0433963  -0.18168574 -0.0433963  -0.08703883 -0.08703883\n",
      "  -0.10680283 -0.0433963  -0.13118084 -0.0433963  -0.0433963  -0.0433963\n",
      "  -0.0433963  -0.07530656 -0.43911856 -0.0433963  -0.06142951 -0.0433963\n",
      "  -0.0433963  -0.89632016 -0.0433963  -0.0433963   1.42222617 -0.0433963\n",
      "  -0.0433963  -0.0433963  -0.0433963  -0.0433963  -0.0433963  -0.0433963\n",
      "  -0.0433963  -0.0433963 ]\n",
      " [ 0.52494561  4.48942416 -0.0433963  -0.0433963  -0.0433963  -0.06142951\n",
      "  -0.07530656 -0.0433963  -0.06142951 -0.06142951 -0.0433963  -0.0433963\n",
      "  -0.19245009 -0.06142951 -0.09740465 -0.0433963  -0.11547005 -0.07530656\n",
      "  -0.0433963  -0.0433963  -0.15191091 -0.0433963  -0.13118084 -0.0433963\n",
      "  -0.0433963  -0.08703883 -0.0433963  -0.0433963  -0.0433963  -0.0433963\n",
      "  -0.06142951 -0.0433963  -0.08703883 -0.08703883 -0.08703883 -0.0433963\n",
      "  -0.13118084 -0.13840913 -0.13840913 -0.0433963  -0.06142951 -0.0433963\n",
      "  -0.07530656 -0.18168574 -0.0433963  -0.0433963  -0.0433963  -0.07530656\n",
      "  -0.15826614 -0.31491833 -0.0433963  -0.08703883 -0.07530656 -0.06142951\n",
      "  -0.72111026 -0.0433963  -0.0433963  -0.06142951 -0.0433963  -0.0433963\n",
      "  -0.0433963  -0.0433963  -0.0433963  -0.0433963  -0.0433963  -0.0433963\n",
      "  -0.39879994 -0.0433963   5.50400923 -0.0433963  -0.08703883 -0.08703883\n",
      "  -0.10680283 -0.0433963  -0.13118084 -0.0433963  -0.0433963  -0.0433963\n",
      "  -0.0433963  -0.07530656 -0.43911856 -0.0433963  -0.06142951 -0.0433963\n",
      "  -0.0433963  -0.89632016 -0.0433963  -0.0433963   1.42222617 -0.0433963\n",
      "  -0.0433963  -0.0433963  -0.0433963  -0.0433963  -0.0433963  -0.0433963\n",
      "  -0.0433963  -0.0433963 ]\n",
      " [-0.11671506 -0.15255998 -0.0433963  -0.0433963  -0.0433963  -0.06142951\n",
      "  -0.07530656 -0.0433963  -0.06142951 -0.06142951 -0.0433963  -0.0433963\n",
      "  -0.19245009 -0.06142951 -0.09740465 -0.0433963  -0.11547005 -0.07530656\n",
      "  -0.0433963  -0.0433963  -0.15191091 -0.0433963  -0.13118084 -0.0433963\n",
      "  -0.0433963  -0.08703883 -0.0433963  -0.0433963  -0.0433963  -0.0433963\n",
      "  -0.06142951 -0.0433963  -0.08703883 -0.08703883 -0.08703883 -0.0433963\n",
      "  -0.13118084 -0.13840913 -0.13840913 -0.0433963  -0.06142951 -0.0433963\n",
      "  -0.07530656 -0.18168574 -0.0433963  -0.0433963  -0.0433963  -0.07530656\n",
      "  -0.15826614  3.17542648 -0.0433963  -0.08703883 -0.07530656 -0.06142951\n",
      "  -0.72111026 -0.0433963  -0.0433963  -0.06142951 -0.0433963  -0.0433963\n",
      "  -0.0433963  -0.0433963  -0.0433963  -0.0433963  -0.0433963  -0.0433963\n",
      "  -0.39879994 -0.0433963  -0.18168574 -0.0433963  -0.08703883 -0.08703883\n",
      "  -0.10680283 -0.0433963  -0.13118084 -0.0433963  -0.0433963  -0.0433963\n",
      "  -0.0433963  -0.07530656 -0.43911856 -0.0433963  -0.06142951 -0.0433963\n",
      "  -0.0433963   1.11567277 -0.0433963  -0.0433963  -0.70312305 -0.0433963\n",
      "  -0.0433963  -0.0433963  -0.0433963  -0.0433963  -0.0433963  -0.0433963\n",
      "  -0.0433963  -0.0433963 ]\n",
      " [-0.11474682 -0.1528703  -0.0433963  -0.0433963  -0.0433963  -0.06142951\n",
      "  -0.07530656 -0.0433963  -0.06142951 -0.06142951 -0.0433963  -0.0433963\n",
      "  -0.19245009 -0.06142951 -0.09740465 -0.0433963  -0.11547005 -0.07530656\n",
      "  -0.0433963  -0.0433963  -0.15191091 -0.0433963   7.62306442 -0.0433963\n",
      "  -0.0433963  -0.08703883 -0.0433963  -0.0433963  -0.0433963  -0.0433963\n",
      "  -0.06142951 -0.0433963  -0.08703883 -0.08703883 -0.08703883 -0.0433963\n",
      "  -0.13118084 -0.13840913 -0.13840913 -0.0433963  -0.06142951 -0.0433963\n",
      "  -0.07530656 -0.18168574 -0.0433963  -0.0433963  -0.0433963  -0.07530656\n",
      "  -0.15826614 -0.31491833 -0.0433963  -0.08703883 -0.07530656 -0.06142951\n",
      "  -0.72111026 -0.0433963  -0.0433963  -0.06142951 -0.0433963  -0.0433963\n",
      "  -0.0433963  -0.0433963  -0.0433963  -0.0433963  -0.0433963  -0.0433963\n",
      "  -0.39879994 -0.0433963  -0.18168574 -0.0433963  -0.08703883 -0.08703883\n",
      "  -0.10680283 -0.0433963  -0.13118084 -0.0433963  -0.0433963  -0.0433963\n",
      "  -0.0433963  -0.07530656 -0.43911856 -0.0433963  -0.06142951 -0.0433963\n",
      "  -0.0433963   1.11567277 -0.0433963  -0.0433963  -0.70312305 -0.0433963\n",
      "  -0.0433963  -0.0433963  -0.0433963  -0.0433963  -0.0433963  -0.0433963\n",
      "  -0.0433963  -0.0433963 ]]\n"
     ]
    }
   ],
   "source": [
    "# Standardize the data with StandardScaler().\n",
    "crypto_scaled = StandardScaler().fit_transform(X)\n",
    "print(crypto_scaled[0:5])"
   ]
  },
  {
   "cell_type": "markdown",
   "metadata": {},
   "source": [
    "### Deliverable 2: Reducing Data Dimensions Using PCA"
   ]
  },
  {
   "cell_type": "code",
   "execution_count": 161,
   "metadata": {},
   "outputs": [
    {
     "data": {
      "text/plain": [
       "array([[-0.33421133,  1.07904809, -0.58742564],\n",
       "       [-0.31758732,  1.07961591, -0.58787595],\n",
       "       [ 2.30395556,  1.72078533, -0.66927235],\n",
       "       ...,\n",
       "       [ 0.3283696 , -2.36250982,  0.41179431],\n",
       "       [-0.16464142, -1.97857183,  0.45097083],\n",
       "       [-0.29013801,  0.88496204, -0.30362587]])"
      ]
     },
     "execution_count": 161,
     "metadata": {},
     "output_type": "execute_result"
    }
   ],
   "source": [
    "# Using PCA to reduce dimension to three principal components.\n",
    "pca = PCA(n_components=3)\n",
    "crypto_pca = pca.fit_transform(crypto_scaled)\n",
    "crypto_pca"
   ]
  },
  {
   "cell_type": "code",
   "execution_count": 162,
   "metadata": {},
   "outputs": [
    {
     "data": {
      "text/html": [
       "<div>\n",
       "<style scoped>\n",
       "    .dataframe tbody tr th:only-of-type {\n",
       "        vertical-align: middle;\n",
       "    }\n",
       "\n",
       "    .dataframe tbody tr th {\n",
       "        vertical-align: top;\n",
       "    }\n",
       "\n",
       "    .dataframe thead th {\n",
       "        text-align: right;\n",
       "    }\n",
       "</style>\n",
       "<table border=\"1\" class=\"dataframe\">\n",
       "  <thead>\n",
       "    <tr style=\"text-align: right;\">\n",
       "      <th></th>\n",
       "      <th>PC 1</th>\n",
       "      <th>PC 2</th>\n",
       "      <th>PC 3</th>\n",
       "    </tr>\n",
       "    <tr>\n",
       "      <th></th>\n",
       "      <th></th>\n",
       "      <th></th>\n",
       "      <th></th>\n",
       "    </tr>\n",
       "  </thead>\n",
       "  <tbody>\n",
       "    <tr>\n",
       "      <th>42</th>\n",
       "      <td>-0.334211</td>\n",
       "      <td>1.079048</td>\n",
       "      <td>-0.587426</td>\n",
       "    </tr>\n",
       "    <tr>\n",
       "      <th>404</th>\n",
       "      <td>-0.317587</td>\n",
       "      <td>1.079616</td>\n",
       "      <td>-0.587876</td>\n",
       "    </tr>\n",
       "    <tr>\n",
       "      <th>1337</th>\n",
       "      <td>2.303956</td>\n",
       "      <td>1.720785</td>\n",
       "      <td>-0.669272</td>\n",
       "    </tr>\n",
       "    <tr>\n",
       "      <th>BTC</th>\n",
       "      <td>-0.152405</td>\n",
       "      <td>-1.278191</td>\n",
       "      <td>0.196232</td>\n",
       "    </tr>\n",
       "    <tr>\n",
       "      <th>ETH</th>\n",
       "      <td>-0.157112</td>\n",
       "      <td>-2.012279</td>\n",
       "      <td>0.397679</td>\n",
       "    </tr>\n",
       "    <tr>\n",
       "      <th>LTC</th>\n",
       "      <td>-0.170571</td>\n",
       "      <td>-1.048107</td>\n",
       "      <td>-0.020067</td>\n",
       "    </tr>\n",
       "    <tr>\n",
       "      <th>DASH</th>\n",
       "      <td>-0.397350</td>\n",
       "      <td>1.183911</td>\n",
       "      <td>-0.492250</td>\n",
       "    </tr>\n",
       "    <tr>\n",
       "      <th>XMR</th>\n",
       "      <td>-0.154034</td>\n",
       "      <td>-2.192066</td>\n",
       "      <td>0.398466</td>\n",
       "    </tr>\n",
       "    <tr>\n",
       "      <th>ETC</th>\n",
       "      <td>-0.155558</td>\n",
       "      <td>-2.012344</td>\n",
       "      <td>0.397660</td>\n",
       "    </tr>\n",
       "    <tr>\n",
       "      <th>ZEC</th>\n",
       "      <td>-0.164640</td>\n",
       "      <td>-1.978572</td>\n",
       "      <td>0.450971</td>\n",
       "    </tr>\n",
       "  </tbody>\n",
       "</table>\n",
       "</div>"
      ],
      "text/plain": [
       "          PC 1      PC 2      PC 3\n",
       "                                  \n",
       "42   -0.334211  1.079048 -0.587426\n",
       "404  -0.317587  1.079616 -0.587876\n",
       "1337  2.303956  1.720785 -0.669272\n",
       "BTC  -0.152405 -1.278191  0.196232\n",
       "ETH  -0.157112 -2.012279  0.397679\n",
       "LTC  -0.170571 -1.048107 -0.020067\n",
       "DASH -0.397350  1.183911 -0.492250\n",
       "XMR  -0.154034 -2.192066  0.398466\n",
       "ETC  -0.155558 -2.012344  0.397660\n",
       "ZEC  -0.164640 -1.978572  0.450971"
      ]
     },
     "execution_count": 162,
     "metadata": {},
     "output_type": "execute_result"
    }
   ],
   "source": [
    "# Create a DataFrame with the three principal components.\n",
    "pcs_df = pd.DataFrame(data=crypto_pca, columns=['PC 1', 'PC 2', 'PC 3'], index=crypto_df.index.copy())\n",
    "pcs_df.head(10)"
   ]
  },
  {
   "cell_type": "markdown",
   "metadata": {},
   "source": [
    "### Deliverable 3: Clustering Crytocurrencies Using K-Means\n",
    "\n",
    "#### Finding the Best Value for `k` Using the Elbow Curve"
   ]
  },
  {
   "cell_type": "code",
   "execution_count": 163,
   "metadata": {},
   "outputs": [
    {
     "data": {},
     "metadata": {},
     "output_type": "display_data"
    },
    {
     "data": {
      "application/vnd.holoviews_exec.v0+json": "",
      "text/html": [
       "<div id='1203'>\n",
       "\n",
       "\n",
       "\n",
       "\n",
       "\n",
       "  <div class=\"bk-root\" id=\"3eb56fa6-0b89-48e9-a8d3-e130815579f8\" data-root-id=\"1203\"></div>\n",
       "</div>\n",
       "<script type=\"application/javascript\">(function(root) {\n",
       "  function embed_document(root) {\n",
       "  var docs_json = {\"5298ff78-68b8-4d25-aef9-5fd561b20dee\":{\"roots\":{\"references\":[{\"attributes\":{\"axis\":{\"id\":\"1217\"},\"grid_line_color\":null,\"ticker\":null},\"id\":\"1220\",\"type\":\"Grid\"},{\"attributes\":{\"data\":{\"inertia\":{\"__ndarray__\":\"Q1+lamFprEBV5qc8/U2jQN6IsBNcWpdAxmL7ij8Af0CzZIieGJNzQNpomsrHIG5ANuCVmd0haUBZHhb/rNRkQElCOBo+mmFAwj/EduXQXEA=\",\"dtype\":\"float64\",\"order\":\"little\",\"shape\":[10]},\"k\":[1,2,3,4,5,6,7,8,9,10]},\"selected\":{\"id\":\"1239\"},\"selection_policy\":{\"id\":\"1258\"}},\"id\":\"1238\",\"type\":\"ColumnDataSource\"},{\"attributes\":{},\"id\":\"1258\",\"type\":\"UnionRenderers\"},{\"attributes\":{\"line_alpha\":0.1,\"line_color\":\"#1f77b3\",\"line_width\":2,\"x\":{\"field\":\"k\"},\"y\":{\"field\":\"inertia\"}},\"id\":\"1242\",\"type\":\"Line\"},{\"attributes\":{},\"id\":\"1222\",\"type\":\"BasicTicker\"},{\"attributes\":{\"margin\":[5,5,5,5],\"name\":\"HSpacer01896\",\"sizing_mode\":\"stretch_width\"},\"id\":\"1267\",\"type\":\"Spacer\"},{\"attributes\":{\"children\":[{\"id\":\"1204\"},{\"id\":\"1208\"},{\"id\":\"1267\"}],\"margin\":[0,0,0,0],\"name\":\"Row01891\",\"tags\":[\"embedded\"]},\"id\":\"1203\",\"type\":\"Row\"},{\"attributes\":{\"axis\":{\"id\":\"1221\"},\"dimension\":1,\"grid_line_color\":null,\"ticker\":null},\"id\":\"1224\",\"type\":\"Grid\"},{\"attributes\":{},\"id\":\"1239\",\"type\":\"Selection\"},{\"attributes\":{\"bottom_units\":\"screen\",\"fill_alpha\":0.5,\"fill_color\":\"lightgrey\",\"left_units\":\"screen\",\"level\":\"overlay\",\"line_alpha\":1.0,\"line_color\":\"black\",\"line_dash\":[4,4],\"line_width\":2,\"right_units\":\"screen\",\"top_units\":\"screen\"},\"id\":\"1230\",\"type\":\"BoxAnnotation\"},{\"attributes\":{\"axis_label\":\"inertia\",\"bounds\":\"auto\",\"formatter\":{\"id\":\"1251\"},\"major_label_orientation\":\"horizontal\",\"ticker\":{\"id\":\"1222\"}},\"id\":\"1221\",\"type\":\"LinearAxis\"},{\"attributes\":{\"data_source\":{\"id\":\"1238\"},\"glyph\":{\"id\":\"1241\"},\"hover_glyph\":null,\"muted_glyph\":{\"id\":\"1243\"},\"nonselection_glyph\":{\"id\":\"1242\"},\"selection_glyph\":null,\"view\":{\"id\":\"1245\"}},\"id\":\"1244\",\"type\":\"GlyphRenderer\"},{\"attributes\":{\"line_alpha\":0.2,\"line_color\":\"#1f77b3\",\"line_width\":2,\"x\":{\"field\":\"k\"},\"y\":{\"field\":\"inertia\"}},\"id\":\"1243\",\"type\":\"Line\"},{\"attributes\":{\"below\":[{\"id\":\"1217\"}],\"center\":[{\"id\":\"1220\"},{\"id\":\"1224\"}],\"left\":[{\"id\":\"1221\"}],\"margin\":null,\"min_border_bottom\":10,\"min_border_left\":10,\"min_border_right\":10,\"min_border_top\":10,\"plot_height\":300,\"plot_width\":700,\"renderers\":[{\"id\":\"1244\"}],\"sizing_mode\":\"fixed\",\"title\":{\"id\":\"1209\"},\"toolbar\":{\"id\":\"1231\"},\"x_range\":{\"id\":\"1205\"},\"x_scale\":{\"id\":\"1213\"},\"y_range\":{\"id\":\"1206\"},\"y_scale\":{\"id\":\"1215\"}},\"id\":\"1208\",\"subtype\":\"Figure\",\"type\":\"Plot\"},{\"attributes\":{\"active_drag\":\"auto\",\"active_inspect\":\"auto\",\"active_multi\":null,\"active_scroll\":\"auto\",\"active_tap\":\"auto\",\"tools\":[{\"id\":\"1207\"},{\"id\":\"1225\"},{\"id\":\"1226\"},{\"id\":\"1227\"},{\"id\":\"1228\"},{\"id\":\"1229\"}]},\"id\":\"1231\",\"type\":\"Toolbar\"},{\"attributes\":{\"source\":{\"id\":\"1238\"}},\"id\":\"1245\",\"type\":\"CDSView\"},{\"attributes\":{},\"id\":\"1225\",\"type\":\"SaveTool\"},{\"attributes\":{},\"id\":\"1247\",\"type\":\"BasicTickFormatter\"},{\"attributes\":{},\"id\":\"1226\",\"type\":\"PanTool\"},{\"attributes\":{},\"id\":\"1213\",\"type\":\"LinearScale\"},{\"attributes\":{\"line_color\":\"#1f77b3\",\"line_width\":2,\"x\":{\"field\":\"k\"},\"y\":{\"field\":\"inertia\"}},\"id\":\"1241\",\"type\":\"Line\"},{\"attributes\":{},\"id\":\"1227\",\"type\":\"WheelZoomTool\"},{\"attributes\":{},\"id\":\"1215\",\"type\":\"LinearScale\"},{\"attributes\":{\"overlay\":{\"id\":\"1230\"}},\"id\":\"1228\",\"type\":\"BoxZoomTool\"},{\"attributes\":{},\"id\":\"1251\",\"type\":\"BasicTickFormatter\"},{\"attributes\":{\"ticks\":[1,2,3,4,5,6,7,8,9,10]},\"id\":\"1246\",\"type\":\"FixedTicker\"},{\"attributes\":{\"callback\":null,\"renderers\":[{\"id\":\"1244\"}],\"tags\":[\"hv_created\"],\"tooltips\":[[\"k\",\"@{k}\"],[\"inertia\",\"@{inertia}\"]]},\"id\":\"1207\",\"type\":\"HoverTool\"},{\"attributes\":{\"end\":3988.8328929095283,\"reset_end\":3988.8328929095283,\"reset_start\":-236.87862077329012,\"start\":-236.87862077329012,\"tags\":[[[\"inertia\",\"inertia\",null]]]},\"id\":\"1206\",\"type\":\"Range1d\"},{\"attributes\":{},\"id\":\"1229\",\"type\":\"ResetTool\"},{\"attributes\":{\"axis_label\":\"k\",\"bounds\":\"auto\",\"formatter\":{\"id\":\"1247\"},\"major_label_orientation\":\"horizontal\",\"ticker\":{\"id\":\"1246\"}},\"id\":\"1217\",\"type\":\"LinearAxis\"},{\"attributes\":{\"margin\":[5,5,5,5],\"name\":\"HSpacer01895\",\"sizing_mode\":\"stretch_width\"},\"id\":\"1204\",\"type\":\"Spacer\"},{\"attributes\":{\"end\":10.0,\"reset_end\":10.0,\"reset_start\":1.0,\"start\":1.0,\"tags\":[[[\"k\",\"k\",null]]]},\"id\":\"1205\",\"type\":\"Range1d\"},{\"attributes\":{\"text\":\"Elbow Curve\",\"text_color\":{\"value\":\"black\"},\"text_font_size\":{\"value\":\"12pt\"}},\"id\":\"1209\",\"type\":\"Title\"}],\"root_ids\":[\"1203\"]},\"title\":\"Bokeh Application\",\"version\":\"2.1.1\"}};\n",
       "  var render_items = [{\"docid\":\"5298ff78-68b8-4d25-aef9-5fd561b20dee\",\"root_ids\":[\"1203\"],\"roots\":{\"1203\":\"3eb56fa6-0b89-48e9-a8d3-e130815579f8\"}}];\n",
       "  root.Bokeh.embed.embed_items_notebook(docs_json, render_items);\n",
       "  }\n",
       "if (root.Bokeh !== undefined) {\n",
       "    embed_document(root);\n",
       "  } else {\n",
       "    var attempts = 0;\n",
       "    var timer = setInterval(function(root) {\n",
       "      if (root.Bokeh !== undefined) {\n",
       "        clearInterval(timer);\n",
       "        embed_document(root);\n",
       "      } else if (document.readyState == \"complete\") {\n",
       "        attempts++;\n",
       "        if (attempts > 100) {\n",
       "          clearInterval(timer);\n",
       "          console.log(\"Bokeh: ERROR: Unable to run BokehJS code because BokehJS library is missing\");\n",
       "        }\n",
       "      }\n",
       "    }, 10, root)\n",
       "  }\n",
       "})(window);</script>"
      ],
      "text/plain": [
       ":Curve   [k]   (inertia)"
      ]
     },
     "execution_count": 163,
     "metadata": {
      "application/vnd.holoviews_exec.v0+json": {
       "id": "1203"
      }
     },
     "output_type": "execute_result"
    }
   ],
   "source": [
    "# Create an elbow curve to find the best value for K.\n",
    "inertia = []\n",
    "k = list(range(1,11))\n",
    "\n",
    "for i in k:\n",
    "    km = KMeans(n_clusters=i, random_state=0)\n",
    "    km.fit(pcs_df)\n",
    "    inertia.append(km.inertia_)\n",
    "    \n",
    "elbow_data = {'k': k, 'inertia': inertia}\n",
    "df_elbow = pd.DataFrame(elbow_data)\n",
    "df_elbow.hvplot.line(x='k', y='inertia', title='Elbow Curve', xticks=k)"
   ]
  },
  {
   "cell_type": "markdown",
   "metadata": {},
   "source": [
    "Running K-Means with `k=4`"
   ]
  },
  {
   "cell_type": "code",
   "execution_count": 164,
   "metadata": {},
   "outputs": [
    {
     "name": "stdout",
     "output_type": "stream",
     "text": [
      "[1 1 1 0 0 0 1 0 0 0 1 0 1 1 0 1 0 0 1 1 0 0 0 0 0 1 0 0 0 1 0 1 0 0 1 1 0\n",
      " 0 0 0 0 0 1 1 0 0 0 0 0 1 1 0 1 0 0 0 0 1 0 0 1 0 1 1 1 0 0 0 1 1 1 1 1 0\n",
      " 0 0 1 1 0 1 0 1 1 0 0 0 0 1 1 0 1 0 0 1 1 0 1 1 0 0 1 1 0 1 1 0 1 0 1 0 1\n",
      " 0 1 1 0 0 1 0 0 0 1 0 0 0 0 0 1 0 0 0 0 1 0 1 0 0 1 0 1 0 1 1 0 0 1 0 0 1\n",
      " 1 0 1 0 1 1 1 0 0 0 0 1 1 1 1 1 0 0 1 1 1 1 1 0 1 1 1 1 1 0 1 0 1 1 0 1 0\n",
      " 1 1 0 1 0 1 0 1 0 1 1 1 1 0 1 1 1 1 1 0 0 1 1 0 0 1 1 1 1 1 0 1 1 1 1 1 1\n",
      " 1 1 0 1 1 1 1 1 1 0 0 0 1 1 1 1 0 1 0 1 1 0 1 0 0 1 0 0 1 0 1 1 1 0 1 1 0\n",
      " 1 1 1 1 1 1 1 0 1 0 1 1 1 1 0 1 0 1 0 0 0 0 1 0 1 1 0 1 0 0 0 1 0 1 0 0 0\n",
      " 1 0 1 0 1 1 3 0 1 0 0 0 0 0 1 1 0 1 1 1 0 1 0 1 0 1 0 1 1 1 1 0 1 1 0 1 1\n",
      " 1 0 0 0 0 1 1 1 1 0 1 0 0 0 1 1 0 0 1 1 0 1 0 0 0 1 0 0 1 1 1 0 0 0 1 1 1\n",
      " 0 0 1 0 0 0 0 1 3 3 0 0 0 1 3 1 1 1 1 0 0 0 0 1 1 1 0 1 0 1 1 1 1 0 1 1 0\n",
      " 1 1 0 0 1 0 1 0 0 0 0 1 1 0 1 0 1 1 1 1 1 1 0 0 0 1 1 1 1 1 1 0 1 0 0 0 0\n",
      " 1 1 1 1 0 1 1 0 1 1 0 3 0 1 0 0 1 1 0 1 0 0 1 0 0 1 0 1 0 1 1 0 1 1 1 1 1\n",
      " 0 0 0 1 1 1 0 1 0 1 0 1 1 1 1 0 1 1 1 0 1 0 1 0 1 1 1 0 0 1 1 1 1 1 1 0 1\n",
      " 0 1 0 1 1 3 1 2 1 1 1 0 0 1]\n"
     ]
    }
   ],
   "source": [
    "# Initialize the K-Means model.\n",
    "model = KMeans(n_clusters=4, random_state=0)\n",
    "\n",
    "# Fit the model\n",
    "model.fit(pcs_df)\n",
    "\n",
    "# Predict clusters\n",
    "predictions = model.predict(pcs_df)\n",
    "print(predictions)"
   ]
  },
  {
   "cell_type": "code",
   "execution_count": 165,
   "metadata": {},
   "outputs": [
    {
     "data": {
      "text/html": [
       "<div>\n",
       "<style scoped>\n",
       "    .dataframe tbody tr th:only-of-type {\n",
       "        vertical-align: middle;\n",
       "    }\n",
       "\n",
       "    .dataframe tbody tr th {\n",
       "        vertical-align: top;\n",
       "    }\n",
       "\n",
       "    .dataframe thead th {\n",
       "        text-align: right;\n",
       "    }\n",
       "</style>\n",
       "<table border=\"1\" class=\"dataframe\">\n",
       "  <thead>\n",
       "    <tr style=\"text-align: right;\">\n",
       "      <th></th>\n",
       "      <th>PC 1</th>\n",
       "      <th>PC 2</th>\n",
       "      <th>PC 3</th>\n",
       "    </tr>\n",
       "    <tr>\n",
       "      <th></th>\n",
       "      <th></th>\n",
       "      <th></th>\n",
       "      <th></th>\n",
       "    </tr>\n",
       "  </thead>\n",
       "  <tbody>\n",
       "    <tr>\n",
       "      <th>42</th>\n",
       "      <td>-0.334211</td>\n",
       "      <td>1.079048</td>\n",
       "      <td>-0.587426</td>\n",
       "    </tr>\n",
       "    <tr>\n",
       "      <th>404</th>\n",
       "      <td>-0.317587</td>\n",
       "      <td>1.079616</td>\n",
       "      <td>-0.587876</td>\n",
       "    </tr>\n",
       "    <tr>\n",
       "      <th>1337</th>\n",
       "      <td>2.303956</td>\n",
       "      <td>1.720785</td>\n",
       "      <td>-0.669272</td>\n",
       "    </tr>\n",
       "    <tr>\n",
       "      <th>BTC</th>\n",
       "      <td>-0.152405</td>\n",
       "      <td>-1.278191</td>\n",
       "      <td>0.196232</td>\n",
       "    </tr>\n",
       "    <tr>\n",
       "      <th>ETH</th>\n",
       "      <td>-0.157112</td>\n",
       "      <td>-2.012279</td>\n",
       "      <td>0.397679</td>\n",
       "    </tr>\n",
       "  </tbody>\n",
       "</table>\n",
       "</div>"
      ],
      "text/plain": [
       "          PC 1      PC 2      PC 3\n",
       "                                  \n",
       "42   -0.334211  1.079048 -0.587426\n",
       "404  -0.317587  1.079616 -0.587876\n",
       "1337  2.303956  1.720785 -0.669272\n",
       "BTC  -0.152405 -1.278191  0.196232\n",
       "ETH  -0.157112 -2.012279  0.397679"
      ]
     },
     "execution_count": 165,
     "metadata": {},
     "output_type": "execute_result"
    }
   ],
   "source": [
    "pcs_df.head()"
   ]
  },
  {
   "cell_type": "code",
   "execution_count": 175,
   "metadata": {
    "scrolled": true
   },
   "outputs": [
    {
     "name": "stdout",
     "output_type": "stream",
     "text": [
      "(532, 9)\n"
     ]
    },
    {
     "data": {
      "text/html": [
       "<div>\n",
       "<style scoped>\n",
       "    .dataframe tbody tr th:only-of-type {\n",
       "        vertical-align: middle;\n",
       "    }\n",
       "\n",
       "    .dataframe tbody tr th {\n",
       "        vertical-align: top;\n",
       "    }\n",
       "\n",
       "    .dataframe thead th {\n",
       "        text-align: right;\n",
       "    }\n",
       "</style>\n",
       "<table border=\"1\" class=\"dataframe\">\n",
       "  <thead>\n",
       "    <tr style=\"text-align: right;\">\n",
       "      <th></th>\n",
       "      <th>Algorithm</th>\n",
       "      <th>ProofType</th>\n",
       "      <th>TotalCoinsMined</th>\n",
       "      <th>TotalCoinSupply</th>\n",
       "      <th>PC 1</th>\n",
       "      <th>PC 2</th>\n",
       "      <th>PC 3</th>\n",
       "      <th>CoinName</th>\n",
       "      <th>Class</th>\n",
       "    </tr>\n",
       "    <tr>\n",
       "      <th></th>\n",
       "      <th></th>\n",
       "      <th></th>\n",
       "      <th></th>\n",
       "      <th></th>\n",
       "      <th></th>\n",
       "      <th></th>\n",
       "      <th></th>\n",
       "      <th></th>\n",
       "      <th></th>\n",
       "    </tr>\n",
       "  </thead>\n",
       "  <tbody>\n",
       "    <tr>\n",
       "      <th>42</th>\n",
       "      <td>Scrypt</td>\n",
       "      <td>PoW/PoS</td>\n",
       "      <td>4.199995e+01</td>\n",
       "      <td>42</td>\n",
       "      <td>-0.334211</td>\n",
       "      <td>1.079048</td>\n",
       "      <td>-0.587426</td>\n",
       "      <td>42 Coin</td>\n",
       "      <td>1</td>\n",
       "    </tr>\n",
       "    <tr>\n",
       "      <th>404</th>\n",
       "      <td>Scrypt</td>\n",
       "      <td>PoW/PoS</td>\n",
       "      <td>1.055185e+09</td>\n",
       "      <td>532000000</td>\n",
       "      <td>-0.317587</td>\n",
       "      <td>1.079616</td>\n",
       "      <td>-0.587876</td>\n",
       "      <td>404Coin</td>\n",
       "      <td>1</td>\n",
       "    </tr>\n",
       "    <tr>\n",
       "      <th>1337</th>\n",
       "      <td>X13</td>\n",
       "      <td>PoW/PoS</td>\n",
       "      <td>2.927942e+10</td>\n",
       "      <td>314159265359</td>\n",
       "      <td>2.303956</td>\n",
       "      <td>1.720785</td>\n",
       "      <td>-0.669272</td>\n",
       "      <td>EliteCoin</td>\n",
       "      <td>1</td>\n",
       "    </tr>\n",
       "    <tr>\n",
       "      <th>BTC</th>\n",
       "      <td>SHA-256</td>\n",
       "      <td>PoW</td>\n",
       "      <td>1.792718e+07</td>\n",
       "      <td>21000000</td>\n",
       "      <td>-0.152405</td>\n",
       "      <td>-1.278191</td>\n",
       "      <td>0.196232</td>\n",
       "      <td>Bitcoin</td>\n",
       "      <td>0</td>\n",
       "    </tr>\n",
       "    <tr>\n",
       "      <th>ETH</th>\n",
       "      <td>Ethash</td>\n",
       "      <td>PoW</td>\n",
       "      <td>1.076842e+08</td>\n",
       "      <td>0</td>\n",
       "      <td>-0.157112</td>\n",
       "      <td>-2.012279</td>\n",
       "      <td>0.397679</td>\n",
       "      <td>Ethereum</td>\n",
       "      <td>0</td>\n",
       "    </tr>\n",
       "    <tr>\n",
       "      <th>LTC</th>\n",
       "      <td>Scrypt</td>\n",
       "      <td>PoW</td>\n",
       "      <td>6.303924e+07</td>\n",
       "      <td>84000000</td>\n",
       "      <td>-0.170571</td>\n",
       "      <td>-1.048107</td>\n",
       "      <td>-0.020067</td>\n",
       "      <td>Litecoin</td>\n",
       "      <td>0</td>\n",
       "    </tr>\n",
       "    <tr>\n",
       "      <th>DASH</th>\n",
       "      <td>X11</td>\n",
       "      <td>PoW/PoS</td>\n",
       "      <td>9.031294e+06</td>\n",
       "      <td>22000000</td>\n",
       "      <td>-0.397350</td>\n",
       "      <td>1.183911</td>\n",
       "      <td>-0.492250</td>\n",
       "      <td>Dash</td>\n",
       "      <td>1</td>\n",
       "    </tr>\n",
       "    <tr>\n",
       "      <th>XMR</th>\n",
       "      <td>CryptoNight-V7</td>\n",
       "      <td>PoW</td>\n",
       "      <td>1.720114e+07</td>\n",
       "      <td>0</td>\n",
       "      <td>-0.154034</td>\n",
       "      <td>-2.192066</td>\n",
       "      <td>0.398466</td>\n",
       "      <td>Monero</td>\n",
       "      <td>0</td>\n",
       "    </tr>\n",
       "    <tr>\n",
       "      <th>ETC</th>\n",
       "      <td>Ethash</td>\n",
       "      <td>PoW</td>\n",
       "      <td>1.133597e+08</td>\n",
       "      <td>210000000</td>\n",
       "      <td>-0.155558</td>\n",
       "      <td>-2.012344</td>\n",
       "      <td>0.397660</td>\n",
       "      <td>Ethereum Classic</td>\n",
       "      <td>0</td>\n",
       "    </tr>\n",
       "    <tr>\n",
       "      <th>ZEC</th>\n",
       "      <td>Equihash</td>\n",
       "      <td>PoW</td>\n",
       "      <td>7.383056e+06</td>\n",
       "      <td>21000000</td>\n",
       "      <td>-0.164640</td>\n",
       "      <td>-1.978572</td>\n",
       "      <td>0.450971</td>\n",
       "      <td>ZCash</td>\n",
       "      <td>0</td>\n",
       "    </tr>\n",
       "  </tbody>\n",
       "</table>\n",
       "</div>"
      ],
      "text/plain": [
       "           Algorithm ProofType  TotalCoinsMined TotalCoinSupply      PC 1  \\\n",
       "                                                                            \n",
       "42            Scrypt   PoW/PoS     4.199995e+01              42 -0.334211   \n",
       "404           Scrypt   PoW/PoS     1.055185e+09       532000000 -0.317587   \n",
       "1337             X13   PoW/PoS     2.927942e+10    314159265359  2.303956   \n",
       "BTC          SHA-256       PoW     1.792718e+07        21000000 -0.152405   \n",
       "ETH           Ethash       PoW     1.076842e+08               0 -0.157112   \n",
       "LTC           Scrypt       PoW     6.303924e+07        84000000 -0.170571   \n",
       "DASH             X11   PoW/PoS     9.031294e+06        22000000 -0.397350   \n",
       "XMR   CryptoNight-V7       PoW     1.720114e+07               0 -0.154034   \n",
       "ETC           Ethash       PoW     1.133597e+08       210000000 -0.155558   \n",
       "ZEC         Equihash       PoW     7.383056e+06        21000000 -0.164640   \n",
       "\n",
       "          PC 2      PC 3          CoinName  Class  \n",
       "                                                   \n",
       "42    1.079048 -0.587426           42 Coin      1  \n",
       "404   1.079616 -0.587876           404Coin      1  \n",
       "1337  1.720785 -0.669272         EliteCoin      1  \n",
       "BTC  -1.278191  0.196232           Bitcoin      0  \n",
       "ETH  -2.012279  0.397679          Ethereum      0  \n",
       "LTC  -1.048107 -0.020067          Litecoin      0  \n",
       "DASH  1.183911 -0.492250              Dash      1  \n",
       "XMR  -2.192066  0.398466            Monero      0  \n",
       "ETC  -2.012344  0.397660  Ethereum Classic      0  \n",
       "ZEC  -1.978572  0.450971             ZCash      0  "
      ]
     },
     "execution_count": 175,
     "metadata": {},
     "output_type": "execute_result"
    }
   ],
   "source": [
    "# Create a new DataFrame including predicted clusters and cryptocurrencies features.\n",
    "# Concatentate the crypto_df and pcs_df DataFrames on the same columns.\n",
    "frames = [crypto_df, pcs_df]\n",
    "clustered_df = pd.concat(frames, axis=1)\n",
    "\n",
    "#  Add a new column, \"CoinName\" to the clustered_df DataFrame that holds the names of the cryptocurrencies. \n",
    "clustered_df['CoinName'] = crypto_names_df['CoinName']\n",
    "\n",
    "#  Add a new column, \"Class\" to the clustered_df DataFrame that holds the predictions.\n",
    "clustered_df['Class'] = model.labels_\n",
    "\n",
    "# Print the shape of the clustered_df\n",
    "print(clustered_df.shape)\n",
    "clustered_df.head(10)"
   ]
  },
  {
   "cell_type": "markdown",
   "metadata": {},
   "source": [
    "### Deliverable 4: Visualizing Cryptocurrencies Results\n",
    "\n",
    "#### 3D-Scatter with Clusters"
   ]
  },
  {
   "cell_type": "code",
   "execution_count": 180,
   "metadata": {},
   "outputs": [
    {
     "data": {
      "application/vnd.plotly.v1+json": {
       "config": {
        "plotlyServerURL": "https://plot.ly"
       },
       "data": [
        {
         "customdata": [
          [
           "Scrypt"
          ],
          [
           "Scrypt"
          ],
          [
           "X13"
          ],
          [
           "X11"
          ],
          [
           "SHA-512"
          ],
          [
           "SHA-256"
          ],
          [
           "SHA-256"
          ],
          [
           "X15"
          ],
          [
           "Scrypt"
          ],
          [
           "Scrypt"
          ],
          [
           "Scrypt"
          ],
          [
           "Scrypt"
          ],
          [
           "Scrypt"
          ],
          [
           "Scrypt"
          ],
          [
           "Groestl"
          ],
          [
           "PoS"
          ],
          [
           "Scrypt"
          ],
          [
           "Scrypt"
          ],
          [
           "X11"
          ],
          [
           "X11"
          ],
          [
           "SHA3"
          ],
          [
           "Scrypt"
          ],
          [
           "SHA-256"
          ],
          [
           "Scrypt"
          ],
          [
           "X13"
          ],
          [
           "X13"
          ],
          [
           "NeoScrypt"
          ],
          [
           "Scrypt"
          ],
          [
           "Scrypt"
          ],
          [
           "Scrypt"
          ],
          [
           "X11"
          ],
          [
           "X11"
          ],
          [
           "Multiple"
          ],
          [
           "PHI1612"
          ],
          [
           "X11"
          ],
          [
           "Scrypt"
          ],
          [
           "Scrypt"
          ],
          [
           "Scrypt"
          ],
          [
           "X11"
          ],
          [
           "Multiple"
          ],
          [
           "X13"
          ],
          [
           "Scrypt"
          ],
          [
           "Shabal256"
          ],
          [
           "Counterparty"
          ],
          [
           "SHA-256"
          ],
          [
           "Groestl"
          ],
          [
           "Scrypt"
          ],
          [
           "X13"
          ],
          [
           "Scrypt"
          ],
          [
           "Scrypt"
          ],
          [
           "X13"
          ],
          [
           "X11"
          ],
          [
           "Scrypt"
          ],
          [
           "X11"
          ],
          [
           "QUAIT"
          ],
          [
           "X11"
          ],
          [
           "Scrypt"
          ],
          [
           "X13"
          ],
          [
           "SHA-256"
          ],
          [
           "X15"
          ],
          [
           "BLAKE256"
          ],
          [
           "SHA-256"
          ],
          [
           "X11"
          ],
          [
           "SHA-256"
          ],
          [
           "NIST5"
          ],
          [
           "Scrypt"
          ],
          [
           "Scrypt"
          ],
          [
           "X11"
          ],
          [
           "Scrypt"
          ],
          [
           "SHA-256"
          ],
          [
           "Scrypt"
          ],
          [
           "PoS"
          ],
          [
           "X11"
          ],
          [
           "SHA-256"
          ],
          [
           "SHA-256"
          ],
          [
           "NIST5"
          ],
          [
           "X11"
          ],
          [
           "POS 3.0"
          ],
          [
           "Scrypt"
          ],
          [
           "Scrypt"
          ],
          [
           "Scrypt"
          ],
          [
           "X13"
          ],
          [
           "X11"
          ],
          [
           "X11"
          ],
          [
           "Scrypt"
          ],
          [
           "SHA-256"
          ],
          [
           "X11"
          ],
          [
           "Scrypt"
          ],
          [
           "Scrypt"
          ],
          [
           "Scrypt"
          ],
          [
           "Scrypt"
          ],
          [
           "SHA-256D"
          ],
          [
           "PoS"
          ],
          [
           "Scrypt"
          ],
          [
           "X11"
          ],
          [
           "PoS"
          ],
          [
           "X13"
          ],
          [
           "X14"
          ],
          [
           "PoS"
          ],
          [
           "SHA-256D"
          ],
          [
           "DPoS"
          ],
          [
           "X11"
          ],
          [
           "X13"
          ],
          [
           "X11"
          ],
          [
           "PoS"
          ],
          [
           "Scrypt"
          ],
          [
           "Scrypt"
          ],
          [
           "PoS"
          ],
          [
           "X11"
          ],
          [
           "SHA-256"
          ],
          [
           "Scrypt"
          ],
          [
           "X11"
          ],
          [
           "Scrypt"
          ],
          [
           "Scrypt"
          ],
          [
           "X11"
          ],
          [
           "Scrypt"
          ],
          [
           "Scrypt"
          ],
          [
           "Scrypt"
          ],
          [
           "Scrypt"
          ],
          [
           "Quark"
          ],
          [
           "QuBit"
          ],
          [
           "Scrypt"
          ],
          [
           "SHA-256"
          ],
          [
           "X11"
          ],
          [
           "Scrypt"
          ],
          [
           "Scrypt"
          ],
          [
           "Scrypt"
          ],
          [
           "Scrypt"
          ],
          [
           "X13"
          ],
          [
           "Scrypt"
          ],
          [
           "Scrypt"
          ],
          [
           "X11"
          ],
          [
           "Blake2S"
          ],
          [
           "X11"
          ],
          [
           "PoS"
          ],
          [
           "X11"
          ],
          [
           "PoS"
          ],
          [
           "X11"
          ],
          [
           "Scrypt"
          ],
          [
           "Scrypt"
          ],
          [
           "Scrypt"
          ],
          [
           "SHA-256"
          ],
          [
           "X11"
          ],
          [
           "Scrypt"
          ],
          [
           "PoS"
          ],
          [
           "Scrypt"
          ],
          [
           "X15"
          ],
          [
           "SHA-256"
          ],
          [
           "POS 3.0"
          ],
          [
           "536"
          ],
          [
           "NIST5"
          ],
          [
           "NIST5"
          ],
          [
           "Skein"
          ],
          [
           "X13"
          ],
          [
           "Scrypt"
          ],
          [
           "X13"
          ],
          [
           "SkunkHash v2 Raptor"
          ],
          [
           "Skein"
          ],
          [
           "X11"
          ],
          [
           "Scrypt"
          ],
          [
           "PoS"
          ],
          [
           "Scrypt"
          ],
          [
           "Scrypt"
          ],
          [
           "SHA-512"
          ],
          [
           "Ouroboros"
          ],
          [
           "X11"
          ],
          [
           "NeoScrypt"
          ],
          [
           "Scrypt"
          ],
          [
           "Lyra2REv2"
          ],
          [
           "Scrypt"
          ],
          [
           "SHA-256"
          ],
          [
           "NIST5"
          ],
          [
           "PHI1612"
          ],
          [
           "Scrypt"
          ],
          [
           "Quark"
          ],
          [
           "POS 2.0"
          ],
          [
           "Scrypt"
          ],
          [
           "SHA-256"
          ],
          [
           "X11"
          ],
          [
           "DPoS"
          ],
          [
           "NIST5"
          ],
          [
           "X13"
          ],
          [
           "Scrypt"
          ],
          [
           "NIST5"
          ],
          [
           "Quark"
          ],
          [
           "Scrypt"
          ],
          [
           "Scrypt"
          ],
          [
           "X11"
          ],
          [
           "Quark"
          ],
          [
           "Scrypt"
          ],
          [
           "Scrypt"
          ],
          [
           "X11"
          ],
          [
           "POS 3.0"
          ],
          [
           "Ethash"
          ],
          [
           "Scrypt"
          ],
          [
           "Scrypt"
          ],
          [
           "X13"
          ],
          [
           "C11"
          ],
          [
           "X11"
          ],
          [
           "XEVAN"
          ],
          [
           "Scrypt"
          ],
          [
           "VBFT"
          ],
          [
           "NIST5"
          ],
          [
           "Scrypt"
          ],
          [
           "Scrypt"
          ],
          [
           "Scrypt"
          ],
          [
           "Green Protocol"
          ],
          [
           "PoS"
          ],
          [
           "Scrypt"
          ],
          [
           "Semux BFT consensus"
          ],
          [
           "Quark"
          ],
          [
           "PoS"
          ],
          [
           "X16R"
          ],
          [
           "Scrypt"
          ],
          [
           "XEVAN"
          ],
          [
           "Scrypt"
          ],
          [
           "Scrypt"
          ],
          [
           "Scrypt"
          ],
          [
           "SHA-256D"
          ],
          [
           "Scrypt"
          ],
          [
           "X15"
          ],
          [
           "Scrypt"
          ],
          [
           "Quark"
          ],
          [
           "SHA-256"
          ],
          [
           "DPoS"
          ],
          [
           "X16R"
          ],
          [
           "Quark"
          ],
          [
           "Quark"
          ],
          [
           "Scrypt"
          ],
          [
           "Lyra2REv2"
          ],
          [
           "Quark"
          ],
          [
           "Scrypt"
          ],
          [
           "X11"
          ],
          [
           "X11"
          ],
          [
           "Scrypt"
          ],
          [
           "PoS"
          ],
          [
           "Keccak"
          ],
          [
           "X11"
          ],
          [
           "Scrypt"
          ],
          [
           "SHA-512"
          ],
          [
           "XEVAN"
          ],
          [
           "XEVAN"
          ],
          [
           "X11"
          ],
          [
           "Quark"
          ],
          [
           "Equihash"
          ],
          [
           "Scrypt"
          ],
          [
           "Quark"
          ],
          [
           "Quark"
          ],
          [
           "Scrypt"
          ],
          [
           "X11"
          ],
          [
           "Scrypt"
          ],
          [
           "XEVAN"
          ],
          [
           "SHA-256D"
          ],
          [
           "X11"
          ],
          [
           "X11"
          ],
          [
           "DPoS"
          ],
          [
           "Scrypt"
          ],
          [
           "X11"
          ],
          [
           "Scrypt"
          ],
          [
           "Scrypt"
          ],
          [
           "SHA-256"
          ],
          [
           "Scrypt"
          ],
          [
           "X11"
          ],
          [
           "Scrypt"
          ],
          [
           "SHA-256"
          ],
          [
           "X11"
          ],
          [
           "Scrypt"
          ],
          [
           "Scrypt"
          ],
          [
           "X11"
          ],
          [
           "Scrypt"
          ],
          [
           "PoS"
          ],
          [
           "X11"
          ],
          [
           "SHA-256"
          ],
          [
           "DPoS"
          ],
          [
           "Scrypt"
          ],
          [
           "Scrypt"
          ],
          [
           "NeoScrypt"
          ],
          [
           "X13"
          ],
          [
           "DPoS"
          ],
          [
           "DPoS"
          ],
          [
           "SHA-256"
          ],
          [
           "PoS"
          ],
          [
           "PoS"
          ],
          [
           "SHA-256"
          ],
          [
           "Scrypt"
          ],
          [
           "Scrypt"
          ]
         ],
         "hovertemplate": "<b>%{hovertext}</b><br><br>Class=%{marker.color}<br>PC 1=%{x}<br>PC 2=%{y}<br>PC 3=%{z}<br>Algorithm=%{customdata[0]}<extra></extra>",
         "hovertext": [
          "42 Coin",
          "404Coin",
          "EliteCoin",
          "Dash",
          "Bitshares",
          "BitcoinDark",
          "PayCoin",
          "KoboCoin",
          "Aurora Coin",
          "BlueCoin",
          "EnergyCoin",
          "BitBar",
          "CryptoBullion",
          "CasinoCoin",
          "Diamond",
          "Exclusive Coin",
          "FlutterCoin",
          "HoboNickels",
          "HyperStake",
          "IOCoin",
          "MaxCoin",
          "MintCoin",
          "MazaCoin",
          "Nautilus Coin",
          "NavCoin",
          "OpalCoin",
          "Orbitcoin",
          "PotCoin",
          "PhoenixCoin",
          "Reddcoin",
          "SuperCoin",
          "SyncCoin",
          "TeslaCoin",
          "TittieCoin",
          "TorCoin",
          "UnitaryStatus Dollar",
          "UltraCoin",
          "VeriCoin",
          "X11 Coin",
          "Crypti",
          "StealthCoin",
          "ZCC Coin",
          "BurstCoin",
          "StorjCoin",
          "Neutron",
          "FairCoin",
          "RubyCoin",
          "Kore",
          "Dnotes",
          "8BIT Coin",
          "Sativa Coin",
          "Ucoin",
          "Vtorrent",
          "IslaCoin",
          "Droidz",
          "Squall Coin",
          "Diggits",
          "Paycon",
          "Emercoin",
          "EverGreenCoin",
          "Decred",
          "EDRCoin",
          "Hitcoin",
          "DubaiCoin",
          "PWR Coin",
          "BillaryCoin",
          "GPU Coin",
          "EuropeCoin",
          "ZeitCoin",
          "SwingCoin",
          "SafeExchangeCoin",
          "Nebuchadnezzar",
          "Ratecoin",
          "Revenu",
          "Clockcoin",
          "VIP Tokens",
          "BitSend",
          "Let it Ride",
          "PutinCoin",
          "iBankCoin",
          "Frankywillcoin",
          "MudraCoin",
          "Lutetium Coin",
          "GoldBlocks",
          "CarterCoin",
          "BitTokens",
          "MustangCoin",
          "ZoneCoin",
          "RootCoin",
          "BitCurrency",
          "Swiscoin",
          "BuzzCoin",
          "Opair",
          "PesoBit",
          "Halloween Coin",
          "CoffeeCoin",
          "RoyalCoin",
          "GanjaCoin V2",
          "TeamUP",
          "LanaCoin",
          "ARK",
          "InsaneCoin",
          "EmberCoin",
          "XenixCoin",
          "FreeCoin",
          "PLNCoin",
          "AquariusCoin",
          "Creatio",
          "Eternity",
          "Eurocoin",
          "BitcoinFast",
          "Stakenet",
          "BitConnect Coin",
          "MoneyCoin",
          "Enigma",
          "Russiacoin",
          "PandaCoin",
          "GameUnits",
          "GAKHcoin",
          "Allsafe",
          "LiteCreed",
          "Klingon Empire Darsek",
          "Internet of People",
          "KushCoin",
          "Printerium",
          "Impeach",
          "Zilbercoin",
          "FirstCoin",
          "FindCoin",
          "OpenChat",
          "RenosCoin",
          "VirtacoinPlus",
          "TajCoin",
          "Impact",
          "Atmos",
          "HappyCoin",
          "MacronCoin",
          "Condensate",
          "Independent Money System",
          "ArgusCoin",
          "LomoCoin",
          "ProCurrency",
          "GoldReserve",
          "GrowthCoin",
          "Phreak",
          "Degas Coin",
          "HTML5 Coin",
          "Ultimate Secure Cash",
          "QTUM",
          "Espers",
          "Denarius",
          "Virta Unique Coin",
          "Bitcoin Planet",
          "BritCoin",
          "Linda",
          "DeepOnion",
          "Signatum",
          "Cream",
          "Monoeci",
          "Draftcoin",
          "Stakecoin",
          "CoinonatX",
          "Ethereum Dark",
          "Obsidian",
          "Cardano",
          "Regalcoin",
          "TrezarCoin",
          "TerraNovaCoin",
          "Rupee",
          "WomenCoin",
          "Theresa May Coin",
          "NamoCoin",
          "LUXCoin",
          "Xios",
          "Bitcloud 2.0",
          "KekCoin",
          "BlackholeCoin",
          "Infinity Economics",
          "Magnet",
          "Lamden Tau",
          "Electra",
          "Bitcoin Diamond",
          "Cash & Back Coin",
          "Bulwark",
          "Kalkulus",
          "GermanCoin",
          "LiteCoin Ultra",
          "PhantomX",
          "Digiwage",
          "Trollcoin",
          "Litecoin Plus",
          "Monkey Project",
          "TokenPay",
          "1717 Masonic Commemorative Token",
          "My Big Coin",
          "Unified Society USDEX",
          "Tokyo Coin",
          "Stipend",
          "Pushi",
          "Ellerium",
          "Velox",
          "Ontology",
          "Bitspace",
          "Briacoin",
          "Ignition",
          "MedicCoin",
          "Bitcoin Green",
          "Deviant Coin",
          "Abjcoin",
          "Semux",
          "Carebit",
          "Zealium",
          "Proton",
          "iDealCash",
          "Bitcoin Incognito",
          "HollyWoodCoin",
          "Swisscoin",
          "Xt3ch",
          "TheVig",
          "EmaratCoin",
          "Dekado",
          "Lynx",
          "Poseidon Quark",
          "BitcoinWSpectrum",
          "Muse",
          "Trivechain",
          "Dystem",
          "Giant",
          "Peony Coin",
          "Absolute Coin",
          "Vitae",
          "TPCash",
          "ARENON",
          "EUNO",
          "MMOCoin",
          "Ketan",
          "XDNA",
          "PAXEX",
          "ThunderStake",
          "Kcash",
          "Bettex coin",
          "BitMoney",
          "Junson Ming Chan Coin",
          "HerbCoin",
          "PirateCash",
          "Oduwa",
          "Galilel",
          "Crypto Sports",
          "Credit",
          "Dash Platinum",
          "Nasdacoin",
          "Beetle Coin",
          "Titan Coin",
          "Award",
          "Insane Coin",
          "ALAX",
          "LiteDoge",
          "TruckCoin",
          "OrangeCoin",
          "BitstarCoin",
          "NeosCoin",
          "HyperCoin",
          "PinkCoin",
          "AudioCoin",
          "IncaKoin",
          "Piggy Coin",
          "Genstake",
          "XiaoMiCoin",
          "CapriCoin",
          " ClubCoin",
          "Radium",
          "Creditbit ",
          "OKCash",
          "Lisk",
          "HiCoin",
          "WhiteCoin",
          "FriendshipCoin",
          "Triangles Coin",
          "EOS",
          "Oxycoin",
          "TigerCash",
          "Particl",
          "Nxt",
          "ZEPHYR",
          "Gapcoin",
          "BitcoinPlus"
         ],
         "legendgroup": "1",
         "marker": {
          "color": [
           1,
           1,
           1,
           1,
           1,
           1,
           1,
           1,
           1,
           1,
           1,
           1,
           1,
           1,
           1,
           1,
           1,
           1,
           1,
           1,
           1,
           1,
           1,
           1,
           1,
           1,
           1,
           1,
           1,
           1,
           1,
           1,
           1,
           1,
           1,
           1,
           1,
           1,
           1,
           1,
           1,
           1,
           1,
           1,
           1,
           1,
           1,
           1,
           1,
           1,
           1,
           1,
           1,
           1,
           1,
           1,
           1,
           1,
           1,
           1,
           1,
           1,
           1,
           1,
           1,
           1,
           1,
           1,
           1,
           1,
           1,
           1,
           1,
           1,
           1,
           1,
           1,
           1,
           1,
           1,
           1,
           1,
           1,
           1,
           1,
           1,
           1,
           1,
           1,
           1,
           1,
           1,
           1,
           1,
           1,
           1,
           1,
           1,
           1,
           1,
           1,
           1,
           1,
           1,
           1,
           1,
           1,
           1,
           1,
           1,
           1,
           1,
           1,
           1,
           1,
           1,
           1,
           1,
           1,
           1,
           1,
           1,
           1,
           1,
           1,
           1,
           1,
           1,
           1,
           1,
           1,
           1,
           1,
           1,
           1,
           1,
           1,
           1,
           1,
           1,
           1,
           1,
           1,
           1,
           1,
           1,
           1,
           1,
           1,
           1,
           1,
           1,
           1,
           1,
           1,
           1,
           1,
           1,
           1,
           1,
           1,
           1,
           1,
           1,
           1,
           1,
           1,
           1,
           1,
           1,
           1,
           1,
           1,
           1,
           1,
           1,
           1,
           1,
           1,
           1,
           1,
           1,
           1,
           1,
           1,
           1,
           1,
           1,
           1,
           1,
           1,
           1,
           1,
           1,
           1,
           1,
           1,
           1,
           1,
           1,
           1,
           1,
           1,
           1,
           1,
           1,
           1,
           1,
           1,
           1,
           1,
           1,
           1,
           1,
           1,
           1,
           1,
           1,
           1,
           1,
           1,
           1,
           1,
           1,
           1,
           1,
           1,
           1,
           1,
           1,
           1,
           1,
           1,
           1,
           1,
           1,
           1,
           1,
           1,
           1,
           1,
           1,
           1,
           1,
           1,
           1,
           1,
           1,
           1,
           1,
           1,
           1,
           1,
           1,
           1,
           1,
           1,
           1,
           1,
           1,
           1,
           1,
           1,
           1,
           1,
           1,
           1,
           1,
           1,
           1,
           1,
           1,
           1,
           1,
           1,
           1,
           1,
           1,
           1,
           1,
           1,
           1,
           1,
           1,
           1,
           1
          ],
          "coloraxis": "coloraxis",
          "symbol": "circle"
         },
         "mode": "markers",
         "name": "1",
         "scene": "scene",
         "showlegend": true,
         "type": "scatter3d",
         "x": [
          -0.3342113327157699,
          -0.31758732304645143,
          2.303955560545909,
          -0.3973499798456116,
          -0.2803160838609323,
          -0.31487859085727765,
          -0.27075061385036964,
          -0.22242554839118622,
          -0.3338716813798813,
          -0.326466746777593,
          -0.33271143630861216,
          -0.33420727758028596,
          -0.3341915947389459,
          0.6225502823681245,
          -0.3781869701101798,
          -0.3462883898556772,
          -0.31022295260353744,
          -0.332274466531644,
          -0.3330930833743723,
          -0.3972449233758912,
          -0.31286606935416117,
          -0.0306149327124539,
          -0.2782670510647214,
          -0.28983498536926616,
          -0.2744504890436269,
          -0.27507123603019645,
          -0.34688905696142897,
          -0.32852626356137027,
          -0.3326166645075628,
          0.023088656267601294,
          -0.3529329643808951,
          -0.3976156596718377,
          -0.2454821209965204,
          -0.3082142626145511,
          -0.3975274899379305,
          -0.3094988837032215,
          -0.33289166696370354,
          -0.3492272480146058,
          -0.3974920571070193,
          -0.24594893090328593,
          -0.2748526143370044,
          -0.32533365287632304,
          -0.0969433672847693,
          -0.3218020805450531,
          -0.3140920794565294,
          -0.37760989960632363,
          -0.2898153187172088,
          -0.2751464252336122,
          -0.2844810639813943,
          -0.33419344338567886,
          -0.27509872643390804,
          -0.3533767296505053,
          -0.33392841511282506,
          -0.3975972319709096,
          -0.4286130387410503,
          -0.4139540700205167,
          -0.2882204420479742,
          -0.2746214197288738,
          -0.3074511450868162,
          -0.22486180817823798,
          -0.056217144416907804,
          -0.31484957315230233,
          -0.07577805547358767,
          -0.3149131374533362,
          -0.2124480605862992,
          -0.3338045496894637,
          -0.2880895893972632,
          -0.39477243358659525,
          0.8607837810799304,
          -0.31471362004848774,
          -0.10656597524770266,
          -0.34597237386797286,
          -0.395445169475413,
          -0.3134598065784497,
          -0.3111330070580688,
          -0.3335213875239714,
          -0.39633516065083596,
          -0.3352877605495905,
          -0.3101533800873347,
          -0.33384255389960354,
          -0.33228513056451175,
          -0.22971554067496078,
          -0.340895839125692,
          -0.3970722893084212,
          -0.33304857271349464,
          -0.3148941164288633,
          -0.397586443878956,
          -0.33403131101953765,
          -0.3341876900347505,
          -0.28807956633238907,
          -0.20596039163221472,
          0.05522273151875722,
          -0.3449318122300724,
          -0.33380275360118544,
          -0.3837788138949761,
          -0.34426208655686785,
          -0.23114311677977534,
          -0.4140366781742742,
          -0.3440111753908853,
          -0.2585852474489737,
          3.786314557633747,
          -0.39717989873671217,
          0.8544088723015322,
          -0.3975414581967059,
          -0.3453945129798942,
          -0.3337304137379678,
          -0.3338843713374376,
          -0.34597237386797286,
          -0.39711726788392776,
          -0.3147571137747501,
          -0.333731157195843,
          -0.41162594566715915,
          -0.3338782099234034,
          -0.32947556220605756,
          -0.3975703819981331,
          -0.33309057233750783,
          0.3519795187980504,
          -0.3340770430266709,
          -0.33414746469890017,
          -0.33396825926553575,
          -0.3517587083623663,
          -0.33038225892622736,
          -0.31487058555075265,
          -0.3974805377786077,
          -0.3339257702299496,
          -0.3340524217621452,
          -0.28972195586018845,
          -0.2722877752419856,
          -0.23091149612303996,
          -0.3149493039221489,
          -0.2894637295213256,
          -0.3967478560461573,
          -0.40148345256479345,
          -0.39548917462780925,
          -0.34422289588934624,
          -0.3966459812298442,
          -0.3386354784935418,
          -0.39259583173262685,
          -0.3339958427889566,
          -0.3339950222442857,
          -0.327131273240281,
          0.2607876885409795,
          -0.3971234365494219,
          -0.2724015827418065,
          -0.3460065706766978,
          -0.33320824509952274,
          0.9069989236331806,
          -0.2694437869350068,
          -0.33406887049147327,
          0.6064609055231371,
          -0.3350535625544556,
          -0.33355912533724963,
          -0.40247498612884924,
          -0.2747845269186012,
          0.1297271704470094,
          -0.2748551516129127,
          -0.3377390213106992,
          -0.4019810351169047,
          -0.39739523200889576,
          -0.28979604687090266,
          -0.34587310613304173,
          -0.3336318507687701,
          -0.3341304330004431,
          -0.3382496430172741,
          0.6751627548336432,
          -0.39733616938616084,
          -0.34189938399900405,
          -0.3340861331086565,
          -0.3269951900559864,
          0.43326494296326173,
          -0.31322060923946266,
          -0.3198542037447422,
          -0.38779642226149696,
          -0.3340365796999388,
          -0.37647814098232263,
          -0.34772221674702103,
          -0.33390729402455,
          -0.09762697202826026,
          -0.3961314630570356,
          3.791159787211278,
          0.2231744861152812,
          -0.2715335055235173,
          -0.33137320618206056,
          -0.29075293440850075,
          -0.33385442277794475,
          0.07934865554230412,
          -0.33304762237799573,
          -0.39671139659518917,
          -0.33302095386016434,
          -0.3206413412034368,
          -0.3341525128229607,
          -0.353348723416733,
          -0.33556902883979234,
          -0.2766069536759119,
          -0.30521757945745276,
          -0.3297078521893021,
          -0.2227252033527263,
          -0.36036397109461193,
          -0.39741241032080776,
          -0.34219315664861216,
          -0.2889578242529448,
          -0.3356666929371609,
          -0.3346533977267538,
          -0.33417980493877414,
          -0.33416155553176285,
          -0.28335182086967453,
          -0.399137240266228,
          -0.34546847220333504,
          -0.33387869034835443,
          3.964547722815182,
          -0.3751493002510457,
          -0.3456567112612993,
          -0.298281621901947,
          -0.2808648625237426,
          -0.3586836423463846,
          -0.2894909608398164,
          -0.13773863157799643,
          -0.28974239556956594,
          -0.32375939918521973,
          -0.3333538662392916,
          -0.18014229943839988,
          2.2415101538484703,
          -0.32957137596611746,
          -0.2695713827328893,
          1.0582469802396914,
          -0.34168435975202305,
          -0.3339676861030827,
          -0.37815866343984866,
          -0.17072539454688387,
          -0.37098828526262606,
          -0.33269009456948884,
          -0.32707150538480606,
          -0.3529270664228433,
          -0.39688694234577226,
          -0.2869939809335029,
          -0.34475840187615653,
          -0.32020128389764546,
          -0.35278869312383493,
          -0.19396115349382403,
          -0.3487299970791163,
          -0.298121592625179,
          0.4414111349335551,
          -0.14379535192842596,
          -0.37745486722179267,
          -0.28218516202635124,
          -0.33388267052529524,
          -0.3779099734276119,
          -0.3340844008443909,
          0.5706270484691746,
          -0.3534029129368156,
          -0.3333666979721442,
          -0.33666105094607035,
          -0.27857716693536233,
          -0.3944566724695414,
          -0.3971136791929782,
          3.803373567600397,
          0.10008505151581214,
          -0.3946591725296636,
          -0.3327534292659329,
          -0.333576739494424,
          -0.27078315191694113,
          -0.3340939478491238,
          -0.3887603923465396,
          -0.2479814576777606,
          -0.0950553679278599,
          -0.3845178782907292,
          -0.3333739402299935,
          -0.32645391220632825,
          -0.3936900549314906,
          -0.33181654893317347,
          -0.34624737517857773,
          -0.40099345712688345,
          -0.3133970037796878,
          3.786705510927641,
          -0.09746086385086132,
          -0.3290176838680459,
          -0.34651569613879674,
          -0.2752533980746846,
          3.796549999296273,
          3.7977912043701867,
          -0.2517232087273818,
          -0.34618339337642756,
          -0.34939272873015687,
          2.4937530496941545,
          -0.33226086142515776,
          -0.290138006984423
         ],
         "y": [
          1.07904809461159,
          1.0796159102909235,
          1.7207853345245436,
          1.1839109862790025,
          1.6456911587950958,
          0.8489686450819599,
          0.6548935250567101,
          1.7004205535053079,
          1.0790553305298158,
          1.079496025758719,
          1.0791348456035312,
          1.079047959180369,
          1.0790484962409514,
          0.4698939903786184,
          1.0275754422050902,
          1.5502101927932421,
          0.6429835174819958,
          1.0790713183041512,
          0.99100933213725,
          1.1839170625317694,
          0.9539500550796931,
          0.8999730709847256,
          0.8493122393076886,
          0.8849683364941414,
          1.8041353699672456,
          1.8040994672227093,
          0.5690160908559762,
          1.0790661048900263,
          1.079067806404772,
          1.099713600081902,
          0.989861833728362,
          1.1839118992939353,
          0.10552294240248579,
          1.6669984349955809,
          1.183909599530259,
          1.0792934025722378,
          1.0790504208090372,
          1.0203882848415569,
          1.1839149789210912,
          0.10556994368546943,
          1.8041121118572714,
          1.0788215554121023,
          0.5899415376424998,
          1.332774913401856,
          0.8489800950184254,
          1.02761206001774,
          0.8849814472735872,
          1.804086238357596,
          0.8849199666320595,
          1.0790491293251752,
          1.8040904771716533,
          0.989821367122847,
          1.0790496578981073,
          1.1839129658547234,
          1.9870453280835771,
          0.969167187385529,
          0.8849996910802608,
          1.804088483373901,
          0.8486745073955791,
          1.7005191866745364,
          0.7814527967230334,
          0.8489703234070609,
          1.1828791686881939,
          0.8489751570482839,
          1.392039762254751,
          1.0790405418862312,
          0.8849176796340313,
          1.183792184074976,
          0.878269148161661,
          0.8489648665468468,
          0.45573448400451166,
          1.5502136703920093,
          1.1839819363124517,
          0.8489021669384691,
          0.8488130589225618,
          1.3849705264507781,
          1.183883100634524,
          1.478136756558817,
          1.078959545352809,
          1.0790366171190522,
          1.0790855016420713,
          1.6099403246343658,
          0.9900718525267707,
          1.1839063271620107,
          1.0790487457612117,
          0.8489684871206382,
          1.1839113697974566,
          1.0790429666017192,
          1.0790494620873043,
          0.8850818396650109,
          0.24500777077487065,
          1.7424979757733534,
          1.5502338940284726,
          1.0790717260285496,
          1.183602185787812,
          1.5502977898868706,
          1.6100039076647623,
          1.8981807352810032,
          1.550119160386362,
          1.7335935972409846,
          1.2671759761952952,
          1.183914903375223,
          1.8687972966663993,
          1.1839133402108186,
          1.5502248925058666,
          1.079047390180481,
          1.079035925164285,
          1.5502136703920093,
          1.1838963256306292,
          0.8489771510820009,
          1.079051446814712,
          0.6554968902628724,
          1.079046641614696,
          1.078840509679566,
          1.1839108187716183,
          1.079006356253717,
          0.8980403167865473,
          1.079046241604906,
          1.0790493349346009,
          1.3536330877629694,
          0.5971147456712087,
          1.0788995573932731,
          0.848969848098821,
          1.1839127931917643,
          1.0790498108727589,
          1.0790410549270548,
          0.8849461468507857,
          0.42618760004966383,
          1.6100084057601267,
          1.0794221650578117,
          0.884976306712038,
          1.1838880914129644,
          1.8360706765242418,
          1.1839534909269904,
          1.5502480414622757,
          1.1838939836453612,
          1.5503568191597612,
          1.1838322335853162,
          1.079044861041261,
          1.0790394414236641,
          1.078717584702462,
          0.6301454059396578,
          1.1839107689714654,
          0.8845086099915177,
          1.5502042924561117,
          1.0790284105418717,
          1.699402614873765,
          0.6548302958001964,
          1.478158044271351,
          1.613696379250082,
          1.384941109055585,
          1.3849461435864574,
          1.8176113595015009,
          1.804093849709346,
          1.068881045296983,
          1.8040979803304589,
          1.5912707375040716,
          1.8176399286244755,
          1.18391761368268,
          0.8849696814506945,
          1.5501886276042707,
          1.0790459039221967,
          1.079049665691818,
          1.644937215530166,
          1.417125015726429,
          1.183908085016941,
          0.5690114707476944,
          1.0790436931696774,
          0.7351580605222656,
          1.104937208258243,
          0.8490068188869564,
          1.384939601715756,
          1.8606876010662956,
          1.079042661871949,
          1.5476719240449708,
          1.5498208307289292,
          1.079054736206998,
          0.6582558390812946,
          1.1838911820585203,
          1.267178712106633,
          1.3950350994320249,
          1.804148681066525,
          1.0790568448140683,
          1.1908558347232778,
          1.3536359718031516,
          1.0659672543485257,
          1.0790044003549395,
          1.1839272004633217,
          1.3536101773324274,
          1.0791669498055063,
          1.0790485366409823,
          0.9898222469403127,
          1.478126778625027,
          -0.07926845188327454,
          0.6060032320736919,
          1.079136885369216,
          1.6099006278254095,
          0.8521967322030914,
          1.1839051554085702,
          1.660897718066299,
          0.8849392822429603,
          1.657191527280409,
          1.3849346535283762,
          1.0790476981266481,
          1.0790472736228816,
          0.8849852797593668,
          1.9894546920257594,
          1.5501924946192058,
          1.0790451338155,
          1.3952855659065049,
          1.547748781493073,
          1.5501875273041033,
          0.582067307720413,
          1.0783432704577498,
          1.4461730699303006,
          0.8849809673131304,
          1.0828636133076037,
          0.8849531047276755,
          1.7353045426042315,
          1.0790355282411164,
          1.5064241097093654,
          0.34464208567121835,
          1.3534174906255803,
          0.6548967848132556,
          1.3272404839731755,
          0.7761636194739023,
          1.3536286808763458,
          1.5477189155075715,
          0.8793780619489671,
          0.9292269217190852,
          1.353644113685511,
          1.078721041553793,
          0.9898214745135059,
          1.1839170472537626,
          0.8849522261080074,
          1.5501432828884019,
          0.7871054472922487,
          0.9897961774651792,
          1.0738397685398506,
          1.9528480514690174,
          1.4668197052317964,
          1.8047165250263006,
          1.0019579283293778,
          1.5477234730882694,
          -0.04550965760424564,
          1.0790515636659146,
          1.5477230242473292,
          1.3536275765801111,
          1.076029644813924,
          0.989820074736622,
          1.0790347860797578,
          1.6608920810944607,
          1.7342917607619126,
          1.18378380683341,
          1.1839187333790953,
          1.2675151292518139,
          1.0782666982981894,
          1.184082897243573,
          1.0789844155770434,
          1.0790446483610752,
          0.6548853530683821,
          1.0790548839448653,
          1.184054067606976,
          1.0762653903667412,
          0.8615584526422032,
          1.1839294429025968,
          1.0790854276297865,
          1.0792007656059377,
          1.1839850277477828,
          1.0790682030798682,
          1.5502059049430739,
          0.5365244065760388,
          0.8489929165541504,
          1.267172748307172,
          0.888700237755701,
          1.0791264828813953,
          0.5689959503106732,
          1.8040888425394093,
          1.2678604741202615,
          1.2679322628999898,
          0.6552632753928728,
          1.5502098762591856,
          1.65620483650342,
          0.595544764286769,
          1.0789759043904188,
          0.884962043633619
         ],
         "z": [
          -0.5874256391173669,
          -0.587875951916952,
          -0.6692723525964913,
          -0.49225047977066494,
          -0.04907201206249954,
          -0.3711514729769233,
          -0.08735497633522274,
          -0.6135810892320023,
          -0.5874339747282588,
          -0.5876717628460258,
          -0.5874733059826746,
          -0.5874256946879511,
          -0.5874261197820445,
          -0.15687396802661954,
          -0.4477549386454382,
          -0.16520796582207117,
          -0.46995653078349087,
          -0.5874695989613566,
          -0.20909551492511816,
          -0.49225381847587096,
          -0.6329384718532929,
          -0.31187368228806434,
          -0.37196352263292165,
          -0.30363327060778206,
          -0.6333912406387834,
          -0.6333715132369199,
          -0.33858501560090043,
          -0.5875447323176296,
          -0.5874619494353908,
          -0.5987806688230667,
          -0.20846500150499328,
          -0.49224526185259904,
          0.09648175298008056,
          -0.3074020406970281,
          -0.4922465978785114,
          -0.5879764170475863,
          -0.5874529165968394,
          -0.5554306150170043,
          -0.4922483837111373,
          0.09648192660858435,
          -0.6333784610563874,
          -0.5875611563102129,
          0.3275925069136348,
          -0.1127620174939764,
          -0.37116972403537524,
          -0.4477739201839934,
          -0.30363626786890524,
          -0.6333673643199577,
          -0.30373248283544774,
          -0.5874262076482388,
          -0.6333691734253736,
          -0.20844796627246534,
          -0.5874316979460037,
          -0.4922458476334099,
          -0.7530630961918163,
          -0.03842017690915505,
          -0.303672291572936,
          -0.6333784776256446,
          -0.37124412713881416,
          -0.6135511246637645,
          -0.4312408211060727,
          -0.3711523951625151,
          -0.4985806287941594,
          -0.3711520611709196,
          -0.5713093529750787,
          -0.5874324088414206,
          -0.30365870178537263,
          -0.492279319323332,
          -0.3256874022921746,
          -0.37115407667113354,
          -0.1392523785021903,
          -0.16521507651455827,
          -0.4923032441685746,
          -0.37116713251271705,
          -0.37119675997168905,
          -0.5674484349556617,
          -0.4922655767112679,
          -0.18925146764213555,
          -0.5878969705367363,
          -0.5874308589589634,
          -0.5874721923848024,
          -0.34958331747777993,
          -0.2087512156021579,
          -0.4922551995454718,
          -0.5874493962800234,
          -0.37115112618906637,
          -0.49224575063093773,
          -0.5874282812873324,
          -0.5874263904903119,
          -0.3036914302548231,
          -0.40996401171201985,
          -0.7305004348015751,
          -0.16524022838418495,
          -0.5874386238090087,
          -0.49246507379258914,
          -0.16526649730533272,
          -0.349566905680882,
          -0.6914518340973017,
          -0.16523620439885045,
          -0.722359410549178,
          -0.28696447103358624,
          -0.49225471203446985,
          -0.6691418811200127,
          -0.49224705516878026,
          -0.16522904250065562,
          -0.5874352721820943,
          -0.5874298721013945,
          -0.16521507651455827,
          -0.492252303958061,
          -0.3711556267636112,
          -0.5874360608096415,
          -0.2339458373936888,
          -0.5874321205409947,
          -0.5874807450025069,
          -0.4922459678463819,
          -0.5874401442435218,
          -0.319265353331934,
          -0.5874280008505265,
          -0.5874271827065828,
          -0.22914698343133752,
          -0.337558756080738,
          -0.587474019287729,
          -0.37115187400274685,
          -0.4922481847370497,
          -0.5874317820006489,
          -0.5874274735439021,
          -0.3036311710493337,
          -0.38544580141637225,
          -0.34957250358677644,
          -0.5878911719677011,
          -0.30364239393170306,
          -0.4922581792485642,
          -0.6916957728712735,
          -0.4922967141072902,
          -0.16525743710439572,
          -0.49226141684050506,
          -0.16539252956757006,
          -0.4923314844504377,
          -0.5874293773708672,
          -0.5874283202638266,
          -0.5875040277536758,
          -0.09325292184535364,
          -0.49225504024473515,
          -0.3038964454065187,
          -0.16521252357278357,
          -0.5874421226298704,
          -0.6363301549481273,
          -0.08736900451116138,
          -0.18928045410226937,
          -0.7148637217406971,
          -0.5674114715885504,
          -0.5674428371529189,
          -0.7251822245052295,
          -0.6333762263901846,
          -0.5948388328470036,
          -0.6333756096377529,
          -0.22399188958100782,
          -0.7251979223182263,
          -0.4922508732909797,
          -0.3036343283414663,
          -0.16521213201715046,
          -0.5874369805849724,
          -0.5874275943358669,
          -0.047745381183892974,
          -0.14883532777604852,
          -0.49225018558658634,
          -0.33868549410508125,
          -0.5874273112154292,
          -0.1151915742581262,
          -0.6081507032408712,
          -0.37119272772282236,
          -0.5677200352596176,
          -0.5904016133713204,
          -0.5874281138481375,
          -0.512969172130922,
          -0.17290381957078177,
          -0.5874331333003984,
          -0.09153914847538573,
          -0.4922713171594791,
          -0.287063471778048,
          -0.5807549902316688,
          -0.6334531532307537,
          -0.5874850456325101,
          -0.28361647148848446,
          -0.2291498680845272,
          -0.59323779856041,
          -0.587440629499322,
          -0.4922666687523104,
          -0.2291616941733944,
          -0.5877249400860383,
          -0.5874269219601546,
          -0.20844870969702595,
          -0.18924377514667653,
          0.11412972241870721,
          -0.30471163790342376,
          -0.5875347451901896,
          -0.34971750127857687,
          -0.4393747770576366,
          -0.4922480558747397,
          -0.38129972535596657,
          -0.3036453386990805,
          -0.12167812498368731,
          -0.5674183242121763,
          -0.5874262012303347,
          -0.5874264879655818,
          -0.3037683702954731,
          -0.1361316171935322,
          -0.16522112064684785,
          -0.5874318120402922,
          -0.3232177856771803,
          -0.5130114028234352,
          -0.16521631132158793,
          -0.08991289264290614,
          -0.588370033411285,
          0.07252447466543294,
          -0.3036427639692425,
          -0.5921740743706719,
          -0.30363213425342517,
          -0.7213740102994827,
          -0.5874405737192171,
          -0.3297626943483857,
          -0.3124128830408856,
          -0.22919361542852243,
          -0.08737958504281504,
          -0.21202105520353073,
          -0.3737283253726575,
          -0.2291461219482517,
          -0.5129443330115858,
          -0.30494607327607176,
          -0.39898957174593563,
          -0.22917514124252056,
          -0.587505927182153,
          -0.20845712504210775,
          -0.49226108989064526,
          -0.30368781001100653,
          -0.1652257995558207,
          -0.4091015430005491,
          -0.20845492482266698,
          -0.5892437092319499,
          0.18368025109244465,
          -0.09750150921214612,
          0.0744932139731018,
          -0.21511141592959543,
          -0.5129595376631356,
          0.16737210148291037,
          -0.5874330050972364,
          -0.5129502006370553,
          -0.2291435314249335,
          -0.605214589371874,
          -0.20844717814989705,
          -0.5874401659254525,
          -0.38141102502865326,
          -0.7220914859648664,
          -0.4922840760540149,
          -0.49225681649825087,
          -0.28737831876396003,
          -0.5960960489314207,
          -0.49233921945888715,
          -0.5874426481673904,
          -0.5874378517246729,
          -0.08735269603300277,
          -0.5874293696264292,
          -0.4924533751011026,
          -0.5886265613220161,
          -0.3781128456297181,
          -0.49251489443868407,
          -0.5874500522955953,
          -0.5876135241802682,
          -0.49233952190807745,
          -0.5874782869738645,
          -0.16520794972527839,
          -0.1743587227976729,
          -0.3711863888046648,
          -0.2869717759595055,
          -0.30828185266013364,
          -0.5875467088956199,
          -0.3385886121539754,
          -0.6333657065148024,
          -0.28730808144911163,
          -0.28734752707159134,
          -0.08781488552015478,
          -0.16521003671447274,
          -0.15151941582394612,
          -0.1631806105733384,
          -0.5874509712043516,
          -0.30362586618684145
         ]
        },
        {
         "customdata": [
          [
           "SHA-256"
          ],
          [
           "Ethash"
          ],
          [
           "Scrypt"
          ],
          [
           "CryptoNight-V7"
          ],
          [
           "Ethash"
          ],
          [
           "Equihash"
          ],
          [
           "Multiple"
          ],
          [
           "Scrypt"
          ],
          [
           "X11"
          ],
          [
           "Scrypt"
          ],
          [
           "Multiple"
          ],
          [
           "Scrypt"
          ],
          [
           "SHA-256"
          ],
          [
           "Scrypt"
          ],
          [
           "Scrypt"
          ],
          [
           "Quark"
          ],
          [
           "Groestl"
          ],
          [
           "Scrypt"
          ],
          [
           "Scrypt"
          ],
          [
           "Scrypt"
          ],
          [
           "X11"
          ],
          [
           "Multiple"
          ],
          [
           "SHA-256"
          ],
          [
           "Scrypt"
          ],
          [
           "Scrypt"
          ],
          [
           "Scrypt"
          ],
          [
           "Scrypt"
          ],
          [
           "Scrypt"
          ],
          [
           "NeoScrypt"
          ],
          [
           "Scrypt"
          ],
          [
           "Scrypt"
          ],
          [
           "Scrypt"
          ],
          [
           "Scrypt"
          ],
          [
           "SHA-256"
          ],
          [
           "Scrypt"
          ],
          [
           "Scrypt"
          ],
          [
           "Scrypt"
          ],
          [
           "Scrypt"
          ],
          [
           "HybridScryptHash256"
          ],
          [
           "Scrypt"
          ],
          [
           "Scrypt"
          ],
          [
           "SHA-256"
          ],
          [
           "Scrypt"
          ],
          [
           "Scrypt"
          ],
          [
           "Scrypt"
          ],
          [
           "Scrypt"
          ],
          [
           "SHA-256"
          ],
          [
           "SHA-256"
          ],
          [
           "SHA-256"
          ],
          [
           "SHA-256"
          ],
          [
           "SHA-256"
          ],
          [
           "X11"
          ],
          [
           "Scrypt"
          ],
          [
           "Lyra2REv2"
          ],
          [
           "Scrypt"
          ],
          [
           "SHA-256"
          ],
          [
           "CryptoNight"
          ],
          [
           "CryptoNight"
          ],
          [
           "Scrypt"
          ],
          [
           "Scrypt"
          ],
          [
           "Scrypt"
          ],
          [
           "Scrypt"
          ],
          [
           "Scrypt"
          ],
          [
           "Scrypt"
          ],
          [
           "Stanford Folding"
          ],
          [
           "Multiple"
          ],
          [
           "QuBit"
          ],
          [
           "Scrypt"
          ],
          [
           "Scrypt"
          ],
          [
           "M7 POW"
          ],
          [
           "Scrypt"
          ],
          [
           "SHA-256"
          ],
          [
           "Scrypt"
          ],
          [
           "SHA3"
          ],
          [
           "X11"
          ],
          [
           "Lyra2RE"
          ],
          [
           "SHA-256"
          ],
          [
           "X11"
          ],
          [
           "Scrypt"
          ],
          [
           "Scrypt"
          ],
          [
           "Ethash"
          ],
          [
           "Blake2b"
          ],
          [
           "X11"
          ],
          [
           "SHA-256"
          ],
          [
           "Scrypt"
          ],
          [
           "1GB AES Pattern Search"
          ],
          [
           "Scrypt"
          ],
          [
           "SHA-256"
          ],
          [
           "X11"
          ],
          [
           "Dagger"
          ],
          [
           "Scrypt"
          ],
          [
           "X11GOST"
          ],
          [
           "Scrypt"
          ],
          [
           "X11"
          ],
          [
           "Scrypt"
          ],
          [
           "X11"
          ],
          [
           "Equihash"
          ],
          [
           "CryptoNight"
          ],
          [
           "SHA-256"
          ],
          [
           "Multiple"
          ],
          [
           "Scrypt"
          ],
          [
           "SHA-256"
          ],
          [
           "Scrypt"
          ],
          [
           "Lyra2Z"
          ],
          [
           "Ethash"
          ],
          [
           "Equihash"
          ],
          [
           "Scrypt"
          ],
          [
           "X11"
          ],
          [
           "X11"
          ],
          [
           "CryptoNight"
          ],
          [
           "Scrypt"
          ],
          [
           "CryptoNight"
          ],
          [
           "Lyra2RE"
          ],
          [
           "X11"
          ],
          [
           "CryptoNight-V7"
          ],
          [
           "Scrypt"
          ],
          [
           "X11"
          ],
          [
           "Equihash"
          ],
          [
           "Scrypt"
          ],
          [
           "Lyra2RE"
          ],
          [
           "Dagger-Hashimoto"
          ],
          [
           "Scrypt"
          ],
          [
           "NIST5"
          ],
          [
           "Scrypt"
          ],
          [
           "SHA-256"
          ],
          [
           "Scrypt"
          ],
          [
           "CryptoNight-V7"
          ],
          [
           "Argon2d"
          ],
          [
           "Blake2b"
          ],
          [
           "Cloverhash"
          ],
          [
           "CryptoNight"
          ],
          [
           "X11"
          ],
          [
           "Scrypt"
          ],
          [
           "Scrypt"
          ],
          [
           "X11"
          ],
          [
           "X11"
          ],
          [
           "CryptoNight"
          ],
          [
           "Time Travel"
          ],
          [
           "Scrypt"
          ],
          [
           "Keccak"
          ],
          [
           "X11"
          ],
          [
           "SHA-256"
          ],
          [
           "Scrypt"
          ],
          [
           "Scrypt"
          ],
          [
           "Scrypt"
          ],
          [
           "Scrypt"
          ],
          [
           "Scrypt"
          ],
          [
           "Scrypt"
          ],
          [
           "CryptoNight"
          ],
          [
           "Equihash"
          ],
          [
           "X11"
          ],
          [
           "NeoScrypt"
          ],
          [
           "Equihash"
          ],
          [
           "Dagger"
          ],
          [
           "Scrypt"
          ],
          [
           "X11"
          ],
          [
           "NeoScrypt"
          ],
          [
           "Ethash"
          ],
          [
           "NeoScrypt"
          ],
          [
           "Multiple"
          ],
          [
           "CryptoNight"
          ],
          [
           "CryptoNight"
          ],
          [
           "Ethash"
          ],
          [
           "X11"
          ],
          [
           "CryptoNight-V7"
          ],
          [
           "Scrypt"
          ],
          [
           "BLAKE256"
          ],
          [
           "X11"
          ],
          [
           "NeoScrypt"
          ],
          [
           "NeoScrypt"
          ],
          [
           "Scrypt"
          ],
          [
           "X11"
          ],
          [
           "SHA-256"
          ],
          [
           "C11"
          ],
          [
           "CryptoNight"
          ],
          [
           "SkunkHash"
          ],
          [
           "CryptoNight"
          ],
          [
           "Scrypt"
          ],
          [
           "Dagger"
          ],
          [
           "Lyra2REv2"
          ],
          [
           "Scrypt"
          ],
          [
           "Scrypt"
          ],
          [
           "X11"
          ],
          [
           "Ethash"
          ],
          [
           "CryptoNight"
          ],
          [
           "Scrypt"
          ],
          [
           "IMesh"
          ],
          [
           "Equihash"
          ],
          [
           "Lyra2Z"
          ],
          [
           "X11"
          ],
          [
           "CryptoNight"
          ],
          [
           "NIST5"
          ],
          [
           "Lyra2RE"
          ],
          [
           "Tribus"
          ],
          [
           "Lyra2Z"
          ],
          [
           "CryptoNight"
          ],
          [
           "CryptoNight Heavy"
          ],
          [
           "CryptoNight"
          ],
          [
           "Jump Consistent Hash"
          ],
          [
           "CryptoNight"
          ],
          [
           "X16R"
          ],
          [
           "HMQ1725"
          ],
          [
           "X11"
          ],
          [
           "Scrypt"
          ],
          [
           "CryptoNight-V7"
          ],
          [
           "Cryptonight-GPU"
          ],
          [
           "XEVAN"
          ],
          [
           "CryptoNight Heavy"
          ],
          [
           "SHA-256"
          ],
          [
           "X11"
          ],
          [
           "X16R"
          ],
          [
           "Equihash"
          ],
          [
           "Lyra2Z"
          ],
          [
           "SHA-256"
          ],
          [
           "CryptoNight"
          ],
          [
           "Blake"
          ],
          [
           "Blake"
          ],
          [
           "Exosis"
          ],
          [
           "Scrypt"
          ],
          [
           "Equihash"
          ],
          [
           "Equihash"
          ],
          [
           "QuBit"
          ],
          [
           "SHA-256"
          ],
          [
           "X13"
          ],
          [
           "SHA-256"
          ],
          [
           "Scrypt"
          ],
          [
           "NeoScrypt"
          ],
          [
           "Blake"
          ],
          [
           "Scrypt"
          ],
          [
           "SHA-256"
          ],
          [
           "Scrypt"
          ],
          [
           "Groestl"
          ],
          [
           "Scrypt"
          ],
          [
           "Scrypt"
          ],
          [
           "Multiple"
          ],
          [
           "Equihash+Scrypt"
          ],
          [
           "Ethash"
          ],
          [
           "CryptoNight"
          ],
          [
           "Equihash"
          ]
         ],
         "hovertemplate": "<b>%{hovertext}</b><br><br>Class=%{marker.color}<br>PC 1=%{x}<br>PC 2=%{y}<br>PC 3=%{z}<br>Algorithm=%{customdata[0]}<extra></extra>",
         "hovertext": [
          "Bitcoin",
          "Ethereum",
          "Litecoin",
          "Monero",
          "Ethereum Classic",
          "ZCash",
          "DigiByte",
          "ProsperCoin",
          "Spreadcoin",
          "Argentum",
          "MyriadCoin",
          "MoonCoin",
          "ZetaCoin",
          "SexCoin",
          "Quatloo",
          "QuarkCoin",
          "Riecoin",
          "Digitalcoin ",
          "Catcoin",
          "CannaCoin",
          "CryptCoin",
          "Verge",
          "DevCoin",
          "EarthCoin",
          "E-Gulden",
          "Einsteinium",
          "Emerald",
          "Franko",
          "FeatherCoin",
          "GrandCoin",
          "GlobalCoin",
          "GoldCoin",
          "Infinite Coin",
          "IXcoin",
          "KrugerCoin",
          "LuckyCoin",
          "Litebar ",
          "MegaCoin",
          "MediterraneanCoin",
          "MinCoin",
          "NobleCoin",
          "Namecoin",
          "NyanCoin",
          "RonPaulCoin",
          "StableCoin",
          "SmartCoin",
          "SysCoin",
          "TigerCoin",
          "TerraCoin",
          "UnbreakableCoin",
          "Unobtanium",
          "UroCoin",
          "ViaCoin",
          "Vertcoin",
          "WorldCoin",
          "JouleCoin",
          "ByteCoin",
          "DigitalNote ",
          "MonaCoin",
          "Gulden",
          "PesetaCoin",
          "Wild Beast Coin",
          "Flo",
          "ArtByte",
          "Folding Coin",
          "Unitus",
          "CypherPunkCoin",
          "OmniCron",
          "GreenCoin",
          "Cryptonite",
          "MasterCoin",
          "SoonCoin",
          "1Credit",
          "Nexus",
          "MarsCoin ",
          "Crypto",
          "Anarchists Prime",
          "BowsCoin",
          "Song Coin",
          "BitZeny",
          "Expanse",
          "Siacoin",
          "MindCoin",
          "I0coin",
          "Revolution VR",
          "HOdlcoin",
          "Gamecredits",
          "CarpeDiemCoin",
          "Adzcoin",
          "SoilCoin",
          "YoCoin",
          "SibCoin",
          "Francs",
          "BolivarCoin",
          "Omni",
          "PizzaCoin",
          "Komodo",
          "Karbo",
          "ZayedCoin",
          "Circuits of Value",
          "DopeCoin",
          "DollarCoin",
          "Shilling",
          "ZCoin",
          "Elementrem",
          "ZClassic",
          "KiloCoin",
          "ArtexCoin",
          "Kurrent",
          "Cannabis Industry Coin",
          "OsmiumCoin",
          "Bikercoins",
          "HexxCoin",
          "PacCoin",
          "Citadel",
          "BeaverCoin",
          "VaultCoin",
          "Zero",
          "Canada eCoin",
          "Zoin",
          "DubaiCoin",
          "EB3coin",
          "Coinonat",
          "BenjiRolls",
          "ILCoin",
          "EquiTrader",
          "Quantum Resistant Ledger",
          "Dynamic",
          "Nano",
          "ChanCoin",
          "Dinastycoin",
          "DigitalPrice",
          "Unify",
          "SocialCoin",
          "ArcticCoin",
          "DAS",
          "LeviarCoin",
          "Bitcore",
          "gCn Coin",
          "SmartCash",
          "Onix",
          "Bitcoin Cash",
          "Sojourn Coin",
          "NewYorkCoin",
          "FrazCoin",
          "Kronecoin",
          "AdCoin",
          "Linx",
          "Sumokoin",
          "BitcoinZ",
          "Elements",
          "VIVO Coin",
          "Bitcoin Gold",
          "Pirl",
          "eBoost",
          "Pura",
          "Innova",
          "Ellaism",
          "GoByte",
          "SHIELD",
          "UltraNote",
          "BitCoal",
          "DaxxCoin",
          "AC3",
          "Lethean",
          "PopularCoin",
          "Photon",
          "Sucre",
          "SparksPay",
          "GunCoin",
          "IrishCoin",
          "Pioneer Coin",
          "UnitedBitcoin",
          "Interzone",
          "TurtleCoin",
          "MUNcoin",
          "Niobio Cash",
          "ShareChain",
          "Travelflex",
          "KREDS",
          "BitFlip",
          "LottoCoin",
          "Crypto Improvement Fund",
          "Callisto Network",
          "BitTube",
          "Poseidon",
          "Aidos Kuneen",
          "Bitrolium",
          "Alpenschillling",
          "FuturoCoin",
          "Monero Classic",
          "Jumpcoin",
          "Infinex",
          "KEYCO",
          "GINcoin",
          "PlatinCoin",
          "Loki",
          "Newton Coin",
          "MassGrid",
          "PluraCoin",
          "Motion",
          "PlusOneCoin",
          "Axe",
          "HexCoin",
          "Webchain",
          "Ryo",
          "Urals Coin",
          "Qwertycoin",
          "Project Pai",
          "Azart",
          "Xchange",
          "CrypticCoin",
          "Actinium",
          "Bitcoin SV",
          "FREDEnergy",
          "Universal Molecule",
          "Lithium",
          "Exosis",
          "Block-Logic",
          "Beam",
          "Bithereum",
          "SLICE",
          "BLAST",
          "Bitcoin Rhodium",
          "GlobalToken",
          "SolarCoin",
          "UFO Coin",
          "BlakeCoin",
          "Crypto Escudo",
          "Crown Coin",
          "SmileyCoin",
          "Groestlcoin",
          "Bata",
          "Pakcoin",
          "JoinCoin",
          "Vollar",
          "Reality Clash",
          "Beldex",
          "Horizen"
         ],
         "legendgroup": "0",
         "marker": {
          "color": [
           0,
           0,
           0,
           0,
           0,
           0,
           0,
           0,
           0,
           0,
           0,
           0,
           0,
           0,
           0,
           0,
           0,
           0,
           0,
           0,
           0,
           0,
           0,
           0,
           0,
           0,
           0,
           0,
           0,
           0,
           0,
           0,
           0,
           0,
           0,
           0,
           0,
           0,
           0,
           0,
           0,
           0,
           0,
           0,
           0,
           0,
           0,
           0,
           0,
           0,
           0,
           0,
           0,
           0,
           0,
           0,
           0,
           0,
           0,
           0,
           0,
           0,
           0,
           0,
           0,
           0,
           0,
           0,
           0,
           0,
           0,
           0,
           0,
           0,
           0,
           0,
           0,
           0,
           0,
           0,
           0,
           0,
           0,
           0,
           0,
           0,
           0,
           0,
           0,
           0,
           0,
           0,
           0,
           0,
           0,
           0,
           0,
           0,
           0,
           0,
           0,
           0,
           0,
           0,
           0,
           0,
           0,
           0,
           0,
           0,
           0,
           0,
           0,
           0,
           0,
           0,
           0,
           0,
           0,
           0,
           0,
           0,
           0,
           0,
           0,
           0,
           0,
           0,
           0,
           0,
           0,
           0,
           0,
           0,
           0,
           0,
           0,
           0,
           0,
           0,
           0,
           0,
           0,
           0,
           0,
           0,
           0,
           0,
           0,
           0,
           0,
           0,
           0,
           0,
           0,
           0,
           0,
           0,
           0,
           0,
           0,
           0,
           0,
           0,
           0,
           0,
           0,
           0,
           0,
           0,
           0,
           0,
           0,
           0,
           0,
           0,
           0,
           0,
           0,
           0,
           0,
           0,
           0,
           0,
           0,
           0,
           0,
           0,
           0,
           0,
           0,
           0,
           0,
           0,
           0,
           0,
           0,
           0,
           0,
           0,
           0,
           0,
           0,
           0,
           0,
           0,
           0,
           0,
           0,
           0,
           0,
           0,
           0,
           0,
           0,
           0,
           0,
           0,
           0,
           0,
           0,
           0,
           0,
           0,
           0,
           0,
           0,
           0,
           0,
           0,
           0,
           0,
           0,
           0,
           0,
           0,
           0,
           0,
           0
          ],
          "coloraxis": "coloraxis",
          "symbol": "diamond"
         },
         "mode": "markers",
         "name": "0",
         "scene": "scene",
         "showlegend": true,
         "type": "scatter3d",
         "x": [
          -0.15240491695141392,
          -0.15711238760487672,
          -0.17057083500943465,
          -0.15403387452811762,
          -0.15555768157818362,
          -0.16464036485825312,
          0.158618546085908,
          -0.17171451664652468,
          -0.23506034904256257,
          -0.17133187561723692,
          -0.0942299844403478,
          2.5444696676892438,
          -0.14949637764316895,
          -0.16859334242092738,
          -0.1711363005712076,
          -0.21107852066374683,
          -0.21478215586929944,
          -0.171185044546458,
          -0.17169682388523852,
          -0.171783091367415,
          -0.23514948705493088,
          0.18230517354777642,
          0.22459828805212725,
          0.07639148138869008,
          -0.17152996293386072,
          -0.16714502819475938,
          -0.17146937947877808,
          -0.1718399650117248,
          -0.17975689504452783,
          -0.15110824871369508,
          -0.17063777355038479,
          -0.1709145725809331,
          1.5731547450543475,
          -0.15236637617439058,
          -0.1682099431335974,
          -0.17155634473843628,
          -0.17191036479366636,
          -0.17117126889007914,
          -0.15645654733046524,
          -0.17179189278613743,
          -0.03698611464875522,
          -0.15244380631924842,
          -0.1654699906187583,
          -0.17177136363362228,
          -0.1698697467334393,
          -0.17125924930382508,
          -0.13962430430217795,
          -0.15190877743574732,
          -0.1521953231452865,
          -0.15217828425055993,
          -0.15276775057009978,
          -0.23532300726115263,
          -0.17148850870137272,
          -0.20802628647078875,
          -0.16859801970955454,
          -0.15197591915154138,
          3.85485207573086,
          0.4614350448991249,
          -0.1703585981155897,
          -0.1549906697336167,
          -0.16908029163287952,
          -0.1719125668389573,
          -0.16894565535544545,
          -0.1551999140026351,
          -0.12381187025532238,
          -0.12816086164587417,
          -0.19032926408256393,
          -0.17178593823732888,
          -0.045002588141995155,
          -0.10956656070159039,
          -0.17192144206196097,
          -0.15247151929393202,
          0.4788725959393815,
          -0.17685757481007056,
          -0.23471156255042352,
          -0.1306737771167346,
          -0.15221193155371954,
          -0.23499581928418514,
          -0.17004923586113724,
          -0.1692432885861666,
          -0.158177337337782,
          0.3374820195752866,
          -0.23503114209999487,
          -0.15236749591777954,
          -0.16788834824898394,
          -0.17952608123217753,
          -0.17048799448939506,
          0.26517976220037076,
          -0.23419370138003634,
          -0.1506707194627653,
          -0.1707347058047181,
          -0.10990176590566228,
          -0.17171180972049865,
          -0.23499445605311614,
          -0.17192150042591078,
          -0.2351440787359082,
          -0.3104271250961898,
          0.3066835350127254,
          -0.15262699533440224,
          -0.10827764384237629,
          -0.16909446417398494,
          -0.15258571961912581,
          -0.17158563396395146,
          -0.14799063497478943,
          -0.15792007786478388,
          -0.16466193171252624,
          -0.09880121983136553,
          -0.22175777470526525,
          -0.23297693949797976,
          0.306677930029137,
          -0.17190327725244645,
          0.3068083489822368,
          -0.13121305810411948,
          0.47860367478553856,
          -0.15280114464462358,
          -0.17187163697707078,
          -0.22789341489265902,
          -0.16467428432433845,
          -0.1700090800546392,
          -0.13093207419269245,
          -0.16227806775890036,
          -0.14285630271201344,
          -0.17243246900328327,
          -0.17143497797376386,
          -0.11902626214621012,
          -0.17125739655152508,
          -0.15265934134731968,
          -0.11312383901787294,
          -0.0618909306373727,
          -0.14657635764258953,
          0.34271928771851756,
          -0.23420204935328628,
          -0.1715760025034785,
          -0.1713398418274964,
          -0.23459587806998272,
          -0.23517205616900985,
          0.3070720541743663,
          -0.14988084978887017,
          3.230185733937077,
          -0.09788595263936213,
          -0.22606361831431301,
          -0.1524040831093629,
          -0.09765081499197277,
          1.571040975791067,
          -0.17167362166183364,
          -0.17112643389686774,
          -0.170828077413893,
          -0.17081503868543002,
          0.3072552944120979,
          0.04719312926191299,
          -0.18966200665947855,
          -0.18443524766465638,
          -0.16452068654882462,
          -0.14943249135501008,
          -0.1700072933677038,
          -0.2307262918540462,
          -0.18428098928777192,
          -0.15628866377285608,
          -0.18438098317769216,
          -0.1184142863058582,
          1.1428126474214693,
          0.306660725907837,
          -0.0813365251915378,
          -0.23046814157393317,
          -0.14179523883844125,
          -0.08824760725589091,
          1.109177717044979,
          -0.23514611368653865,
          -0.1844328217192968,
          -0.1774860802604842,
          -0.1709262903386588,
          -0.23507168913532203,
          -0.15238352969833918,
          -0.19805201746156806,
          8.028155385846642,
          -0.13245023525032068,
          0.3105266851073764,
          0.02068692156071757,
          -0.14893695160593426,
          -0.1936162199914507,
          -0.1714987219601306,
          0.13489438150504596,
          -0.2292254299017978,
          -0.10942615282607053,
          0.31456706459096984,
          -0.1717352131707032,
          -0.1703657242583551,
          -0.16351404059512364,
          -0.1457788429019293,
          -0.2342427271830726,
          0.30684283057675177,
          -0.17249183640764626,
          -0.13105862955302516,
          -0.17636696021285866,
          -0.14807483321608075,
          0.31076286591434854,
          0.575252715450902,
          2.111427471530237,
          -0.11410662081656292,
          0.3204177843666657,
          -0.18018515231954735,
          -0.16074454812836642,
          -0.2351283133661592,
          -0.17175973620186977,
          -0.1416741897518472,
          -0.12259158466711109,
          -0.17867948575823916,
          3.092252347285553,
          -0.11232170562179261,
          -0.23509973899566383,
          -0.1796140776417606,
          -0.05949895248118538,
          -0.14747386496311668,
          -0.1524041205876575,
          0.3864308854405256,
          -0.13783313889314014,
          -0.1382243819061948,
          -0.18985571692323455,
          -0.17065444614700093,
          -0.16258490322105462,
          -0.1643538773938206,
          -0.18954190760158354,
          -0.15168187335350133,
          -0.11294888477131342,
          -0.1505522716338088,
          0.5226999456069746,
          -0.10976565159961325,
          -0.08879355262073721,
          -0.15535015077491968,
          -0.1521946950567767,
          0.5423364741831583,
          -0.21434414072017935,
          -0.17183642376264205,
          -0.16979659405013864,
          -0.12889403771948735,
          -0.1516888149994748,
          -0.15795316222935135,
          0.32836959761894796,
          -0.16464141935425933
         ],
         "y": [
          -1.2781907137750006,
          -2.012278755049096,
          -1.0481066780229291,
          -2.192066157081394,
          -2.0123442353123204,
          -1.9785717682760935,
          -1.8264936489588244,
          -1.0481262058548833,
          -0.9432582772509058,
          -1.0481358949415756,
          -1.8270577765344975,
          -1.1751744701278808,
          -1.278132599427688,
          -1.04811514489777,
          -1.0481512235013088,
          -0.5793537243134937,
          -1.099589720686183,
          -1.0481156852726534,
          -1.0481251825415163,
          -1.0481243556287174,
          -0.943261952800049,
          -1.8218343350101722,
          -1.2719102043330557,
          -1.0437508025162872,
          -1.0481155316430986,
          -1.04806822407288,
          -1.0481201676872967,
          -1.0481262359745769,
          -1.5581204227836523,
          -1.0479701009692568,
          -1.0481001895254052,
          -1.0481178608508752,
          -1.014235534001723,
          -1.278188484654757,
          -1.048104381349484,
          -1.04811631750688,
          -1.0481229921920632,
          -1.0481103256384732,
          -2.198112792142536,
          -1.0481225410654402,
          -1.0514183416163794,
          -1.2781929630570217,
          -1.0479988771142537,
          -1.048129493769121,
          -1.0481889695299453,
          -1.0481222223038567,
          -1.2780930944773663,
          -1.2781812670908979,
          -1.278194131425192,
          -1.278221266165578,
          -1.278196344205774,
          -0.943258668744713,
          -1.0481146140269049,
          -1.197928243619956,
          -1.0481268269101855,
          -1.2781836615625424,
          -2.2940161136850885,
          -2.361177473266031,
          -1.0481100316030507,
          -1.0483866028059274,
          -1.0480814341728055,
          -1.0481240652818076,
          -1.048068921404492,
          -1.0478955008562052,
          -2.2980165116254176,
          -1.8275402571434327,
          -1.5300474107755173,
          -1.0481172914147447,
          -1.0481819671773795,
          -2.3371348724375056,
          -1.0481230922879496,
          -1.2781945659191731,
          -1.0785625989362102,
          -0.2961059907540352,
          -0.943247724229372,
          -2.4042286463968194,
          -1.278203794494655,
          -0.9432552849869819,
          -1.048169928170081,
          -1.048152736463477,
          -2.0123528604165375,
          -1.9042784510106048,
          -0.9432536279559044,
          -1.27818854941844,
          -1.0480447692193653,
          -2.084614104786801,
          -1.048101886695563,
          -1.2700265053976674,
          -0.9432555125073959,
          -2.273343187221983,
          -1.048178576461421,
          -2.497019748440428,
          -1.0481253092855853,
          -0.9432581661652495,
          -1.0481230934213837,
          -0.943266820037235,
          -1.187356056274586,
          -2.3627353242947113,
          -1.2781952229076854,
          -1.8272782596571768,
          -1.0481071284520533,
          -1.2781935033102838,
          -1.0481254115981344,
          -2.2719552109383034,
          -2.012344862473986,
          -1.978573015659129,
          -1.0512935707320379,
          -0.9428440863519407,
          -0.9432916983644138,
          -2.3627437885437286,
          -1.048123591843172,
          -2.3627392054012364,
          -2.404218553033079,
          -0.9759672195111923,
          -2.1921317596356777,
          -1.048122239666288,
          -0.9435689624125323,
          -1.9785707700843158,
          -1.0480860273567956,
          -2.4042104415634085,
          -2.232823217945591,
          -1.0494015900448792,
          -0.7422387700717954,
          -1.048120783091952,
          -1.2780946355555238,
          -1.0481375072732997,
          -2.1920643575254006,
          -2.435196761964519,
          -1.9276291821079279,
          -2.184327118306661,
          -2.3621237019013424,
          -0.9432678354363402,
          -1.0481169192995903,
          -1.0481444957591457,
          -0.9432610134413447,
          -0.9432639241573297,
          -2.3627454134083674,
          -2.2853217039782274,
          -0.9993529059986005,
          -1.3400227204006543,
          -0.9435371313156008,
          -1.2781906655472672,
          -1.0515970367512801,
          -0.9473132287847487,
          -1.0481231005658584,
          -1.0481388127337787,
          -1.0481333965001045,
          -1.0481326423665407,
          -2.362760633158589,
          -1.9818443393376513,
          -0.94194974039139,
          -1.5581623472797361,
          -1.9785648463258265,
          -2.273365038388701,
          -1.0480859240184532,
          -0.9432518062331955,
          -1.558166745400146,
          -2.0124383142710323,
          -1.5581627607617976,
          -1.8274649391170135,
          -2.3772684417682752,
          -2.3627384935424867,
          -2.0152960950780274,
          -0.9433848765846296,
          -2.1920979217726395,
          -1.0469831402427807,
          -1.3542853957679954,
          -0.9432630897024268,
          -1.5581577669308102,
          -1.5581104444862455,
          -1.0481124367130872,
          -0.943261153157419,
          -1.2781888596145645,
          -1.274975428215188,
          -2.6561398758024746,
          -2.2957292707804235,
          -2.362754286321155,
          -1.0443826193970327,
          -2.2732947100453313,
          -1.1978466409465105,
          -1.0481277848463701,
          -1.043998309117549,
          -0.943276000356532,
          -2.014330720385744,
          -2.3630119630946216,
          -1.0481274028997922,
          -2.2344033625674578,
          -1.9785428842726533,
          -2.2720334511046305,
          -0.9432701881593705,
          -2.3627323270149723,
          -0.742222037113,
          -2.404221668501042,
          -2.1615132505493984,
          -2.271952014725981,
          -2.3629359881221323,
          -2.2641634838969846,
          -2.3945063416500014,
          -2.477239456561319,
          -2.3626735693496568,
          -1.3510080917362326,
          -2.213768826100868,
          -0.943262948175496,
          -1.0481296391635597,
          -2.1926463088676034,
          -2.268927370016793,
          -0.4663132304135883,
          -2.2549832809640047,
          -1.2774108551494388,
          -0.9432642555167439,
          -1.3510327264019182,
          -1.9780991095569127,
          -2.2719716463986,
          -1.2781906677149355,
          -2.3640947495678812,
          -2.2938399487018306,
          -2.2938034574187682,
          -1.9974220600191237,
          -1.048138154144308,
          -1.9786318180492017,
          -1.9785625141244585,
          -1.5300758722959005,
          -1.278180714668714,
          -0.3230825054415772,
          -1.2781923414446095,
          -1.0805417518693052,
          -1.5567836541647506,
          -2.29610585258319,
          -1.0479041902458794,
          -1.2781940950978286,
          -1.0438117169353698,
          -1.0995799269099809,
          -1.0481214166156687,
          -1.0481344181060548,
          -1.8275847345752905,
          -2.007447312905128,
          -2.0123455049754737,
          -2.362509819837868,
          -1.9785718292660017
         ],
         "z": [
          0.19623182923264162,
          0.39767853333906367,
          -0.020066956300239767,
          0.39846605854910444,
          0.3976599140632744,
          0.4509707977104103,
          0.37405027274845676,
          -0.020039846814006355,
          0.0751385247309083,
          -0.020045702680427872,
          0.37930011344758463,
          -0.05006284544605862,
          0.19616121142960136,
          -0.020105462896086487,
          -0.02004663988564751,
          0.05432818079240644,
          0.11961059204243527,
          -0.020052690510342478,
          -0.020040409091745086,
          -0.02003881990715982,
          0.07514106431318632,
          0.3726457995540185,
          0.1873264942568671,
          -0.0259484383546865,
          -0.02004571194961519,
          -0.020144190078660855,
          -0.020046024517812847,
          -0.020037291641999237,
          0.22869909636407626,
          -0.020489510400907098,
          -0.020066881615897546,
          -0.020057755658387362,
          -0.06221160342938426,
          0.19623060440286383,
          -0.020115386422335593,
          -0.020045020149578447,
          -0.02003650375188549,
          -0.020054032338656273,
          0.4284587712708337,
          -0.02003900057259997,
          -0.022125362351947342,
          0.19623306514067962,
          -0.02019196770692316,
          -0.02003804021102071,
          -0.020064898638252653,
          -0.020049887441586877,
          0.1959527764696926,
          0.19621987564921756,
          0.19622824726420135,
          0.19623327718863184,
          0.19624031783188883,
          0.07514393970810951,
          -0.02004673613655752,
          0.1683829764816538,
          -0.020103053309596743,
          0.19622171443226635,
          0.3265629929078084,
          0.4088263449279669,
          -0.020070604672316618,
          -0.0203280957912501,
          -0.0201022467825224,
          -0.020036246394937725,
          -0.02010746182916975,
          -0.02042114512180578,
          0.4215571795612337,
          0.38008520739998203,
          0.2298463199368867,
          -0.02004016167929778,
          -0.022603679887106737,
          0.3161362561498517,
          -0.020036258821668537,
          0.19623394586181125,
          -0.027229943399268746,
          -0.46396346951576595,
          0.07512934627386354,
          0.4094915652121536,
          0.1962304992896589,
          0.0751366205850507,
          -0.020065023922707762,
          -0.02008480754137918,
          0.39771485630365006,
          0.2866747333965376,
          0.0751370100658295,
          0.19623063998842163,
          -0.020133732336973777,
          0.39098976434157234,
          -0.02006958898032731,
          0.18612863381689138,
          0.07512036602870957,
          0.42981243205947,
          -0.020049381188059434,
          0.529439414088789,
          -0.020040079456762946,
          0.07513716372692708,
          -0.020036257411103934,
          0.07514191875088236,
          0.6702758181266807,
          0.41227966594630894,
          0.19623723541922372,
          0.37962925638125933,
          -0.02009686801492977,
          0.1962360559644892,
          -0.020042623171293267,
          0.43440151146586825,
          0.3977080439781264,
          0.4509714831072131,
          -0.020893953944025417,
          0.07478614343598362,
          0.07510280997123499,
          0.4122814568533703,
          -0.020036528967993652,
          0.4122778985913796,
          0.40950052402062825,
          0.06711691515317161,
          0.3984540062982799,
          -0.02003743982689185,
          0.07505444288735165,
          0.4509712892089655,
          -0.02008246306739453,
          0.40949320710383746,
          0.4841534688623275,
          -0.020373577211069714,
          -2.7099404257792015e-05,
          -0.020046601652829038,
          0.1955345142071458,
          -0.020046896701656106,
          0.3984377704652388,
          0.4627630991057603,
          0.2994167370157773,
          0.41908228647985546,
          0.41142621267439894,
          0.07512297719013092,
          -0.02004450145678394,
          -0.020043836733344474,
          0.07512962845150986,
          0.07514191351664573,
          0.4122737698886224,
          0.4822232321294017,
          -0.09883238409113791,
          0.15705955219562598,
          0.075010953404907,
          0.19623180273306157,
          -0.02085720573873169,
          -0.075427871142209,
          -0.020041293077120183,
          -0.020049299311542732,
          -0.020056435248685,
          -0.020056849620791118,
          0.412273061777642,
          0.4473145728112401,
          0.07395673797581236,
          0.22880247042270013,
          0.4509669943216598,
          0.4297915996804769,
          -0.020082519848485688,
          0.07504917135969945,
          0.2288002071706566,
          0.39769340789737795,
          0.2288014496504261,
          0.37987222705934937,
          0.39816832404637115,
          0.41228075736289915,
          0.3967365325293735,
          0.07507029059261518,
          0.39822365382814784,
          -0.021962430688217405,
          0.11746208593480416,
          0.0751412210166722,
          0.2288015136276658,
          0.22865097472651455,
          -0.020058592221502382,
          0.07513932496932331,
          0.19623102726552932,
          0.12801434778373397,
          0.31350541962676,
          0.4336921033728717,
          0.41220532718657554,
          -0.024691299133178028,
          0.42976759588825425,
          0.1680739853513499,
          -0.020043919079800354,
          -0.027088222830016724,
          0.07502346627157583,
          0.39711606641957575,
          0.41217427679148216,
          -0.020039189076379676,
          0.45100383327403953,
          0.4509421872140277,
          0.43437206781251997,
          0.07512426993566564,
          0.4122758350947561,
          -2.920829159034148e-05,
          0.40949800318041374,
          0.38609711085419857,
          0.43440258917599156,
          0.41223652813546796,
          0.46609310643585383,
          0.38190066826571495,
          0.35709736372151585,
          0.4119883403267038,
          0.1936772260772975,
          0.41806084892569234,
          0.07514083126034374,
          -0.020038247682321382,
          0.39832984517494596,
          0.4576558116093866,
          0.18607266471702646,
          0.4131269342988296,
          0.19526279617461864,
          0.07514050962946375,
          0.19367050224475635,
          0.4487405985178228,
          0.4343942666477905,
          0.19623180392412568,
          0.4109284812443862,
          0.4552030637222835,
          0.4552037841064174,
          0.39509880223670724,
          -0.020059020940379136,
          0.45094092677150327,
          0.45096314255936,
          0.229835959305913,
          0.19621515533824896,
          -0.06597659144742278,
          0.19619450458455553,
          -0.027728421110304713,
          0.22701196998115994,
          0.4546554830294673,
          -0.020416370582024498,
          0.1962282273034851,
          -0.035404719574408675,
          0.11959975082066342,
          -0.020038318455545438,
          -0.02007719335136226,
          0.38010891833542304,
          0.4626826115839435,
          0.3977088435750187,
          0.41179431008724987,
          0.4509708312223976
         ]
        },
        {
         "customdata": [
          [
           "VeChainThor Authority"
          ],
          [
           "Proof-of-BibleHash"
          ],
          [
           "SHA-256 + Hive"
          ],
          [
           "Proof-of-Authority"
          ],
          [
           "ECC 256K1"
          ],
          [
           "Leased POS"
          ]
         ],
         "hovertemplate": "<b>%{hovertext}</b><br><br>Class=%{marker.color}<br>PC 1=%{x}<br>PC 2=%{y}<br>PC 3=%{z}<br>Algorithm=%{customdata[0]}<extra></extra>",
         "hovertext": [
          "Vechain",
          "BiblePay",
          "LitecoinCash",
          "Poa Network",
          "Acute Angle Cloud",
          "Waves"
         ],
         "legendgroup": "3",
         "marker": {
          "color": [
           3,
           3,
           3,
           3,
           3,
           3
          ],
          "coloraxis": "coloraxis",
          "symbol": "square"
         },
         "mode": "markers",
         "name": "3",
         "scene": "scene",
         "showlegend": true,
         "type": "scatter3d",
         "x": [
          4.463070231572167,
          -0.11556678420600344,
          -0.40835423210272037,
          -0.4960373961635517,
          -0.3409311898974805,
          -0.33276109887987176
         ],
         "y": [
          0.9326513993667921,
          0.15428810328651074,
          4.460891141075976,
          6.979051391152845,
          3.8519588470390214,
          1.160933609271154
         ],
         "z": [
          8.961997791699416,
          14.118836337539793,
          16.76328140617753,
          13.065676015418106,
          11.337333237147828,
          11.431357054579879
         ]
        },
        {
         "customdata": [
          [
           "TRC10"
          ]
         ],
         "hovertemplate": "<b>%{hovertext}</b><br><br>Class=%{marker.color}<br>PC 1=%{x}<br>PC 2=%{y}<br>PC 3=%{z}<br>Algorithm=%{customdata[0]}<extra></extra>",
         "hovertext": [
          "BitTorrent"
         ],
         "legendgroup": "2",
         "marker": {
          "color": [
           2
          ],
          "coloraxis": "coloraxis",
          "symbol": "x"
         },
         "mode": "markers",
         "name": "2",
         "scene": "scene",
         "showlegend": true,
         "type": "scatter3d",
         "x": [
          34.011808783912194
         ],
         "y": [
          2.2794988256832887
         ],
         "z": [
          -1.2268881225016204
         ]
        }
       ],
       "layout": {
        "coloraxis": {
         "colorbar": {
          "title": {
           "text": "Class"
          }
         },
         "colorscale": [
          [
           0,
           "#0d0887"
          ],
          [
           0.1111111111111111,
           "#46039f"
          ],
          [
           0.2222222222222222,
           "#7201a8"
          ],
          [
           0.3333333333333333,
           "#9c179e"
          ],
          [
           0.4444444444444444,
           "#bd3786"
          ],
          [
           0.5555555555555556,
           "#d8576b"
          ],
          [
           0.6666666666666666,
           "#ed7953"
          ],
          [
           0.7777777777777778,
           "#fb9f3a"
          ],
          [
           0.8888888888888888,
           "#fdca26"
          ],
          [
           1,
           "#f0f921"
          ]
         ]
        },
        "legend": {
         "title": {
          "text": "Class"
         },
         "tracegroupgap": 0,
         "x": 0,
         "y": 1
        },
        "margin": {
         "t": 60
        },
        "scene": {
         "domain": {
          "x": [
           0,
           1
          ],
          "y": [
           0,
           1
          ]
         },
         "xaxis": {
          "title": {
           "text": "PC 1"
          }
         },
         "yaxis": {
          "title": {
           "text": "PC 2"
          }
         },
         "zaxis": {
          "title": {
           "text": "PC 3"
          }
         }
        },
        "template": {
         "data": {
          "bar": [
           {
            "error_x": {
             "color": "#2a3f5f"
            },
            "error_y": {
             "color": "#2a3f5f"
            },
            "marker": {
             "line": {
              "color": "#E5ECF6",
              "width": 0.5
             }
            },
            "type": "bar"
           }
          ],
          "barpolar": [
           {
            "marker": {
             "line": {
              "color": "#E5ECF6",
              "width": 0.5
             }
            },
            "type": "barpolar"
           }
          ],
          "carpet": [
           {
            "aaxis": {
             "endlinecolor": "#2a3f5f",
             "gridcolor": "white",
             "linecolor": "white",
             "minorgridcolor": "white",
             "startlinecolor": "#2a3f5f"
            },
            "baxis": {
             "endlinecolor": "#2a3f5f",
             "gridcolor": "white",
             "linecolor": "white",
             "minorgridcolor": "white",
             "startlinecolor": "#2a3f5f"
            },
            "type": "carpet"
           }
          ],
          "choropleth": [
           {
            "colorbar": {
             "outlinewidth": 0,
             "ticks": ""
            },
            "type": "choropleth"
           }
          ],
          "contour": [
           {
            "colorbar": {
             "outlinewidth": 0,
             "ticks": ""
            },
            "colorscale": [
             [
              0,
              "#0d0887"
             ],
             [
              0.1111111111111111,
              "#46039f"
             ],
             [
              0.2222222222222222,
              "#7201a8"
             ],
             [
              0.3333333333333333,
              "#9c179e"
             ],
             [
              0.4444444444444444,
              "#bd3786"
             ],
             [
              0.5555555555555556,
              "#d8576b"
             ],
             [
              0.6666666666666666,
              "#ed7953"
             ],
             [
              0.7777777777777778,
              "#fb9f3a"
             ],
             [
              0.8888888888888888,
              "#fdca26"
             ],
             [
              1,
              "#f0f921"
             ]
            ],
            "type": "contour"
           }
          ],
          "contourcarpet": [
           {
            "colorbar": {
             "outlinewidth": 0,
             "ticks": ""
            },
            "type": "contourcarpet"
           }
          ],
          "heatmap": [
           {
            "colorbar": {
             "outlinewidth": 0,
             "ticks": ""
            },
            "colorscale": [
             [
              0,
              "#0d0887"
             ],
             [
              0.1111111111111111,
              "#46039f"
             ],
             [
              0.2222222222222222,
              "#7201a8"
             ],
             [
              0.3333333333333333,
              "#9c179e"
             ],
             [
              0.4444444444444444,
              "#bd3786"
             ],
             [
              0.5555555555555556,
              "#d8576b"
             ],
             [
              0.6666666666666666,
              "#ed7953"
             ],
             [
              0.7777777777777778,
              "#fb9f3a"
             ],
             [
              0.8888888888888888,
              "#fdca26"
             ],
             [
              1,
              "#f0f921"
             ]
            ],
            "type": "heatmap"
           }
          ],
          "heatmapgl": [
           {
            "colorbar": {
             "outlinewidth": 0,
             "ticks": ""
            },
            "colorscale": [
             [
              0,
              "#0d0887"
             ],
             [
              0.1111111111111111,
              "#46039f"
             ],
             [
              0.2222222222222222,
              "#7201a8"
             ],
             [
              0.3333333333333333,
              "#9c179e"
             ],
             [
              0.4444444444444444,
              "#bd3786"
             ],
             [
              0.5555555555555556,
              "#d8576b"
             ],
             [
              0.6666666666666666,
              "#ed7953"
             ],
             [
              0.7777777777777778,
              "#fb9f3a"
             ],
             [
              0.8888888888888888,
              "#fdca26"
             ],
             [
              1,
              "#f0f921"
             ]
            ],
            "type": "heatmapgl"
           }
          ],
          "histogram": [
           {
            "marker": {
             "colorbar": {
              "outlinewidth": 0,
              "ticks": ""
             }
            },
            "type": "histogram"
           }
          ],
          "histogram2d": [
           {
            "colorbar": {
             "outlinewidth": 0,
             "ticks": ""
            },
            "colorscale": [
             [
              0,
              "#0d0887"
             ],
             [
              0.1111111111111111,
              "#46039f"
             ],
             [
              0.2222222222222222,
              "#7201a8"
             ],
             [
              0.3333333333333333,
              "#9c179e"
             ],
             [
              0.4444444444444444,
              "#bd3786"
             ],
             [
              0.5555555555555556,
              "#d8576b"
             ],
             [
              0.6666666666666666,
              "#ed7953"
             ],
             [
              0.7777777777777778,
              "#fb9f3a"
             ],
             [
              0.8888888888888888,
              "#fdca26"
             ],
             [
              1,
              "#f0f921"
             ]
            ],
            "type": "histogram2d"
           }
          ],
          "histogram2dcontour": [
           {
            "colorbar": {
             "outlinewidth": 0,
             "ticks": ""
            },
            "colorscale": [
             [
              0,
              "#0d0887"
             ],
             [
              0.1111111111111111,
              "#46039f"
             ],
             [
              0.2222222222222222,
              "#7201a8"
             ],
             [
              0.3333333333333333,
              "#9c179e"
             ],
             [
              0.4444444444444444,
              "#bd3786"
             ],
             [
              0.5555555555555556,
              "#d8576b"
             ],
             [
              0.6666666666666666,
              "#ed7953"
             ],
             [
              0.7777777777777778,
              "#fb9f3a"
             ],
             [
              0.8888888888888888,
              "#fdca26"
             ],
             [
              1,
              "#f0f921"
             ]
            ],
            "type": "histogram2dcontour"
           }
          ],
          "mesh3d": [
           {
            "colorbar": {
             "outlinewidth": 0,
             "ticks": ""
            },
            "type": "mesh3d"
           }
          ],
          "parcoords": [
           {
            "line": {
             "colorbar": {
              "outlinewidth": 0,
              "ticks": ""
             }
            },
            "type": "parcoords"
           }
          ],
          "pie": [
           {
            "automargin": true,
            "type": "pie"
           }
          ],
          "scatter": [
           {
            "marker": {
             "colorbar": {
              "outlinewidth": 0,
              "ticks": ""
             }
            },
            "type": "scatter"
           }
          ],
          "scatter3d": [
           {
            "line": {
             "colorbar": {
              "outlinewidth": 0,
              "ticks": ""
             }
            },
            "marker": {
             "colorbar": {
              "outlinewidth": 0,
              "ticks": ""
             }
            },
            "type": "scatter3d"
           }
          ],
          "scattercarpet": [
           {
            "marker": {
             "colorbar": {
              "outlinewidth": 0,
              "ticks": ""
             }
            },
            "type": "scattercarpet"
           }
          ],
          "scattergeo": [
           {
            "marker": {
             "colorbar": {
              "outlinewidth": 0,
              "ticks": ""
             }
            },
            "type": "scattergeo"
           }
          ],
          "scattergl": [
           {
            "marker": {
             "colorbar": {
              "outlinewidth": 0,
              "ticks": ""
             }
            },
            "type": "scattergl"
           }
          ],
          "scattermapbox": [
           {
            "marker": {
             "colorbar": {
              "outlinewidth": 0,
              "ticks": ""
             }
            },
            "type": "scattermapbox"
           }
          ],
          "scatterpolar": [
           {
            "marker": {
             "colorbar": {
              "outlinewidth": 0,
              "ticks": ""
             }
            },
            "type": "scatterpolar"
           }
          ],
          "scatterpolargl": [
           {
            "marker": {
             "colorbar": {
              "outlinewidth": 0,
              "ticks": ""
             }
            },
            "type": "scatterpolargl"
           }
          ],
          "scatterternary": [
           {
            "marker": {
             "colorbar": {
              "outlinewidth": 0,
              "ticks": ""
             }
            },
            "type": "scatterternary"
           }
          ],
          "surface": [
           {
            "colorbar": {
             "outlinewidth": 0,
             "ticks": ""
            },
            "colorscale": [
             [
              0,
              "#0d0887"
             ],
             [
              0.1111111111111111,
              "#46039f"
             ],
             [
              0.2222222222222222,
              "#7201a8"
             ],
             [
              0.3333333333333333,
              "#9c179e"
             ],
             [
              0.4444444444444444,
              "#bd3786"
             ],
             [
              0.5555555555555556,
              "#d8576b"
             ],
             [
              0.6666666666666666,
              "#ed7953"
             ],
             [
              0.7777777777777778,
              "#fb9f3a"
             ],
             [
              0.8888888888888888,
              "#fdca26"
             ],
             [
              1,
              "#f0f921"
             ]
            ],
            "type": "surface"
           }
          ],
          "table": [
           {
            "cells": {
             "fill": {
              "color": "#EBF0F8"
             },
             "line": {
              "color": "white"
             }
            },
            "header": {
             "fill": {
              "color": "#C8D4E3"
             },
             "line": {
              "color": "white"
             }
            },
            "type": "table"
           }
          ]
         },
         "layout": {
          "annotationdefaults": {
           "arrowcolor": "#2a3f5f",
           "arrowhead": 0,
           "arrowwidth": 1
          },
          "autotypenumbers": "strict",
          "coloraxis": {
           "colorbar": {
            "outlinewidth": 0,
            "ticks": ""
           }
          },
          "colorscale": {
           "diverging": [
            [
             0,
             "#8e0152"
            ],
            [
             0.1,
             "#c51b7d"
            ],
            [
             0.2,
             "#de77ae"
            ],
            [
             0.3,
             "#f1b6da"
            ],
            [
             0.4,
             "#fde0ef"
            ],
            [
             0.5,
             "#f7f7f7"
            ],
            [
             0.6,
             "#e6f5d0"
            ],
            [
             0.7,
             "#b8e186"
            ],
            [
             0.8,
             "#7fbc41"
            ],
            [
             0.9,
             "#4d9221"
            ],
            [
             1,
             "#276419"
            ]
           ],
           "sequential": [
            [
             0,
             "#0d0887"
            ],
            [
             0.1111111111111111,
             "#46039f"
            ],
            [
             0.2222222222222222,
             "#7201a8"
            ],
            [
             0.3333333333333333,
             "#9c179e"
            ],
            [
             0.4444444444444444,
             "#bd3786"
            ],
            [
             0.5555555555555556,
             "#d8576b"
            ],
            [
             0.6666666666666666,
             "#ed7953"
            ],
            [
             0.7777777777777778,
             "#fb9f3a"
            ],
            [
             0.8888888888888888,
             "#fdca26"
            ],
            [
             1,
             "#f0f921"
            ]
           ],
           "sequentialminus": [
            [
             0,
             "#0d0887"
            ],
            [
             0.1111111111111111,
             "#46039f"
            ],
            [
             0.2222222222222222,
             "#7201a8"
            ],
            [
             0.3333333333333333,
             "#9c179e"
            ],
            [
             0.4444444444444444,
             "#bd3786"
            ],
            [
             0.5555555555555556,
             "#d8576b"
            ],
            [
             0.6666666666666666,
             "#ed7953"
            ],
            [
             0.7777777777777778,
             "#fb9f3a"
            ],
            [
             0.8888888888888888,
             "#fdca26"
            ],
            [
             1,
             "#f0f921"
            ]
           ]
          },
          "colorway": [
           "#636efa",
           "#EF553B",
           "#00cc96",
           "#ab63fa",
           "#FFA15A",
           "#19d3f3",
           "#FF6692",
           "#B6E880",
           "#FF97FF",
           "#FECB52"
          ],
          "font": {
           "color": "#2a3f5f"
          },
          "geo": {
           "bgcolor": "white",
           "lakecolor": "white",
           "landcolor": "#E5ECF6",
           "showlakes": true,
           "showland": true,
           "subunitcolor": "white"
          },
          "hoverlabel": {
           "align": "left"
          },
          "hovermode": "closest",
          "mapbox": {
           "style": "light"
          },
          "paper_bgcolor": "white",
          "plot_bgcolor": "#E5ECF6",
          "polar": {
           "angularaxis": {
            "gridcolor": "white",
            "linecolor": "white",
            "ticks": ""
           },
           "bgcolor": "#E5ECF6",
           "radialaxis": {
            "gridcolor": "white",
            "linecolor": "white",
            "ticks": ""
           }
          },
          "scene": {
           "xaxis": {
            "backgroundcolor": "#E5ECF6",
            "gridcolor": "white",
            "gridwidth": 2,
            "linecolor": "white",
            "showbackground": true,
            "ticks": "",
            "zerolinecolor": "white"
           },
           "yaxis": {
            "backgroundcolor": "#E5ECF6",
            "gridcolor": "white",
            "gridwidth": 2,
            "linecolor": "white",
            "showbackground": true,
            "ticks": "",
            "zerolinecolor": "white"
           },
           "zaxis": {
            "backgroundcolor": "#E5ECF6",
            "gridcolor": "white",
            "gridwidth": 2,
            "linecolor": "white",
            "showbackground": true,
            "ticks": "",
            "zerolinecolor": "white"
           }
          },
          "shapedefaults": {
           "line": {
            "color": "#2a3f5f"
           }
          },
          "ternary": {
           "aaxis": {
            "gridcolor": "white",
            "linecolor": "white",
            "ticks": ""
           },
           "baxis": {
            "gridcolor": "white",
            "linecolor": "white",
            "ticks": ""
           },
           "bgcolor": "#E5ECF6",
           "caxis": {
            "gridcolor": "white",
            "linecolor": "white",
            "ticks": ""
           }
          },
          "title": {
           "x": 0.05
          },
          "xaxis": {
           "automargin": true,
           "gridcolor": "white",
           "linecolor": "white",
           "ticks": "",
           "title": {
            "standoff": 15
           },
           "zerolinecolor": "white",
           "zerolinewidth": 2
          },
          "yaxis": {
           "automargin": true,
           "gridcolor": "white",
           "linecolor": "white",
           "ticks": "",
           "title": {
            "standoff": 15
           },
           "zerolinecolor": "white",
           "zerolinewidth": 2
          }
         }
        },
        "width": 800
       }
      },
      "text/html": [
       "<div>                            <div id=\"d6045687-ee52-449d-a204-232c18e50b21\" class=\"plotly-graph-div\" style=\"height:525px; width:800px;\"></div>            <script type=\"text/javascript\">                require([\"plotly\"], function(Plotly) {                    window.PLOTLYENV=window.PLOTLYENV || {};                                    if (document.getElementById(\"d6045687-ee52-449d-a204-232c18e50b21\")) {                    Plotly.newPlot(                        \"d6045687-ee52-449d-a204-232c18e50b21\",                        [{\"customdata\": [[\"Scrypt\"], [\"Scrypt\"], [\"X13\"], [\"X11\"], [\"SHA-512\"], [\"SHA-256\"], [\"SHA-256\"], [\"X15\"], [\"Scrypt\"], [\"Scrypt\"], [\"Scrypt\"], [\"Scrypt\"], [\"Scrypt\"], [\"Scrypt\"], [\"Groestl\"], [\"PoS\"], [\"Scrypt\"], [\"Scrypt\"], [\"X11\"], [\"X11\"], [\"SHA3\"], [\"Scrypt\"], [\"SHA-256\"], [\"Scrypt\"], [\"X13\"], [\"X13\"], [\"NeoScrypt\"], [\"Scrypt\"], [\"Scrypt\"], [\"Scrypt\"], [\"X11\"], [\"X11\"], [\"Multiple\"], [\"PHI1612\"], [\"X11\"], [\"Scrypt\"], [\"Scrypt\"], [\"Scrypt\"], [\"X11\"], [\"Multiple\"], [\"X13\"], [\"Scrypt\"], [\"Shabal256\"], [\"Counterparty\"], [\"SHA-256\"], [\"Groestl\"], [\"Scrypt\"], [\"X13\"], [\"Scrypt\"], [\"Scrypt\"], [\"X13\"], [\"X11\"], [\"Scrypt\"], [\"X11\"], [\"QUAIT\"], [\"X11\"], [\"Scrypt\"], [\"X13\"], [\"SHA-256\"], [\"X15\"], [\"BLAKE256\"], [\"SHA-256\"], [\"X11\"], [\"SHA-256\"], [\"NIST5\"], [\"Scrypt\"], [\"Scrypt\"], [\"X11\"], [\"Scrypt\"], [\"SHA-256\"], [\"Scrypt\"], [\"PoS\"], [\"X11\"], [\"SHA-256\"], [\"SHA-256\"], [\"NIST5\"], [\"X11\"], [\"POS 3.0\"], [\"Scrypt\"], [\"Scrypt\"], [\"Scrypt\"], [\"X13\"], [\"X11\"], [\"X11\"], [\"Scrypt\"], [\"SHA-256\"], [\"X11\"], [\"Scrypt\"], [\"Scrypt\"], [\"Scrypt\"], [\"Scrypt\"], [\"SHA-256D\"], [\"PoS\"], [\"Scrypt\"], [\"X11\"], [\"PoS\"], [\"X13\"], [\"X14\"], [\"PoS\"], [\"SHA-256D\"], [\"DPoS\"], [\"X11\"], [\"X13\"], [\"X11\"], [\"PoS\"], [\"Scrypt\"], [\"Scrypt\"], [\"PoS\"], [\"X11\"], [\"SHA-256\"], [\"Scrypt\"], [\"X11\"], [\"Scrypt\"], [\"Scrypt\"], [\"X11\"], [\"Scrypt\"], [\"Scrypt\"], [\"Scrypt\"], [\"Scrypt\"], [\"Quark\"], [\"QuBit\"], [\"Scrypt\"], [\"SHA-256\"], [\"X11\"], [\"Scrypt\"], [\"Scrypt\"], [\"Scrypt\"], [\"Scrypt\"], [\"X13\"], [\"Scrypt\"], [\"Scrypt\"], [\"X11\"], [\"Blake2S\"], [\"X11\"], [\"PoS\"], [\"X11\"], [\"PoS\"], [\"X11\"], [\"Scrypt\"], [\"Scrypt\"], [\"Scrypt\"], [\"SHA-256\"], [\"X11\"], [\"Scrypt\"], [\"PoS\"], [\"Scrypt\"], [\"X15\"], [\"SHA-256\"], [\"POS 3.0\"], [\"536\"], [\"NIST5\"], [\"NIST5\"], [\"Skein\"], [\"X13\"], [\"Scrypt\"], [\"X13\"], [\"SkunkHash v2 Raptor\"], [\"Skein\"], [\"X11\"], [\"Scrypt\"], [\"PoS\"], [\"Scrypt\"], [\"Scrypt\"], [\"SHA-512\"], [\"Ouroboros\"], [\"X11\"], [\"NeoScrypt\"], [\"Scrypt\"], [\"Lyra2REv2\"], [\"Scrypt\"], [\"SHA-256\"], [\"NIST5\"], [\"PHI1612\"], [\"Scrypt\"], [\"Quark\"], [\"POS 2.0\"], [\"Scrypt\"], [\"SHA-256\"], [\"X11\"], [\"DPoS\"], [\"NIST5\"], [\"X13\"], [\"Scrypt\"], [\"NIST5\"], [\"Quark\"], [\"Scrypt\"], [\"Scrypt\"], [\"X11\"], [\"Quark\"], [\"Scrypt\"], [\"Scrypt\"], [\"X11\"], [\"POS 3.0\"], [\"Ethash\"], [\"Scrypt\"], [\"Scrypt\"], [\"X13\"], [\"C11\"], [\"X11\"], [\"XEVAN\"], [\"Scrypt\"], [\"VBFT\"], [\"NIST5\"], [\"Scrypt\"], [\"Scrypt\"], [\"Scrypt\"], [\"Green Protocol\"], [\"PoS\"], [\"Scrypt\"], [\"Semux BFT consensus\"], [\"Quark\"], [\"PoS\"], [\"X16R\"], [\"Scrypt\"], [\"XEVAN\"], [\"Scrypt\"], [\"Scrypt\"], [\"Scrypt\"], [\"SHA-256D\"], [\"Scrypt\"], [\"X15\"], [\"Scrypt\"], [\"Quark\"], [\"SHA-256\"], [\"DPoS\"], [\"X16R\"], [\"Quark\"], [\"Quark\"], [\"Scrypt\"], [\"Lyra2REv2\"], [\"Quark\"], [\"Scrypt\"], [\"X11\"], [\"X11\"], [\"Scrypt\"], [\"PoS\"], [\"Keccak\"], [\"X11\"], [\"Scrypt\"], [\"SHA-512\"], [\"XEVAN\"], [\"XEVAN\"], [\"X11\"], [\"Quark\"], [\"Equihash\"], [\"Scrypt\"], [\"Quark\"], [\"Quark\"], [\"Scrypt\"], [\"X11\"], [\"Scrypt\"], [\"XEVAN\"], [\"SHA-256D\"], [\"X11\"], [\"X11\"], [\"DPoS\"], [\"Scrypt\"], [\"X11\"], [\"Scrypt\"], [\"Scrypt\"], [\"SHA-256\"], [\"Scrypt\"], [\"X11\"], [\"Scrypt\"], [\"SHA-256\"], [\"X11\"], [\"Scrypt\"], [\"Scrypt\"], [\"X11\"], [\"Scrypt\"], [\"PoS\"], [\"X11\"], [\"SHA-256\"], [\"DPoS\"], [\"Scrypt\"], [\"Scrypt\"], [\"NeoScrypt\"], [\"X13\"], [\"DPoS\"], [\"DPoS\"], [\"SHA-256\"], [\"PoS\"], [\"PoS\"], [\"SHA-256\"], [\"Scrypt\"], [\"Scrypt\"]], \"hovertemplate\": \"<b>%{hovertext}</b><br><br>Class=%{marker.color}<br>PC 1=%{x}<br>PC 2=%{y}<br>PC 3=%{z}<br>Algorithm=%{customdata[0]}<extra></extra>\", \"hovertext\": [\"42 Coin\", \"404Coin\", \"EliteCoin\", \"Dash\", \"Bitshares\", \"BitcoinDark\", \"PayCoin\", \"KoboCoin\", \"Aurora Coin\", \"BlueCoin\", \"EnergyCoin\", \"BitBar\", \"CryptoBullion\", \"CasinoCoin\", \"Diamond\", \"Exclusive Coin\", \"FlutterCoin\", \"HoboNickels\", \"HyperStake\", \"IOCoin\", \"MaxCoin\", \"MintCoin\", \"MazaCoin\", \"Nautilus Coin\", \"NavCoin\", \"OpalCoin\", \"Orbitcoin\", \"PotCoin\", \"PhoenixCoin\", \"Reddcoin\", \"SuperCoin\", \"SyncCoin\", \"TeslaCoin\", \"TittieCoin\", \"TorCoin\", \"UnitaryStatus Dollar\", \"UltraCoin\", \"VeriCoin\", \"X11 Coin\", \"Crypti\", \"StealthCoin\", \"ZCC Coin\", \"BurstCoin\", \"StorjCoin\", \"Neutron\", \"FairCoin\", \"RubyCoin\", \"Kore\", \"Dnotes\", \"8BIT Coin\", \"Sativa Coin\", \"Ucoin\", \"Vtorrent\", \"IslaCoin\", \"Droidz\", \"Squall Coin\", \"Diggits\", \"Paycon\", \"Emercoin\", \"EverGreenCoin\", \"Decred\", \"EDRCoin\", \"Hitcoin\", \"DubaiCoin\", \"PWR Coin\", \"BillaryCoin\", \"GPU Coin\", \"EuropeCoin\", \"ZeitCoin\", \"SwingCoin\", \"SafeExchangeCoin\", \"Nebuchadnezzar\", \"Ratecoin\", \"Revenu\", \"Clockcoin\", \"VIP Tokens\", \"BitSend\", \"Let it Ride\", \"PutinCoin\", \"iBankCoin\", \"Frankywillcoin\", \"MudraCoin\", \"Lutetium Coin\", \"GoldBlocks\", \"CarterCoin\", \"BitTokens\", \"MustangCoin\", \"ZoneCoin\", \"RootCoin\", \"BitCurrency\", \"Swiscoin\", \"BuzzCoin\", \"Opair\", \"PesoBit\", \"Halloween Coin\", \"CoffeeCoin\", \"RoyalCoin\", \"GanjaCoin V2\", \"TeamUP\", \"LanaCoin\", \"ARK\", \"InsaneCoin\", \"EmberCoin\", \"XenixCoin\", \"FreeCoin\", \"PLNCoin\", \"AquariusCoin\", \"Creatio\", \"Eternity\", \"Eurocoin\", \"BitcoinFast\", \"Stakenet\", \"BitConnect Coin\", \"MoneyCoin\", \"Enigma\", \"Russiacoin\", \"PandaCoin\", \"GameUnits\", \"GAKHcoin\", \"Allsafe\", \"LiteCreed\", \"Klingon Empire Darsek\", \"Internet of People\", \"KushCoin\", \"Printerium\", \"Impeach\", \"Zilbercoin\", \"FirstCoin\", \"FindCoin\", \"OpenChat\", \"RenosCoin\", \"VirtacoinPlus\", \"TajCoin\", \"Impact\", \"Atmos\", \"HappyCoin\", \"MacronCoin\", \"Condensate\", \"Independent Money System\", \"ArgusCoin\", \"LomoCoin\", \"ProCurrency\", \"GoldReserve\", \"GrowthCoin\", \"Phreak\", \"Degas Coin\", \"HTML5 Coin\", \"Ultimate Secure Cash\", \"QTUM\", \"Espers\", \"Denarius\", \"Virta Unique Coin\", \"Bitcoin Planet\", \"BritCoin\", \"Linda\", \"DeepOnion\", \"Signatum\", \"Cream\", \"Monoeci\", \"Draftcoin\", \"Stakecoin\", \"CoinonatX\", \"Ethereum Dark\", \"Obsidian\", \"Cardano\", \"Regalcoin\", \"TrezarCoin\", \"TerraNovaCoin\", \"Rupee\", \"WomenCoin\", \"Theresa May Coin\", \"NamoCoin\", \"LUXCoin\", \"Xios\", \"Bitcloud 2.0\", \"KekCoin\", \"BlackholeCoin\", \"Infinity Economics\", \"Magnet\", \"Lamden Tau\", \"Electra\", \"Bitcoin Diamond\", \"Cash & Back Coin\", \"Bulwark\", \"Kalkulus\", \"GermanCoin\", \"LiteCoin Ultra\", \"PhantomX\", \"Digiwage\", \"Trollcoin\", \"Litecoin Plus\", \"Monkey Project\", \"TokenPay\", \"1717 Masonic Commemorative Token\", \"My Big Coin\", \"Unified Society USDEX\", \"Tokyo Coin\", \"Stipend\", \"Pushi\", \"Ellerium\", \"Velox\", \"Ontology\", \"Bitspace\", \"Briacoin\", \"Ignition\", \"MedicCoin\", \"Bitcoin Green\", \"Deviant Coin\", \"Abjcoin\", \"Semux\", \"Carebit\", \"Zealium\", \"Proton\", \"iDealCash\", \"Bitcoin Incognito\", \"HollyWoodCoin\", \"Swisscoin\", \"Xt3ch\", \"TheVig\", \"EmaratCoin\", \"Dekado\", \"Lynx\", \"Poseidon Quark\", \"BitcoinWSpectrum\", \"Muse\", \"Trivechain\", \"Dystem\", \"Giant\", \"Peony Coin\", \"Absolute Coin\", \"Vitae\", \"TPCash\", \"ARENON\", \"EUNO\", \"MMOCoin\", \"Ketan\", \"XDNA\", \"PAXEX\", \"ThunderStake\", \"Kcash\", \"Bettex coin\", \"BitMoney\", \"Junson Ming Chan Coin\", \"HerbCoin\", \"PirateCash\", \"Oduwa\", \"Galilel\", \"Crypto Sports\", \"Credit\", \"Dash Platinum\", \"Nasdacoin\", \"Beetle Coin\", \"Titan Coin\", \"Award\", \"Insane Coin\", \"ALAX\", \"LiteDoge\", \"TruckCoin\", \"OrangeCoin\", \"BitstarCoin\", \"NeosCoin\", \"HyperCoin\", \"PinkCoin\", \"AudioCoin\", \"IncaKoin\", \"Piggy Coin\", \"Genstake\", \"XiaoMiCoin\", \"CapriCoin\", \" ClubCoin\", \"Radium\", \"Creditbit \", \"OKCash\", \"Lisk\", \"HiCoin\", \"WhiteCoin\", \"FriendshipCoin\", \"Triangles Coin\", \"EOS\", \"Oxycoin\", \"TigerCash\", \"Particl\", \"Nxt\", \"ZEPHYR\", \"Gapcoin\", \"BitcoinPlus\"], \"legendgroup\": \"1\", \"marker\": {\"color\": [1, 1, 1, 1, 1, 1, 1, 1, 1, 1, 1, 1, 1, 1, 1, 1, 1, 1, 1, 1, 1, 1, 1, 1, 1, 1, 1, 1, 1, 1, 1, 1, 1, 1, 1, 1, 1, 1, 1, 1, 1, 1, 1, 1, 1, 1, 1, 1, 1, 1, 1, 1, 1, 1, 1, 1, 1, 1, 1, 1, 1, 1, 1, 1, 1, 1, 1, 1, 1, 1, 1, 1, 1, 1, 1, 1, 1, 1, 1, 1, 1, 1, 1, 1, 1, 1, 1, 1, 1, 1, 1, 1, 1, 1, 1, 1, 1, 1, 1, 1, 1, 1, 1, 1, 1, 1, 1, 1, 1, 1, 1, 1, 1, 1, 1, 1, 1, 1, 1, 1, 1, 1, 1, 1, 1, 1, 1, 1, 1, 1, 1, 1, 1, 1, 1, 1, 1, 1, 1, 1, 1, 1, 1, 1, 1, 1, 1, 1, 1, 1, 1, 1, 1, 1, 1, 1, 1, 1, 1, 1, 1, 1, 1, 1, 1, 1, 1, 1, 1, 1, 1, 1, 1, 1, 1, 1, 1, 1, 1, 1, 1, 1, 1, 1, 1, 1, 1, 1, 1, 1, 1, 1, 1, 1, 1, 1, 1, 1, 1, 1, 1, 1, 1, 1, 1, 1, 1, 1, 1, 1, 1, 1, 1, 1, 1, 1, 1, 1, 1, 1, 1, 1, 1, 1, 1, 1, 1, 1, 1, 1, 1, 1, 1, 1, 1, 1, 1, 1, 1, 1, 1, 1, 1, 1, 1, 1, 1, 1, 1, 1, 1, 1, 1, 1, 1, 1, 1, 1, 1, 1, 1, 1, 1, 1, 1, 1, 1, 1, 1, 1, 1, 1, 1, 1, 1, 1, 1, 1, 1, 1, 1, 1, 1, 1, 1, 1], \"coloraxis\": \"coloraxis\", \"symbol\": \"circle\"}, \"mode\": \"markers\", \"name\": \"1\", \"scene\": \"scene\", \"showlegend\": true, \"type\": \"scatter3d\", \"x\": [-0.3342113327157699, -0.31758732304645143, 2.303955560545909, -0.3973499798456116, -0.2803160838609323, -0.31487859085727765, -0.27075061385036964, -0.22242554839118622, -0.3338716813798813, -0.326466746777593, -0.33271143630861216, -0.33420727758028596, -0.3341915947389459, 0.6225502823681245, -0.3781869701101798, -0.3462883898556772, -0.31022295260353744, -0.332274466531644, -0.3330930833743723, -0.3972449233758912, -0.31286606935416117, -0.0306149327124539, -0.2782670510647214, -0.28983498536926616, -0.2744504890436269, -0.27507123603019645, -0.34688905696142897, -0.32852626356137027, -0.3326166645075628, 0.023088656267601294, -0.3529329643808951, -0.3976156596718377, -0.2454821209965204, -0.3082142626145511, -0.3975274899379305, -0.3094988837032215, -0.33289166696370354, -0.3492272480146058, -0.3974920571070193, -0.24594893090328593, -0.2748526143370044, -0.32533365287632304, -0.0969433672847693, -0.3218020805450531, -0.3140920794565294, -0.37760989960632363, -0.2898153187172088, -0.2751464252336122, -0.2844810639813943, -0.33419344338567886, -0.27509872643390804, -0.3533767296505053, -0.33392841511282506, -0.3975972319709096, -0.4286130387410503, -0.4139540700205167, -0.2882204420479742, -0.2746214197288738, -0.3074511450868162, -0.22486180817823798, -0.056217144416907804, -0.31484957315230233, -0.07577805547358767, -0.3149131374533362, -0.2124480605862992, -0.3338045496894637, -0.2880895893972632, -0.39477243358659525, 0.8607837810799304, -0.31471362004848774, -0.10656597524770266, -0.34597237386797286, -0.395445169475413, -0.3134598065784497, -0.3111330070580688, -0.3335213875239714, -0.39633516065083596, -0.3352877605495905, -0.3101533800873347, -0.33384255389960354, -0.33228513056451175, -0.22971554067496078, -0.340895839125692, -0.3970722893084212, -0.33304857271349464, -0.3148941164288633, -0.397586443878956, -0.33403131101953765, -0.3341876900347505, -0.28807956633238907, -0.20596039163221472, 0.05522273151875722, -0.3449318122300724, -0.33380275360118544, -0.3837788138949761, -0.34426208655686785, -0.23114311677977534, -0.4140366781742742, -0.3440111753908853, -0.2585852474489737, 3.786314557633747, -0.39717989873671217, 0.8544088723015322, -0.3975414581967059, -0.3453945129798942, -0.3337304137379678, -0.3338843713374376, -0.34597237386797286, -0.39711726788392776, -0.3147571137747501, -0.333731157195843, -0.41162594566715915, -0.3338782099234034, -0.32947556220605756, -0.3975703819981331, -0.33309057233750783, 0.3519795187980504, -0.3340770430266709, -0.33414746469890017, -0.33396825926553575, -0.3517587083623663, -0.33038225892622736, -0.31487058555075265, -0.3974805377786077, -0.3339257702299496, -0.3340524217621452, -0.28972195586018845, -0.2722877752419856, -0.23091149612303996, -0.3149493039221489, -0.2894637295213256, -0.3967478560461573, -0.40148345256479345, -0.39548917462780925, -0.34422289588934624, -0.3966459812298442, -0.3386354784935418, -0.39259583173262685, -0.3339958427889566, -0.3339950222442857, -0.327131273240281, 0.2607876885409795, -0.3971234365494219, -0.2724015827418065, -0.3460065706766978, -0.33320824509952274, 0.9069989236331806, -0.2694437869350068, -0.33406887049147327, 0.6064609055231371, -0.3350535625544556, -0.33355912533724963, -0.40247498612884924, -0.2747845269186012, 0.1297271704470094, -0.2748551516129127, -0.3377390213106992, -0.4019810351169047, -0.39739523200889576, -0.28979604687090266, -0.34587310613304173, -0.3336318507687701, -0.3341304330004431, -0.3382496430172741, 0.6751627548336432, -0.39733616938616084, -0.34189938399900405, -0.3340861331086565, -0.3269951900559864, 0.43326494296326173, -0.31322060923946266, -0.3198542037447422, -0.38779642226149696, -0.3340365796999388, -0.37647814098232263, -0.34772221674702103, -0.33390729402455, -0.09762697202826026, -0.3961314630570356, 3.791159787211278, 0.2231744861152812, -0.2715335055235173, -0.33137320618206056, -0.29075293440850075, -0.33385442277794475, 0.07934865554230412, -0.33304762237799573, -0.39671139659518917, -0.33302095386016434, -0.3206413412034368, -0.3341525128229607, -0.353348723416733, -0.33556902883979234, -0.2766069536759119, -0.30521757945745276, -0.3297078521893021, -0.2227252033527263, -0.36036397109461193, -0.39741241032080776, -0.34219315664861216, -0.2889578242529448, -0.3356666929371609, -0.3346533977267538, -0.33417980493877414, -0.33416155553176285, -0.28335182086967453, -0.399137240266228, -0.34546847220333504, -0.33387869034835443, 3.964547722815182, -0.3751493002510457, -0.3456567112612993, -0.298281621901947, -0.2808648625237426, -0.3586836423463846, -0.2894909608398164, -0.13773863157799643, -0.28974239556956594, -0.32375939918521973, -0.3333538662392916, -0.18014229943839988, 2.2415101538484703, -0.32957137596611746, -0.2695713827328893, 1.0582469802396914, -0.34168435975202305, -0.3339676861030827, -0.37815866343984866, -0.17072539454688387, -0.37098828526262606, -0.33269009456948884, -0.32707150538480606, -0.3529270664228433, -0.39688694234577226, -0.2869939809335029, -0.34475840187615653, -0.32020128389764546, -0.35278869312383493, -0.19396115349382403, -0.3487299970791163, -0.298121592625179, 0.4414111349335551, -0.14379535192842596, -0.37745486722179267, -0.28218516202635124, -0.33388267052529524, -0.3779099734276119, -0.3340844008443909, 0.5706270484691746, -0.3534029129368156, -0.3333666979721442, -0.33666105094607035, -0.27857716693536233, -0.3944566724695414, -0.3971136791929782, 3.803373567600397, 0.10008505151581214, -0.3946591725296636, -0.3327534292659329, -0.333576739494424, -0.27078315191694113, -0.3340939478491238, -0.3887603923465396, -0.2479814576777606, -0.0950553679278599, -0.3845178782907292, -0.3333739402299935, -0.32645391220632825, -0.3936900549314906, -0.33181654893317347, -0.34624737517857773, -0.40099345712688345, -0.3133970037796878, 3.786705510927641, -0.09746086385086132, -0.3290176838680459, -0.34651569613879674, -0.2752533980746846, 3.796549999296273, 3.7977912043701867, -0.2517232087273818, -0.34618339337642756, -0.34939272873015687, 2.4937530496941545, -0.33226086142515776, -0.290138006984423], \"y\": [1.07904809461159, 1.0796159102909235, 1.7207853345245436, 1.1839109862790025, 1.6456911587950958, 0.8489686450819599, 0.6548935250567101, 1.7004205535053079, 1.0790553305298158, 1.079496025758719, 1.0791348456035312, 1.079047959180369, 1.0790484962409514, 0.4698939903786184, 1.0275754422050902, 1.5502101927932421, 0.6429835174819958, 1.0790713183041512, 0.99100933213725, 1.1839170625317694, 0.9539500550796931, 0.8999730709847256, 0.8493122393076886, 0.8849683364941414, 1.8041353699672456, 1.8040994672227093, 0.5690160908559762, 1.0790661048900263, 1.079067806404772, 1.099713600081902, 0.989861833728362, 1.1839118992939353, 0.10552294240248579, 1.6669984349955809, 1.183909599530259, 1.0792934025722378, 1.0790504208090372, 1.0203882848415569, 1.1839149789210912, 0.10556994368546943, 1.8041121118572714, 1.0788215554121023, 0.5899415376424998, 1.332774913401856, 0.8489800950184254, 1.02761206001774, 0.8849814472735872, 1.804086238357596, 0.8849199666320595, 1.0790491293251752, 1.8040904771716533, 0.989821367122847, 1.0790496578981073, 1.1839129658547234, 1.9870453280835771, 0.969167187385529, 0.8849996910802608, 1.804088483373901, 0.8486745073955791, 1.7005191866745364, 0.7814527967230334, 0.8489703234070609, 1.1828791686881939, 0.8489751570482839, 1.392039762254751, 1.0790405418862312, 0.8849176796340313, 1.183792184074976, 0.878269148161661, 0.8489648665468468, 0.45573448400451166, 1.5502136703920093, 1.1839819363124517, 0.8489021669384691, 0.8488130589225618, 1.3849705264507781, 1.183883100634524, 1.478136756558817, 1.078959545352809, 1.0790366171190522, 1.0790855016420713, 1.6099403246343658, 0.9900718525267707, 1.1839063271620107, 1.0790487457612117, 0.8489684871206382, 1.1839113697974566, 1.0790429666017192, 1.0790494620873043, 0.8850818396650109, 0.24500777077487065, 1.7424979757733534, 1.5502338940284726, 1.0790717260285496, 1.183602185787812, 1.5502977898868706, 1.6100039076647623, 1.8981807352810032, 1.550119160386362, 1.7335935972409846, 1.2671759761952952, 1.183914903375223, 1.8687972966663993, 1.1839133402108186, 1.5502248925058666, 1.079047390180481, 1.079035925164285, 1.5502136703920093, 1.1838963256306292, 0.8489771510820009, 1.079051446814712, 0.6554968902628724, 1.079046641614696, 1.078840509679566, 1.1839108187716183, 1.079006356253717, 0.8980403167865473, 1.079046241604906, 1.0790493349346009, 1.3536330877629694, 0.5971147456712087, 1.0788995573932731, 0.848969848098821, 1.1839127931917643, 1.0790498108727589, 1.0790410549270548, 0.8849461468507857, 0.42618760004966383, 1.6100084057601267, 1.0794221650578117, 0.884976306712038, 1.1838880914129644, 1.8360706765242418, 1.1839534909269904, 1.5502480414622757, 1.1838939836453612, 1.5503568191597612, 1.1838322335853162, 1.079044861041261, 1.0790394414236641, 1.078717584702462, 0.6301454059396578, 1.1839107689714654, 0.8845086099915177, 1.5502042924561117, 1.0790284105418717, 1.699402614873765, 0.6548302958001964, 1.478158044271351, 1.613696379250082, 1.384941109055585, 1.3849461435864574, 1.8176113595015009, 1.804093849709346, 1.068881045296983, 1.8040979803304589, 1.5912707375040716, 1.8176399286244755, 1.18391761368268, 0.8849696814506945, 1.5501886276042707, 1.0790459039221967, 1.079049665691818, 1.644937215530166, 1.417125015726429, 1.183908085016941, 0.5690114707476944, 1.0790436931696774, 0.7351580605222656, 1.104937208258243, 0.8490068188869564, 1.384939601715756, 1.8606876010662956, 1.079042661871949, 1.5476719240449708, 1.5498208307289292, 1.079054736206998, 0.6582558390812946, 1.1838911820585203, 1.267178712106633, 1.3950350994320249, 1.804148681066525, 1.0790568448140683, 1.1908558347232778, 1.3536359718031516, 1.0659672543485257, 1.0790044003549395, 1.1839272004633217, 1.3536101773324274, 1.0791669498055063, 1.0790485366409823, 0.9898222469403127, 1.478126778625027, -0.07926845188327454, 0.6060032320736919, 1.079136885369216, 1.6099006278254095, 0.8521967322030914, 1.1839051554085702, 1.660897718066299, 0.8849392822429603, 1.657191527280409, 1.3849346535283762, 1.0790476981266481, 1.0790472736228816, 0.8849852797593668, 1.9894546920257594, 1.5501924946192058, 1.0790451338155, 1.3952855659065049, 1.547748781493073, 1.5501875273041033, 0.582067307720413, 1.0783432704577498, 1.4461730699303006, 0.8849809673131304, 1.0828636133076037, 0.8849531047276755, 1.7353045426042315, 1.0790355282411164, 1.5064241097093654, 0.34464208567121835, 1.3534174906255803, 0.6548967848132556, 1.3272404839731755, 0.7761636194739023, 1.3536286808763458, 1.5477189155075715, 0.8793780619489671, 0.9292269217190852, 1.353644113685511, 1.078721041553793, 0.9898214745135059, 1.1839170472537626, 0.8849522261080074, 1.5501432828884019, 0.7871054472922487, 0.9897961774651792, 1.0738397685398506, 1.9528480514690174, 1.4668197052317964, 1.8047165250263006, 1.0019579283293778, 1.5477234730882694, -0.04550965760424564, 1.0790515636659146, 1.5477230242473292, 1.3536275765801111, 1.076029644813924, 0.989820074736622, 1.0790347860797578, 1.6608920810944607, 1.7342917607619126, 1.18378380683341, 1.1839187333790953, 1.2675151292518139, 1.0782666982981894, 1.184082897243573, 1.0789844155770434, 1.0790446483610752, 0.6548853530683821, 1.0790548839448653, 1.184054067606976, 1.0762653903667412, 0.8615584526422032, 1.1839294429025968, 1.0790854276297865, 1.0792007656059377, 1.1839850277477828, 1.0790682030798682, 1.5502059049430739, 0.5365244065760388, 0.8489929165541504, 1.267172748307172, 0.888700237755701, 1.0791264828813953, 0.5689959503106732, 1.8040888425394093, 1.2678604741202615, 1.2679322628999898, 0.6552632753928728, 1.5502098762591856, 1.65620483650342, 0.595544764286769, 1.0789759043904188, 0.884962043633619], \"z\": [-0.5874256391173669, -0.587875951916952, -0.6692723525964913, -0.49225047977066494, -0.04907201206249954, -0.3711514729769233, -0.08735497633522274, -0.6135810892320023, -0.5874339747282588, -0.5876717628460258, -0.5874733059826746, -0.5874256946879511, -0.5874261197820445, -0.15687396802661954, -0.4477549386454382, -0.16520796582207117, -0.46995653078349087, -0.5874695989613566, -0.20909551492511816, -0.49225381847587096, -0.6329384718532929, -0.31187368228806434, -0.37196352263292165, -0.30363327060778206, -0.6333912406387834, -0.6333715132369199, -0.33858501560090043, -0.5875447323176296, -0.5874619494353908, -0.5987806688230667, -0.20846500150499328, -0.49224526185259904, 0.09648175298008056, -0.3074020406970281, -0.4922465978785114, -0.5879764170475863, -0.5874529165968394, -0.5554306150170043, -0.4922483837111373, 0.09648192660858435, -0.6333784610563874, -0.5875611563102129, 0.3275925069136348, -0.1127620174939764, -0.37116972403537524, -0.4477739201839934, -0.30363626786890524, -0.6333673643199577, -0.30373248283544774, -0.5874262076482388, -0.6333691734253736, -0.20844796627246534, -0.5874316979460037, -0.4922458476334099, -0.7530630961918163, -0.03842017690915505, -0.303672291572936, -0.6333784776256446, -0.37124412713881416, -0.6135511246637645, -0.4312408211060727, -0.3711523951625151, -0.4985806287941594, -0.3711520611709196, -0.5713093529750787, -0.5874324088414206, -0.30365870178537263, -0.492279319323332, -0.3256874022921746, -0.37115407667113354, -0.1392523785021903, -0.16521507651455827, -0.4923032441685746, -0.37116713251271705, -0.37119675997168905, -0.5674484349556617, -0.4922655767112679, -0.18925146764213555, -0.5878969705367363, -0.5874308589589634, -0.5874721923848024, -0.34958331747777993, -0.2087512156021579, -0.4922551995454718, -0.5874493962800234, -0.37115112618906637, -0.49224575063093773, -0.5874282812873324, -0.5874263904903119, -0.3036914302548231, -0.40996401171201985, -0.7305004348015751, -0.16524022838418495, -0.5874386238090087, -0.49246507379258914, -0.16526649730533272, -0.349566905680882, -0.6914518340973017, -0.16523620439885045, -0.722359410549178, -0.28696447103358624, -0.49225471203446985, -0.6691418811200127, -0.49224705516878026, -0.16522904250065562, -0.5874352721820943, -0.5874298721013945, -0.16521507651455827, -0.492252303958061, -0.3711556267636112, -0.5874360608096415, -0.2339458373936888, -0.5874321205409947, -0.5874807450025069, -0.4922459678463819, -0.5874401442435218, -0.319265353331934, -0.5874280008505265, -0.5874271827065828, -0.22914698343133752, -0.337558756080738, -0.587474019287729, -0.37115187400274685, -0.4922481847370497, -0.5874317820006489, -0.5874274735439021, -0.3036311710493337, -0.38544580141637225, -0.34957250358677644, -0.5878911719677011, -0.30364239393170306, -0.4922581792485642, -0.6916957728712735, -0.4922967141072902, -0.16525743710439572, -0.49226141684050506, -0.16539252956757006, -0.4923314844504377, -0.5874293773708672, -0.5874283202638266, -0.5875040277536758, -0.09325292184535364, -0.49225504024473515, -0.3038964454065187, -0.16521252357278357, -0.5874421226298704, -0.6363301549481273, -0.08736900451116138, -0.18928045410226937, -0.7148637217406971, -0.5674114715885504, -0.5674428371529189, -0.7251822245052295, -0.6333762263901846, -0.5948388328470036, -0.6333756096377529, -0.22399188958100782, -0.7251979223182263, -0.4922508732909797, -0.3036343283414663, -0.16521213201715046, -0.5874369805849724, -0.5874275943358669, -0.047745381183892974, -0.14883532777604852, -0.49225018558658634, -0.33868549410508125, -0.5874273112154292, -0.1151915742581262, -0.6081507032408712, -0.37119272772282236, -0.5677200352596176, -0.5904016133713204, -0.5874281138481375, -0.512969172130922, -0.17290381957078177, -0.5874331333003984, -0.09153914847538573, -0.4922713171594791, -0.287063471778048, -0.5807549902316688, -0.6334531532307537, -0.5874850456325101, -0.28361647148848446, -0.2291498680845272, -0.59323779856041, -0.587440629499322, -0.4922666687523104, -0.2291616941733944, -0.5877249400860383, -0.5874269219601546, -0.20844870969702595, -0.18924377514667653, 0.11412972241870721, -0.30471163790342376, -0.5875347451901896, -0.34971750127857687, -0.4393747770576366, -0.4922480558747397, -0.38129972535596657, -0.3036453386990805, -0.12167812498368731, -0.5674183242121763, -0.5874262012303347, -0.5874264879655818, -0.3037683702954731, -0.1361316171935322, -0.16522112064684785, -0.5874318120402922, -0.3232177856771803, -0.5130114028234352, -0.16521631132158793, -0.08991289264290614, -0.588370033411285, 0.07252447466543294, -0.3036427639692425, -0.5921740743706719, -0.30363213425342517, -0.7213740102994827, -0.5874405737192171, -0.3297626943483857, -0.3124128830408856, -0.22919361542852243, -0.08737958504281504, -0.21202105520353073, -0.3737283253726575, -0.2291461219482517, -0.5129443330115858, -0.30494607327607176, -0.39898957174593563, -0.22917514124252056, -0.587505927182153, -0.20845712504210775, -0.49226108989064526, -0.30368781001100653, -0.1652257995558207, -0.4091015430005491, -0.20845492482266698, -0.5892437092319499, 0.18368025109244465, -0.09750150921214612, 0.0744932139731018, -0.21511141592959543, -0.5129595376631356, 0.16737210148291037, -0.5874330050972364, -0.5129502006370553, -0.2291435314249335, -0.605214589371874, -0.20844717814989705, -0.5874401659254525, -0.38141102502865326, -0.7220914859648664, -0.4922840760540149, -0.49225681649825087, -0.28737831876396003, -0.5960960489314207, -0.49233921945888715, -0.5874426481673904, -0.5874378517246729, -0.08735269603300277, -0.5874293696264292, -0.4924533751011026, -0.5886265613220161, -0.3781128456297181, -0.49251489443868407, -0.5874500522955953, -0.5876135241802682, -0.49233952190807745, -0.5874782869738645, -0.16520794972527839, -0.1743587227976729, -0.3711863888046648, -0.2869717759595055, -0.30828185266013364, -0.5875467088956199, -0.3385886121539754, -0.6333657065148024, -0.28730808144911163, -0.28734752707159134, -0.08781488552015478, -0.16521003671447274, -0.15151941582394612, -0.1631806105733384, -0.5874509712043516, -0.30362586618684145]}, {\"customdata\": [[\"SHA-256\"], [\"Ethash\"], [\"Scrypt\"], [\"CryptoNight-V7\"], [\"Ethash\"], [\"Equihash\"], [\"Multiple\"], [\"Scrypt\"], [\"X11\"], [\"Scrypt\"], [\"Multiple\"], [\"Scrypt\"], [\"SHA-256\"], [\"Scrypt\"], [\"Scrypt\"], [\"Quark\"], [\"Groestl\"], [\"Scrypt\"], [\"Scrypt\"], [\"Scrypt\"], [\"X11\"], [\"Multiple\"], [\"SHA-256\"], [\"Scrypt\"], [\"Scrypt\"], [\"Scrypt\"], [\"Scrypt\"], [\"Scrypt\"], [\"NeoScrypt\"], [\"Scrypt\"], [\"Scrypt\"], [\"Scrypt\"], [\"Scrypt\"], [\"SHA-256\"], [\"Scrypt\"], [\"Scrypt\"], [\"Scrypt\"], [\"Scrypt\"], [\"HybridScryptHash256\"], [\"Scrypt\"], [\"Scrypt\"], [\"SHA-256\"], [\"Scrypt\"], [\"Scrypt\"], [\"Scrypt\"], [\"Scrypt\"], [\"SHA-256\"], [\"SHA-256\"], [\"SHA-256\"], [\"SHA-256\"], [\"SHA-256\"], [\"X11\"], [\"Scrypt\"], [\"Lyra2REv2\"], [\"Scrypt\"], [\"SHA-256\"], [\"CryptoNight\"], [\"CryptoNight\"], [\"Scrypt\"], [\"Scrypt\"], [\"Scrypt\"], [\"Scrypt\"], [\"Scrypt\"], [\"Scrypt\"], [\"Stanford Folding\"], [\"Multiple\"], [\"QuBit\"], [\"Scrypt\"], [\"Scrypt\"], [\"M7 POW\"], [\"Scrypt\"], [\"SHA-256\"], [\"Scrypt\"], [\"SHA3\"], [\"X11\"], [\"Lyra2RE\"], [\"SHA-256\"], [\"X11\"], [\"Scrypt\"], [\"Scrypt\"], [\"Ethash\"], [\"Blake2b\"], [\"X11\"], [\"SHA-256\"], [\"Scrypt\"], [\"1GB AES Pattern Search\"], [\"Scrypt\"], [\"SHA-256\"], [\"X11\"], [\"Dagger\"], [\"Scrypt\"], [\"X11GOST\"], [\"Scrypt\"], [\"X11\"], [\"Scrypt\"], [\"X11\"], [\"Equihash\"], [\"CryptoNight\"], [\"SHA-256\"], [\"Multiple\"], [\"Scrypt\"], [\"SHA-256\"], [\"Scrypt\"], [\"Lyra2Z\"], [\"Ethash\"], [\"Equihash\"], [\"Scrypt\"], [\"X11\"], [\"X11\"], [\"CryptoNight\"], [\"Scrypt\"], [\"CryptoNight\"], [\"Lyra2RE\"], [\"X11\"], [\"CryptoNight-V7\"], [\"Scrypt\"], [\"X11\"], [\"Equihash\"], [\"Scrypt\"], [\"Lyra2RE\"], [\"Dagger-Hashimoto\"], [\"Scrypt\"], [\"NIST5\"], [\"Scrypt\"], [\"SHA-256\"], [\"Scrypt\"], [\"CryptoNight-V7\"], [\"Argon2d\"], [\"Blake2b\"], [\"Cloverhash\"], [\"CryptoNight\"], [\"X11\"], [\"Scrypt\"], [\"Scrypt\"], [\"X11\"], [\"X11\"], [\"CryptoNight\"], [\"Time Travel\"], [\"Scrypt\"], [\"Keccak\"], [\"X11\"], [\"SHA-256\"], [\"Scrypt\"], [\"Scrypt\"], [\"Scrypt\"], [\"Scrypt\"], [\"Scrypt\"], [\"Scrypt\"], [\"CryptoNight\"], [\"Equihash\"], [\"X11\"], [\"NeoScrypt\"], [\"Equihash\"], [\"Dagger\"], [\"Scrypt\"], [\"X11\"], [\"NeoScrypt\"], [\"Ethash\"], [\"NeoScrypt\"], [\"Multiple\"], [\"CryptoNight\"], [\"CryptoNight\"], [\"Ethash\"], [\"X11\"], [\"CryptoNight-V7\"], [\"Scrypt\"], [\"BLAKE256\"], [\"X11\"], [\"NeoScrypt\"], [\"NeoScrypt\"], [\"Scrypt\"], [\"X11\"], [\"SHA-256\"], [\"C11\"], [\"CryptoNight\"], [\"SkunkHash\"], [\"CryptoNight\"], [\"Scrypt\"], [\"Dagger\"], [\"Lyra2REv2\"], [\"Scrypt\"], [\"Scrypt\"], [\"X11\"], [\"Ethash\"], [\"CryptoNight\"], [\"Scrypt\"], [\"IMesh\"], [\"Equihash\"], [\"Lyra2Z\"], [\"X11\"], [\"CryptoNight\"], [\"NIST5\"], [\"Lyra2RE\"], [\"Tribus\"], [\"Lyra2Z\"], [\"CryptoNight\"], [\"CryptoNight Heavy\"], [\"CryptoNight\"], [\"Jump Consistent Hash\"], [\"CryptoNight\"], [\"X16R\"], [\"HMQ1725\"], [\"X11\"], [\"Scrypt\"], [\"CryptoNight-V7\"], [\"Cryptonight-GPU\"], [\"XEVAN\"], [\"CryptoNight Heavy\"], [\"SHA-256\"], [\"X11\"], [\"X16R\"], [\"Equihash\"], [\"Lyra2Z\"], [\"SHA-256\"], [\"CryptoNight\"], [\"Blake\"], [\"Blake\"], [\"Exosis\"], [\"Scrypt\"], [\"Equihash\"], [\"Equihash\"], [\"QuBit\"], [\"SHA-256\"], [\"X13\"], [\"SHA-256\"], [\"Scrypt\"], [\"NeoScrypt\"], [\"Blake\"], [\"Scrypt\"], [\"SHA-256\"], [\"Scrypt\"], [\"Groestl\"], [\"Scrypt\"], [\"Scrypt\"], [\"Multiple\"], [\"Equihash+Scrypt\"], [\"Ethash\"], [\"CryptoNight\"], [\"Equihash\"]], \"hovertemplate\": \"<b>%{hovertext}</b><br><br>Class=%{marker.color}<br>PC 1=%{x}<br>PC 2=%{y}<br>PC 3=%{z}<br>Algorithm=%{customdata[0]}<extra></extra>\", \"hovertext\": [\"Bitcoin\", \"Ethereum\", \"Litecoin\", \"Monero\", \"Ethereum Classic\", \"ZCash\", \"DigiByte\", \"ProsperCoin\", \"Spreadcoin\", \"Argentum\", \"MyriadCoin\", \"MoonCoin\", \"ZetaCoin\", \"SexCoin\", \"Quatloo\", \"QuarkCoin\", \"Riecoin\", \"Digitalcoin \", \"Catcoin\", \"CannaCoin\", \"CryptCoin\", \"Verge\", \"DevCoin\", \"EarthCoin\", \"E-Gulden\", \"Einsteinium\", \"Emerald\", \"Franko\", \"FeatherCoin\", \"GrandCoin\", \"GlobalCoin\", \"GoldCoin\", \"Infinite Coin\", \"IXcoin\", \"KrugerCoin\", \"LuckyCoin\", \"Litebar \", \"MegaCoin\", \"MediterraneanCoin\", \"MinCoin\", \"NobleCoin\", \"Namecoin\", \"NyanCoin\", \"RonPaulCoin\", \"StableCoin\", \"SmartCoin\", \"SysCoin\", \"TigerCoin\", \"TerraCoin\", \"UnbreakableCoin\", \"Unobtanium\", \"UroCoin\", \"ViaCoin\", \"Vertcoin\", \"WorldCoin\", \"JouleCoin\", \"ByteCoin\", \"DigitalNote \", \"MonaCoin\", \"Gulden\", \"PesetaCoin\", \"Wild Beast Coin\", \"Flo\", \"ArtByte\", \"Folding Coin\", \"Unitus\", \"CypherPunkCoin\", \"OmniCron\", \"GreenCoin\", \"Cryptonite\", \"MasterCoin\", \"SoonCoin\", \"1Credit\", \"Nexus\", \"MarsCoin \", \"Crypto\", \"Anarchists Prime\", \"BowsCoin\", \"Song Coin\", \"BitZeny\", \"Expanse\", \"Siacoin\", \"MindCoin\", \"I0coin\", \"Revolution VR\", \"HOdlcoin\", \"Gamecredits\", \"CarpeDiemCoin\", \"Adzcoin\", \"SoilCoin\", \"YoCoin\", \"SibCoin\", \"Francs\", \"BolivarCoin\", \"Omni\", \"PizzaCoin\", \"Komodo\", \"Karbo\", \"ZayedCoin\", \"Circuits of Value\", \"DopeCoin\", \"DollarCoin\", \"Shilling\", \"ZCoin\", \"Elementrem\", \"ZClassic\", \"KiloCoin\", \"ArtexCoin\", \"Kurrent\", \"Cannabis Industry Coin\", \"OsmiumCoin\", \"Bikercoins\", \"HexxCoin\", \"PacCoin\", \"Citadel\", \"BeaverCoin\", \"VaultCoin\", \"Zero\", \"Canada eCoin\", \"Zoin\", \"DubaiCoin\", \"EB3coin\", \"Coinonat\", \"BenjiRolls\", \"ILCoin\", \"EquiTrader\", \"Quantum Resistant Ledger\", \"Dynamic\", \"Nano\", \"ChanCoin\", \"Dinastycoin\", \"DigitalPrice\", \"Unify\", \"SocialCoin\", \"ArcticCoin\", \"DAS\", \"LeviarCoin\", \"Bitcore\", \"gCn Coin\", \"SmartCash\", \"Onix\", \"Bitcoin Cash\", \"Sojourn Coin\", \"NewYorkCoin\", \"FrazCoin\", \"Kronecoin\", \"AdCoin\", \"Linx\", \"Sumokoin\", \"BitcoinZ\", \"Elements\", \"VIVO Coin\", \"Bitcoin Gold\", \"Pirl\", \"eBoost\", \"Pura\", \"Innova\", \"Ellaism\", \"GoByte\", \"SHIELD\", \"UltraNote\", \"BitCoal\", \"DaxxCoin\", \"AC3\", \"Lethean\", \"PopularCoin\", \"Photon\", \"Sucre\", \"SparksPay\", \"GunCoin\", \"IrishCoin\", \"Pioneer Coin\", \"UnitedBitcoin\", \"Interzone\", \"TurtleCoin\", \"MUNcoin\", \"Niobio Cash\", \"ShareChain\", \"Travelflex\", \"KREDS\", \"BitFlip\", \"LottoCoin\", \"Crypto Improvement Fund\", \"Callisto Network\", \"BitTube\", \"Poseidon\", \"Aidos Kuneen\", \"Bitrolium\", \"Alpenschillling\", \"FuturoCoin\", \"Monero Classic\", \"Jumpcoin\", \"Infinex\", \"KEYCO\", \"GINcoin\", \"PlatinCoin\", \"Loki\", \"Newton Coin\", \"MassGrid\", \"PluraCoin\", \"Motion\", \"PlusOneCoin\", \"Axe\", \"HexCoin\", \"Webchain\", \"Ryo\", \"Urals Coin\", \"Qwertycoin\", \"Project Pai\", \"Azart\", \"Xchange\", \"CrypticCoin\", \"Actinium\", \"Bitcoin SV\", \"FREDEnergy\", \"Universal Molecule\", \"Lithium\", \"Exosis\", \"Block-Logic\", \"Beam\", \"Bithereum\", \"SLICE\", \"BLAST\", \"Bitcoin Rhodium\", \"GlobalToken\", \"SolarCoin\", \"UFO Coin\", \"BlakeCoin\", \"Crypto Escudo\", \"Crown Coin\", \"SmileyCoin\", \"Groestlcoin\", \"Bata\", \"Pakcoin\", \"JoinCoin\", \"Vollar\", \"Reality Clash\", \"Beldex\", \"Horizen\"], \"legendgroup\": \"0\", \"marker\": {\"color\": [0, 0, 0, 0, 0, 0, 0, 0, 0, 0, 0, 0, 0, 0, 0, 0, 0, 0, 0, 0, 0, 0, 0, 0, 0, 0, 0, 0, 0, 0, 0, 0, 0, 0, 0, 0, 0, 0, 0, 0, 0, 0, 0, 0, 0, 0, 0, 0, 0, 0, 0, 0, 0, 0, 0, 0, 0, 0, 0, 0, 0, 0, 0, 0, 0, 0, 0, 0, 0, 0, 0, 0, 0, 0, 0, 0, 0, 0, 0, 0, 0, 0, 0, 0, 0, 0, 0, 0, 0, 0, 0, 0, 0, 0, 0, 0, 0, 0, 0, 0, 0, 0, 0, 0, 0, 0, 0, 0, 0, 0, 0, 0, 0, 0, 0, 0, 0, 0, 0, 0, 0, 0, 0, 0, 0, 0, 0, 0, 0, 0, 0, 0, 0, 0, 0, 0, 0, 0, 0, 0, 0, 0, 0, 0, 0, 0, 0, 0, 0, 0, 0, 0, 0, 0, 0, 0, 0, 0, 0, 0, 0, 0, 0, 0, 0, 0, 0, 0, 0, 0, 0, 0, 0, 0, 0, 0, 0, 0, 0, 0, 0, 0, 0, 0, 0, 0, 0, 0, 0, 0, 0, 0, 0, 0, 0, 0, 0, 0, 0, 0, 0, 0, 0, 0, 0, 0, 0, 0, 0, 0, 0, 0, 0, 0, 0, 0, 0, 0, 0, 0, 0, 0, 0, 0, 0, 0, 0, 0, 0, 0, 0, 0, 0, 0, 0, 0, 0, 0, 0], \"coloraxis\": \"coloraxis\", \"symbol\": \"diamond\"}, \"mode\": \"markers\", \"name\": \"0\", \"scene\": \"scene\", \"showlegend\": true, \"type\": \"scatter3d\", \"x\": [-0.15240491695141392, -0.15711238760487672, -0.17057083500943465, -0.15403387452811762, -0.15555768157818362, -0.16464036485825312, 0.158618546085908, -0.17171451664652468, -0.23506034904256257, -0.17133187561723692, -0.0942299844403478, 2.5444696676892438, -0.14949637764316895, -0.16859334242092738, -0.1711363005712076, -0.21107852066374683, -0.21478215586929944, -0.171185044546458, -0.17169682388523852, -0.171783091367415, -0.23514948705493088, 0.18230517354777642, 0.22459828805212725, 0.07639148138869008, -0.17152996293386072, -0.16714502819475938, -0.17146937947877808, -0.1718399650117248, -0.17975689504452783, -0.15110824871369508, -0.17063777355038479, -0.1709145725809331, 1.5731547450543475, -0.15236637617439058, -0.1682099431335974, -0.17155634473843628, -0.17191036479366636, -0.17117126889007914, -0.15645654733046524, -0.17179189278613743, -0.03698611464875522, -0.15244380631924842, -0.1654699906187583, -0.17177136363362228, -0.1698697467334393, -0.17125924930382508, -0.13962430430217795, -0.15190877743574732, -0.1521953231452865, -0.15217828425055993, -0.15276775057009978, -0.23532300726115263, -0.17148850870137272, -0.20802628647078875, -0.16859801970955454, -0.15197591915154138, 3.85485207573086, 0.4614350448991249, -0.1703585981155897, -0.1549906697336167, -0.16908029163287952, -0.1719125668389573, -0.16894565535544545, -0.1551999140026351, -0.12381187025532238, -0.12816086164587417, -0.19032926408256393, -0.17178593823732888, -0.045002588141995155, -0.10956656070159039, -0.17192144206196097, -0.15247151929393202, 0.4788725959393815, -0.17685757481007056, -0.23471156255042352, -0.1306737771167346, -0.15221193155371954, -0.23499581928418514, -0.17004923586113724, -0.1692432885861666, -0.158177337337782, 0.3374820195752866, -0.23503114209999487, -0.15236749591777954, -0.16788834824898394, -0.17952608123217753, -0.17048799448939506, 0.26517976220037076, -0.23419370138003634, -0.1506707194627653, -0.1707347058047181, -0.10990176590566228, -0.17171180972049865, -0.23499445605311614, -0.17192150042591078, -0.2351440787359082, -0.3104271250961898, 0.3066835350127254, -0.15262699533440224, -0.10827764384237629, -0.16909446417398494, -0.15258571961912581, -0.17158563396395146, -0.14799063497478943, -0.15792007786478388, -0.16466193171252624, -0.09880121983136553, -0.22175777470526525, -0.23297693949797976, 0.306677930029137, -0.17190327725244645, 0.3068083489822368, -0.13121305810411948, 0.47860367478553856, -0.15280114464462358, -0.17187163697707078, -0.22789341489265902, -0.16467428432433845, -0.1700090800546392, -0.13093207419269245, -0.16227806775890036, -0.14285630271201344, -0.17243246900328327, -0.17143497797376386, -0.11902626214621012, -0.17125739655152508, -0.15265934134731968, -0.11312383901787294, -0.0618909306373727, -0.14657635764258953, 0.34271928771851756, -0.23420204935328628, -0.1715760025034785, -0.1713398418274964, -0.23459587806998272, -0.23517205616900985, 0.3070720541743663, -0.14988084978887017, 3.230185733937077, -0.09788595263936213, -0.22606361831431301, -0.1524040831093629, -0.09765081499197277, 1.571040975791067, -0.17167362166183364, -0.17112643389686774, -0.170828077413893, -0.17081503868543002, 0.3072552944120979, 0.04719312926191299, -0.18966200665947855, -0.18443524766465638, -0.16452068654882462, -0.14943249135501008, -0.1700072933677038, -0.2307262918540462, -0.18428098928777192, -0.15628866377285608, -0.18438098317769216, -0.1184142863058582, 1.1428126474214693, 0.306660725907837, -0.0813365251915378, -0.23046814157393317, -0.14179523883844125, -0.08824760725589091, 1.109177717044979, -0.23514611368653865, -0.1844328217192968, -0.1774860802604842, -0.1709262903386588, -0.23507168913532203, -0.15238352969833918, -0.19805201746156806, 8.028155385846642, -0.13245023525032068, 0.3105266851073764, 0.02068692156071757, -0.14893695160593426, -0.1936162199914507, -0.1714987219601306, 0.13489438150504596, -0.2292254299017978, -0.10942615282607053, 0.31456706459096984, -0.1717352131707032, -0.1703657242583551, -0.16351404059512364, -0.1457788429019293, -0.2342427271830726, 0.30684283057675177, -0.17249183640764626, -0.13105862955302516, -0.17636696021285866, -0.14807483321608075, 0.31076286591434854, 0.575252715450902, 2.111427471530237, -0.11410662081656292, 0.3204177843666657, -0.18018515231954735, -0.16074454812836642, -0.2351283133661592, -0.17175973620186977, -0.1416741897518472, -0.12259158466711109, -0.17867948575823916, 3.092252347285553, -0.11232170562179261, -0.23509973899566383, -0.1796140776417606, -0.05949895248118538, -0.14747386496311668, -0.1524041205876575, 0.3864308854405256, -0.13783313889314014, -0.1382243819061948, -0.18985571692323455, -0.17065444614700093, -0.16258490322105462, -0.1643538773938206, -0.18954190760158354, -0.15168187335350133, -0.11294888477131342, -0.1505522716338088, 0.5226999456069746, -0.10976565159961325, -0.08879355262073721, -0.15535015077491968, -0.1521946950567767, 0.5423364741831583, -0.21434414072017935, -0.17183642376264205, -0.16979659405013864, -0.12889403771948735, -0.1516888149994748, -0.15795316222935135, 0.32836959761894796, -0.16464141935425933], \"y\": [-1.2781907137750006, -2.012278755049096, -1.0481066780229291, -2.192066157081394, -2.0123442353123204, -1.9785717682760935, -1.8264936489588244, -1.0481262058548833, -0.9432582772509058, -1.0481358949415756, -1.8270577765344975, -1.1751744701278808, -1.278132599427688, -1.04811514489777, -1.0481512235013088, -0.5793537243134937, -1.099589720686183, -1.0481156852726534, -1.0481251825415163, -1.0481243556287174, -0.943261952800049, -1.8218343350101722, -1.2719102043330557, -1.0437508025162872, -1.0481155316430986, -1.04806822407288, -1.0481201676872967, -1.0481262359745769, -1.5581204227836523, -1.0479701009692568, -1.0481001895254052, -1.0481178608508752, -1.014235534001723, -1.278188484654757, -1.048104381349484, -1.04811631750688, -1.0481229921920632, -1.0481103256384732, -2.198112792142536, -1.0481225410654402, -1.0514183416163794, -1.2781929630570217, -1.0479988771142537, -1.048129493769121, -1.0481889695299453, -1.0481222223038567, -1.2780930944773663, -1.2781812670908979, -1.278194131425192, -1.278221266165578, -1.278196344205774, -0.943258668744713, -1.0481146140269049, -1.197928243619956, -1.0481268269101855, -1.2781836615625424, -2.2940161136850885, -2.361177473266031, -1.0481100316030507, -1.0483866028059274, -1.0480814341728055, -1.0481240652818076, -1.048068921404492, -1.0478955008562052, -2.2980165116254176, -1.8275402571434327, -1.5300474107755173, -1.0481172914147447, -1.0481819671773795, -2.3371348724375056, -1.0481230922879496, -1.2781945659191731, -1.0785625989362102, -0.2961059907540352, -0.943247724229372, -2.4042286463968194, -1.278203794494655, -0.9432552849869819, -1.048169928170081, -1.048152736463477, -2.0123528604165375, -1.9042784510106048, -0.9432536279559044, -1.27818854941844, -1.0480447692193653, -2.084614104786801, -1.048101886695563, -1.2700265053976674, -0.9432555125073959, -2.273343187221983, -1.048178576461421, -2.497019748440428, -1.0481253092855853, -0.9432581661652495, -1.0481230934213837, -0.943266820037235, -1.187356056274586, -2.3627353242947113, -1.2781952229076854, -1.8272782596571768, -1.0481071284520533, -1.2781935033102838, -1.0481254115981344, -2.2719552109383034, -2.012344862473986, -1.978573015659129, -1.0512935707320379, -0.9428440863519407, -0.9432916983644138, -2.3627437885437286, -1.048123591843172, -2.3627392054012364, -2.404218553033079, -0.9759672195111923, -2.1921317596356777, -1.048122239666288, -0.9435689624125323, -1.9785707700843158, -1.0480860273567956, -2.4042104415634085, -2.232823217945591, -1.0494015900448792, -0.7422387700717954, -1.048120783091952, -1.2780946355555238, -1.0481375072732997, -2.1920643575254006, -2.435196761964519, -1.9276291821079279, -2.184327118306661, -2.3621237019013424, -0.9432678354363402, -1.0481169192995903, -1.0481444957591457, -0.9432610134413447, -0.9432639241573297, -2.3627454134083674, -2.2853217039782274, -0.9993529059986005, -1.3400227204006543, -0.9435371313156008, -1.2781906655472672, -1.0515970367512801, -0.9473132287847487, -1.0481231005658584, -1.0481388127337787, -1.0481333965001045, -1.0481326423665407, -2.362760633158589, -1.9818443393376513, -0.94194974039139, -1.5581623472797361, -1.9785648463258265, -2.273365038388701, -1.0480859240184532, -0.9432518062331955, -1.558166745400146, -2.0124383142710323, -1.5581627607617976, -1.8274649391170135, -2.3772684417682752, -2.3627384935424867, -2.0152960950780274, -0.9433848765846296, -2.1920979217726395, -1.0469831402427807, -1.3542853957679954, -0.9432630897024268, -1.5581577669308102, -1.5581104444862455, -1.0481124367130872, -0.943261153157419, -1.2781888596145645, -1.274975428215188, -2.6561398758024746, -2.2957292707804235, -2.362754286321155, -1.0443826193970327, -2.2732947100453313, -1.1978466409465105, -1.0481277848463701, -1.043998309117549, -0.943276000356532, -2.014330720385744, -2.3630119630946216, -1.0481274028997922, -2.2344033625674578, -1.9785428842726533, -2.2720334511046305, -0.9432701881593705, -2.3627323270149723, -0.742222037113, -2.404221668501042, -2.1615132505493984, -2.271952014725981, -2.3629359881221323, -2.2641634838969846, -2.3945063416500014, -2.477239456561319, -2.3626735693496568, -1.3510080917362326, -2.213768826100868, -0.943262948175496, -1.0481296391635597, -2.1926463088676034, -2.268927370016793, -0.4663132304135883, -2.2549832809640047, -1.2774108551494388, -0.9432642555167439, -1.3510327264019182, -1.9780991095569127, -2.2719716463986, -1.2781906677149355, -2.3640947495678812, -2.2938399487018306, -2.2938034574187682, -1.9974220600191237, -1.048138154144308, -1.9786318180492017, -1.9785625141244585, -1.5300758722959005, -1.278180714668714, -0.3230825054415772, -1.2781923414446095, -1.0805417518693052, -1.5567836541647506, -2.29610585258319, -1.0479041902458794, -1.2781940950978286, -1.0438117169353698, -1.0995799269099809, -1.0481214166156687, -1.0481344181060548, -1.8275847345752905, -2.007447312905128, -2.0123455049754737, -2.362509819837868, -1.9785718292660017], \"z\": [0.19623182923264162, 0.39767853333906367, -0.020066956300239767, 0.39846605854910444, 0.3976599140632744, 0.4509707977104103, 0.37405027274845676, -0.020039846814006355, 0.0751385247309083, -0.020045702680427872, 0.37930011344758463, -0.05006284544605862, 0.19616121142960136, -0.020105462896086487, -0.02004663988564751, 0.05432818079240644, 0.11961059204243527, -0.020052690510342478, -0.020040409091745086, -0.02003881990715982, 0.07514106431318632, 0.3726457995540185, 0.1873264942568671, -0.0259484383546865, -0.02004571194961519, -0.020144190078660855, -0.020046024517812847, -0.020037291641999237, 0.22869909636407626, -0.020489510400907098, -0.020066881615897546, -0.020057755658387362, -0.06221160342938426, 0.19623060440286383, -0.020115386422335593, -0.020045020149578447, -0.02003650375188549, -0.020054032338656273, 0.4284587712708337, -0.02003900057259997, -0.022125362351947342, 0.19623306514067962, -0.02019196770692316, -0.02003804021102071, -0.020064898638252653, -0.020049887441586877, 0.1959527764696926, 0.19621987564921756, 0.19622824726420135, 0.19623327718863184, 0.19624031783188883, 0.07514393970810951, -0.02004673613655752, 0.1683829764816538, -0.020103053309596743, 0.19622171443226635, 0.3265629929078084, 0.4088263449279669, -0.020070604672316618, -0.0203280957912501, -0.0201022467825224, -0.020036246394937725, -0.02010746182916975, -0.02042114512180578, 0.4215571795612337, 0.38008520739998203, 0.2298463199368867, -0.02004016167929778, -0.022603679887106737, 0.3161362561498517, -0.020036258821668537, 0.19623394586181125, -0.027229943399268746, -0.46396346951576595, 0.07512934627386354, 0.4094915652121536, 0.1962304992896589, 0.0751366205850507, -0.020065023922707762, -0.02008480754137918, 0.39771485630365006, 0.2866747333965376, 0.0751370100658295, 0.19623063998842163, -0.020133732336973777, 0.39098976434157234, -0.02006958898032731, 0.18612863381689138, 0.07512036602870957, 0.42981243205947, -0.020049381188059434, 0.529439414088789, -0.020040079456762946, 0.07513716372692708, -0.020036257411103934, 0.07514191875088236, 0.6702758181266807, 0.41227966594630894, 0.19623723541922372, 0.37962925638125933, -0.02009686801492977, 0.1962360559644892, -0.020042623171293267, 0.43440151146586825, 0.3977080439781264, 0.4509714831072131, -0.020893953944025417, 0.07478614343598362, 0.07510280997123499, 0.4122814568533703, -0.020036528967993652, 0.4122778985913796, 0.40950052402062825, 0.06711691515317161, 0.3984540062982799, -0.02003743982689185, 0.07505444288735165, 0.4509712892089655, -0.02008246306739453, 0.40949320710383746, 0.4841534688623275, -0.020373577211069714, -2.7099404257792015e-05, -0.020046601652829038, 0.1955345142071458, -0.020046896701656106, 0.3984377704652388, 0.4627630991057603, 0.2994167370157773, 0.41908228647985546, 0.41142621267439894, 0.07512297719013092, -0.02004450145678394, -0.020043836733344474, 0.07512962845150986, 0.07514191351664573, 0.4122737698886224, 0.4822232321294017, -0.09883238409113791, 0.15705955219562598, 0.075010953404907, 0.19623180273306157, -0.02085720573873169, -0.075427871142209, -0.020041293077120183, -0.020049299311542732, -0.020056435248685, -0.020056849620791118, 0.412273061777642, 0.4473145728112401, 0.07395673797581236, 0.22880247042270013, 0.4509669943216598, 0.4297915996804769, -0.020082519848485688, 0.07504917135969945, 0.2288002071706566, 0.39769340789737795, 0.2288014496504261, 0.37987222705934937, 0.39816832404637115, 0.41228075736289915, 0.3967365325293735, 0.07507029059261518, 0.39822365382814784, -0.021962430688217405, 0.11746208593480416, 0.0751412210166722, 0.2288015136276658, 0.22865097472651455, -0.020058592221502382, 0.07513932496932331, 0.19623102726552932, 0.12801434778373397, 0.31350541962676, 0.4336921033728717, 0.41220532718657554, -0.024691299133178028, 0.42976759588825425, 0.1680739853513499, -0.020043919079800354, -0.027088222830016724, 0.07502346627157583, 0.39711606641957575, 0.41217427679148216, -0.020039189076379676, 0.45100383327403953, 0.4509421872140277, 0.43437206781251997, 0.07512426993566564, 0.4122758350947561, -2.920829159034148e-05, 0.40949800318041374, 0.38609711085419857, 0.43440258917599156, 0.41223652813546796, 0.46609310643585383, 0.38190066826571495, 0.35709736372151585, 0.4119883403267038, 0.1936772260772975, 0.41806084892569234, 0.07514083126034374, -0.020038247682321382, 0.39832984517494596, 0.4576558116093866, 0.18607266471702646, 0.4131269342988296, 0.19526279617461864, 0.07514050962946375, 0.19367050224475635, 0.4487405985178228, 0.4343942666477905, 0.19623180392412568, 0.4109284812443862, 0.4552030637222835, 0.4552037841064174, 0.39509880223670724, -0.020059020940379136, 0.45094092677150327, 0.45096314255936, 0.229835959305913, 0.19621515533824896, -0.06597659144742278, 0.19619450458455553, -0.027728421110304713, 0.22701196998115994, 0.4546554830294673, -0.020416370582024498, 0.1962282273034851, -0.035404719574408675, 0.11959975082066342, -0.020038318455545438, -0.02007719335136226, 0.38010891833542304, 0.4626826115839435, 0.3977088435750187, 0.41179431008724987, 0.4509708312223976]}, {\"customdata\": [[\"VeChainThor Authority\"], [\"Proof-of-BibleHash\"], [\"SHA-256 + Hive\"], [\"Proof-of-Authority\"], [\"ECC 256K1\"], [\"Leased POS\"]], \"hovertemplate\": \"<b>%{hovertext}</b><br><br>Class=%{marker.color}<br>PC 1=%{x}<br>PC 2=%{y}<br>PC 3=%{z}<br>Algorithm=%{customdata[0]}<extra></extra>\", \"hovertext\": [\"Vechain\", \"BiblePay\", \"LitecoinCash\", \"Poa Network\", \"Acute Angle Cloud\", \"Waves\"], \"legendgroup\": \"3\", \"marker\": {\"color\": [3, 3, 3, 3, 3, 3], \"coloraxis\": \"coloraxis\", \"symbol\": \"square\"}, \"mode\": \"markers\", \"name\": \"3\", \"scene\": \"scene\", \"showlegend\": true, \"type\": \"scatter3d\", \"x\": [4.463070231572167, -0.11556678420600344, -0.40835423210272037, -0.4960373961635517, -0.3409311898974805, -0.33276109887987176], \"y\": [0.9326513993667921, 0.15428810328651074, 4.460891141075976, 6.979051391152845, 3.8519588470390214, 1.160933609271154], \"z\": [8.961997791699416, 14.118836337539793, 16.76328140617753, 13.065676015418106, 11.337333237147828, 11.431357054579879]}, {\"customdata\": [[\"TRC10\"]], \"hovertemplate\": \"<b>%{hovertext}</b><br><br>Class=%{marker.color}<br>PC 1=%{x}<br>PC 2=%{y}<br>PC 3=%{z}<br>Algorithm=%{customdata[0]}<extra></extra>\", \"hovertext\": [\"BitTorrent\"], \"legendgroup\": \"2\", \"marker\": {\"color\": [2], \"coloraxis\": \"coloraxis\", \"symbol\": \"x\"}, \"mode\": \"markers\", \"name\": \"2\", \"scene\": \"scene\", \"showlegend\": true, \"type\": \"scatter3d\", \"x\": [34.011808783912194], \"y\": [2.2794988256832887], \"z\": [-1.2268881225016204]}],                        {\"coloraxis\": {\"colorbar\": {\"title\": {\"text\": \"Class\"}}, \"colorscale\": [[0.0, \"#0d0887\"], [0.1111111111111111, \"#46039f\"], [0.2222222222222222, \"#7201a8\"], [0.3333333333333333, \"#9c179e\"], [0.4444444444444444, \"#bd3786\"], [0.5555555555555556, \"#d8576b\"], [0.6666666666666666, \"#ed7953\"], [0.7777777777777778, \"#fb9f3a\"], [0.8888888888888888, \"#fdca26\"], [1.0, \"#f0f921\"]]}, \"legend\": {\"title\": {\"text\": \"Class\"}, \"tracegroupgap\": 0, \"x\": 0, \"y\": 1}, \"margin\": {\"t\": 60}, \"scene\": {\"domain\": {\"x\": [0.0, 1.0], \"y\": [0.0, 1.0]}, \"xaxis\": {\"title\": {\"text\": \"PC 1\"}}, \"yaxis\": {\"title\": {\"text\": \"PC 2\"}}, \"zaxis\": {\"title\": {\"text\": \"PC 3\"}}}, \"template\": {\"data\": {\"bar\": [{\"error_x\": {\"color\": \"#2a3f5f\"}, \"error_y\": {\"color\": \"#2a3f5f\"}, \"marker\": {\"line\": {\"color\": \"#E5ECF6\", \"width\": 0.5}}, \"type\": \"bar\"}], \"barpolar\": [{\"marker\": {\"line\": {\"color\": \"#E5ECF6\", \"width\": 0.5}}, \"type\": \"barpolar\"}], \"carpet\": [{\"aaxis\": {\"endlinecolor\": \"#2a3f5f\", \"gridcolor\": \"white\", \"linecolor\": \"white\", \"minorgridcolor\": \"white\", \"startlinecolor\": \"#2a3f5f\"}, \"baxis\": {\"endlinecolor\": \"#2a3f5f\", \"gridcolor\": \"white\", \"linecolor\": \"white\", \"minorgridcolor\": \"white\", \"startlinecolor\": \"#2a3f5f\"}, \"type\": \"carpet\"}], \"choropleth\": [{\"colorbar\": {\"outlinewidth\": 0, \"ticks\": \"\"}, \"type\": \"choropleth\"}], \"contour\": [{\"colorbar\": {\"outlinewidth\": 0, \"ticks\": \"\"}, \"colorscale\": [[0.0, \"#0d0887\"], [0.1111111111111111, \"#46039f\"], [0.2222222222222222, \"#7201a8\"], [0.3333333333333333, \"#9c179e\"], [0.4444444444444444, \"#bd3786\"], [0.5555555555555556, \"#d8576b\"], [0.6666666666666666, \"#ed7953\"], [0.7777777777777778, \"#fb9f3a\"], [0.8888888888888888, \"#fdca26\"], [1.0, \"#f0f921\"]], \"type\": \"contour\"}], \"contourcarpet\": [{\"colorbar\": {\"outlinewidth\": 0, \"ticks\": \"\"}, \"type\": \"contourcarpet\"}], \"heatmap\": [{\"colorbar\": {\"outlinewidth\": 0, \"ticks\": \"\"}, \"colorscale\": [[0.0, \"#0d0887\"], [0.1111111111111111, \"#46039f\"], [0.2222222222222222, \"#7201a8\"], [0.3333333333333333, \"#9c179e\"], [0.4444444444444444, \"#bd3786\"], [0.5555555555555556, \"#d8576b\"], [0.6666666666666666, \"#ed7953\"], [0.7777777777777778, \"#fb9f3a\"], [0.8888888888888888, \"#fdca26\"], [1.0, \"#f0f921\"]], \"type\": \"heatmap\"}], \"heatmapgl\": [{\"colorbar\": {\"outlinewidth\": 0, \"ticks\": \"\"}, \"colorscale\": [[0.0, \"#0d0887\"], [0.1111111111111111, \"#46039f\"], [0.2222222222222222, \"#7201a8\"], [0.3333333333333333, \"#9c179e\"], [0.4444444444444444, \"#bd3786\"], [0.5555555555555556, \"#d8576b\"], [0.6666666666666666, \"#ed7953\"], [0.7777777777777778, \"#fb9f3a\"], [0.8888888888888888, \"#fdca26\"], [1.0, \"#f0f921\"]], \"type\": \"heatmapgl\"}], \"histogram\": [{\"marker\": {\"colorbar\": {\"outlinewidth\": 0, \"ticks\": \"\"}}, \"type\": \"histogram\"}], \"histogram2d\": [{\"colorbar\": {\"outlinewidth\": 0, \"ticks\": \"\"}, \"colorscale\": [[0.0, \"#0d0887\"], [0.1111111111111111, \"#46039f\"], [0.2222222222222222, \"#7201a8\"], [0.3333333333333333, \"#9c179e\"], [0.4444444444444444, \"#bd3786\"], [0.5555555555555556, \"#d8576b\"], [0.6666666666666666, \"#ed7953\"], [0.7777777777777778, \"#fb9f3a\"], [0.8888888888888888, \"#fdca26\"], [1.0, \"#f0f921\"]], \"type\": \"histogram2d\"}], \"histogram2dcontour\": [{\"colorbar\": {\"outlinewidth\": 0, \"ticks\": \"\"}, \"colorscale\": [[0.0, \"#0d0887\"], [0.1111111111111111, \"#46039f\"], [0.2222222222222222, \"#7201a8\"], [0.3333333333333333, \"#9c179e\"], [0.4444444444444444, \"#bd3786\"], [0.5555555555555556, \"#d8576b\"], [0.6666666666666666, \"#ed7953\"], [0.7777777777777778, \"#fb9f3a\"], [0.8888888888888888, \"#fdca26\"], [1.0, \"#f0f921\"]], \"type\": \"histogram2dcontour\"}], \"mesh3d\": [{\"colorbar\": {\"outlinewidth\": 0, \"ticks\": \"\"}, \"type\": \"mesh3d\"}], \"parcoords\": [{\"line\": {\"colorbar\": {\"outlinewidth\": 0, \"ticks\": \"\"}}, \"type\": \"parcoords\"}], \"pie\": [{\"automargin\": true, \"type\": \"pie\"}], \"scatter\": [{\"marker\": {\"colorbar\": {\"outlinewidth\": 0, \"ticks\": \"\"}}, \"type\": \"scatter\"}], \"scatter3d\": [{\"line\": {\"colorbar\": {\"outlinewidth\": 0, \"ticks\": \"\"}}, \"marker\": {\"colorbar\": {\"outlinewidth\": 0, \"ticks\": \"\"}}, \"type\": \"scatter3d\"}], \"scattercarpet\": [{\"marker\": {\"colorbar\": {\"outlinewidth\": 0, \"ticks\": \"\"}}, \"type\": \"scattercarpet\"}], \"scattergeo\": [{\"marker\": {\"colorbar\": {\"outlinewidth\": 0, \"ticks\": \"\"}}, \"type\": \"scattergeo\"}], \"scattergl\": [{\"marker\": {\"colorbar\": {\"outlinewidth\": 0, \"ticks\": \"\"}}, \"type\": \"scattergl\"}], \"scattermapbox\": [{\"marker\": {\"colorbar\": {\"outlinewidth\": 0, \"ticks\": \"\"}}, \"type\": \"scattermapbox\"}], \"scatterpolar\": [{\"marker\": {\"colorbar\": {\"outlinewidth\": 0, \"ticks\": \"\"}}, \"type\": \"scatterpolar\"}], \"scatterpolargl\": [{\"marker\": {\"colorbar\": {\"outlinewidth\": 0, \"ticks\": \"\"}}, \"type\": \"scatterpolargl\"}], \"scatterternary\": [{\"marker\": {\"colorbar\": {\"outlinewidth\": 0, \"ticks\": \"\"}}, \"type\": \"scatterternary\"}], \"surface\": [{\"colorbar\": {\"outlinewidth\": 0, \"ticks\": \"\"}, \"colorscale\": [[0.0, \"#0d0887\"], [0.1111111111111111, \"#46039f\"], [0.2222222222222222, \"#7201a8\"], [0.3333333333333333, \"#9c179e\"], [0.4444444444444444, \"#bd3786\"], [0.5555555555555556, \"#d8576b\"], [0.6666666666666666, \"#ed7953\"], [0.7777777777777778, \"#fb9f3a\"], [0.8888888888888888, \"#fdca26\"], [1.0, \"#f0f921\"]], \"type\": \"surface\"}], \"table\": [{\"cells\": {\"fill\": {\"color\": \"#EBF0F8\"}, \"line\": {\"color\": \"white\"}}, \"header\": {\"fill\": {\"color\": \"#C8D4E3\"}, \"line\": {\"color\": \"white\"}}, \"type\": \"table\"}]}, \"layout\": {\"annotationdefaults\": {\"arrowcolor\": \"#2a3f5f\", \"arrowhead\": 0, \"arrowwidth\": 1}, \"autotypenumbers\": \"strict\", \"coloraxis\": {\"colorbar\": {\"outlinewidth\": 0, \"ticks\": \"\"}}, \"colorscale\": {\"diverging\": [[0, \"#8e0152\"], [0.1, \"#c51b7d\"], [0.2, \"#de77ae\"], [0.3, \"#f1b6da\"], [0.4, \"#fde0ef\"], [0.5, \"#f7f7f7\"], [0.6, \"#e6f5d0\"], [0.7, \"#b8e186\"], [0.8, \"#7fbc41\"], [0.9, \"#4d9221\"], [1, \"#276419\"]], \"sequential\": [[0.0, \"#0d0887\"], [0.1111111111111111, \"#46039f\"], [0.2222222222222222, \"#7201a8\"], [0.3333333333333333, \"#9c179e\"], [0.4444444444444444, \"#bd3786\"], [0.5555555555555556, \"#d8576b\"], [0.6666666666666666, \"#ed7953\"], [0.7777777777777778, \"#fb9f3a\"], [0.8888888888888888, \"#fdca26\"], [1.0, \"#f0f921\"]], \"sequentialminus\": [[0.0, \"#0d0887\"], [0.1111111111111111, \"#46039f\"], [0.2222222222222222, \"#7201a8\"], [0.3333333333333333, \"#9c179e\"], [0.4444444444444444, \"#bd3786\"], [0.5555555555555556, \"#d8576b\"], [0.6666666666666666, \"#ed7953\"], [0.7777777777777778, \"#fb9f3a\"], [0.8888888888888888, \"#fdca26\"], [1.0, \"#f0f921\"]]}, \"colorway\": [\"#636efa\", \"#EF553B\", \"#00cc96\", \"#ab63fa\", \"#FFA15A\", \"#19d3f3\", \"#FF6692\", \"#B6E880\", \"#FF97FF\", \"#FECB52\"], \"font\": {\"color\": \"#2a3f5f\"}, \"geo\": {\"bgcolor\": \"white\", \"lakecolor\": \"white\", \"landcolor\": \"#E5ECF6\", \"showlakes\": true, \"showland\": true, \"subunitcolor\": \"white\"}, \"hoverlabel\": {\"align\": \"left\"}, \"hovermode\": \"closest\", \"mapbox\": {\"style\": \"light\"}, \"paper_bgcolor\": \"white\", \"plot_bgcolor\": \"#E5ECF6\", \"polar\": {\"angularaxis\": {\"gridcolor\": \"white\", \"linecolor\": \"white\", \"ticks\": \"\"}, \"bgcolor\": \"#E5ECF6\", \"radialaxis\": {\"gridcolor\": \"white\", \"linecolor\": \"white\", \"ticks\": \"\"}}, \"scene\": {\"xaxis\": {\"backgroundcolor\": \"#E5ECF6\", \"gridcolor\": \"white\", \"gridwidth\": 2, \"linecolor\": \"white\", \"showbackground\": true, \"ticks\": \"\", \"zerolinecolor\": \"white\"}, \"yaxis\": {\"backgroundcolor\": \"#E5ECF6\", \"gridcolor\": \"white\", \"gridwidth\": 2, \"linecolor\": \"white\", \"showbackground\": true, \"ticks\": \"\", \"zerolinecolor\": \"white\"}, \"zaxis\": {\"backgroundcolor\": \"#E5ECF6\", \"gridcolor\": \"white\", \"gridwidth\": 2, \"linecolor\": \"white\", \"showbackground\": true, \"ticks\": \"\", \"zerolinecolor\": \"white\"}}, \"shapedefaults\": {\"line\": {\"color\": \"#2a3f5f\"}}, \"ternary\": {\"aaxis\": {\"gridcolor\": \"white\", \"linecolor\": \"white\", \"ticks\": \"\"}, \"baxis\": {\"gridcolor\": \"white\", \"linecolor\": \"white\", \"ticks\": \"\"}, \"bgcolor\": \"#E5ECF6\", \"caxis\": {\"gridcolor\": \"white\", \"linecolor\": \"white\", \"ticks\": \"\"}}, \"title\": {\"x\": 0.05}, \"xaxis\": {\"automargin\": true, \"gridcolor\": \"white\", \"linecolor\": \"white\", \"ticks\": \"\", \"title\": {\"standoff\": 15}, \"zerolinecolor\": \"white\", \"zerolinewidth\": 2}, \"yaxis\": {\"automargin\": true, \"gridcolor\": \"white\", \"linecolor\": \"white\", \"ticks\": \"\", \"title\": {\"standoff\": 15}, \"zerolinecolor\": \"white\", \"zerolinewidth\": 2}}}, \"width\": 800},                        {\"responsive\": true}                    ).then(function(){\n",
       "                            \n",
       "var gd = document.getElementById('d6045687-ee52-449d-a204-232c18e50b21');\n",
       "var x = new MutationObserver(function (mutations, observer) {{\n",
       "        var display = window.getComputedStyle(gd).display;\n",
       "        if (!display || display === 'none') {{\n",
       "            console.log([gd, 'removed!']);\n",
       "            Plotly.purge(gd);\n",
       "            observer.disconnect();\n",
       "        }}\n",
       "}});\n",
       "\n",
       "// Listen for the removal of the full notebook cells\n",
       "var notebookContainer = gd.closest('#notebook-container');\n",
       "if (notebookContainer) {{\n",
       "    x.observe(notebookContainer, {childList: true});\n",
       "}}\n",
       "\n",
       "// Listen for the clearing of the current output cell\n",
       "var outputEl = gd.closest('.output');\n",
       "if (outputEl) {{\n",
       "    x.observe(outputEl, {childList: true});\n",
       "}}\n",
       "\n",
       "                        })                };                });            </script>        </div>"
      ]
     },
     "metadata": {},
     "output_type": "display_data"
    }
   ],
   "source": [
    "# Creating a 3D-Scatter with the PCA data and the clusters\n",
    "fig = px.scatter_3d(\n",
    "    clustered_df,\n",
    "    x=\"PC 1\",\n",
    "    y=\"PC 2\",\n",
    "    z=\"PC 3\",\n",
    "    color=\"Class\",\n",
    "    symbol=\"Class\",\n",
    "    width=800,\n",
    "    hover_name='CoinName',\n",
    "    hover_data=['Algorithm']\n",
    ")\n",
    "fig.update_layout(legend=dict(x=0, y=1))\n",
    "fig.show()\n"
   ]
  },
  {
   "cell_type": "code",
   "execution_count": 182,
   "metadata": {},
   "outputs": [
    {
     "data": {},
     "metadata": {},
     "output_type": "display_data"
    },
    {
     "data": {
      "application/vnd.holoviews_exec.v0+json": "",
      "text/html": [
       "<div id='1304'>\n",
       "\n",
       "\n",
       "\n",
       "\n",
       "\n",
       "  <div class=\"bk-root\" id=\"0b9b57b5-4905-417e-b79e-de458d64f6a0\" data-root-id=\"1304\"></div>\n",
       "</div>\n",
       "<script type=\"application/javascript\">(function(root) {\n",
       "  function embed_document(root) {\n",
       "  var docs_json = {\"18a5840e-dd0f-487d-a7df-218abf50f82d\":{\"roots\":{\"references\":[{\"attributes\":{\"editor\":{\"id\":\"1309\"},\"field\":\"CoinName\",\"formatter\":{\"id\":\"1308\"},\"title\":\"CoinName\"},\"id\":\"1310\",\"type\":\"TableColumn\"},{\"attributes\":{},\"id\":\"1324\",\"type\":\"StringEditor\"},{\"attributes\":{\"margin\":[5,5,5,5],\"name\":\"HSpacer02130\",\"sizing_mode\":\"stretch_width\"},\"id\":\"1344\",\"type\":\"Spacer\"},{\"attributes\":{\"children\":[{\"id\":\"1305\"},{\"id\":\"1338\"},{\"id\":\"1344\"}],\"margin\":[0,0,0,0],\"name\":\"Row02125\",\"tags\":[\"embedded\"]},\"id\":\"1304\",\"type\":\"Row\"},{\"attributes\":{},\"id\":\"1323\",\"type\":\"StringFormatter\"},{\"attributes\":{\"editor\":{\"id\":\"1329\"},\"field\":\"TotalCoinsMined\",\"formatter\":{\"id\":\"1328\"},\"title\":\"TotalCoinsMined\"},\"id\":\"1330\",\"type\":\"TableColumn\"},{\"attributes\":{\"margin\":[5,5,5,5],\"name\":\"HSpacer02129\",\"sizing_mode\":\"stretch_width\"},\"id\":\"1305\",\"type\":\"Spacer\"},{\"attributes\":{\"editor\":{\"id\":\"1334\"},\"field\":\"Class\",\"formatter\":{\"id\":\"1333\"},\"title\":\"Class\"},\"id\":\"1335\",\"type\":\"TableColumn\"},{\"attributes\":{},\"id\":\"1314\",\"type\":\"StringEditor\"},{\"attributes\":{\"editor\":{\"id\":\"1324\"},\"field\":\"TotalCoinSupply\",\"formatter\":{\"id\":\"1323\"},\"title\":\"TotalCoinSupply\"},\"id\":\"1325\",\"type\":\"TableColumn\"},{\"attributes\":{},\"id\":\"1341\",\"type\":\"UnionRenderers\"},{\"attributes\":{\"editor\":{\"id\":\"1314\"},\"field\":\"Algorithm\",\"formatter\":{\"id\":\"1313\"},\"title\":\"Algorithm\"},\"id\":\"1315\",\"type\":\"TableColumn\"},{\"attributes\":{\"editor\":{\"id\":\"1319\"},\"field\":\"ProofType\",\"formatter\":{\"id\":\"1318\"},\"title\":\"ProofType\"},\"id\":\"1320\",\"type\":\"TableColumn\"},{\"attributes\":{},\"id\":\"1307\",\"type\":\"Selection\"},{\"attributes\":{\"data\":{\"Algorithm\":[\"Scrypt\",\"Scrypt\",\"X13\",\"SHA-256\",\"Ethash\",\"Scrypt\",\"X11\",\"CryptoNight-V7\",\"Ethash\",\"Equihash\",\"SHA-512\",\"Multiple\",\"SHA-256\",\"SHA-256\",\"Scrypt\",\"X15\",\"X11\",\"Scrypt\",\"Scrypt\",\"Scrypt\",\"Multiple\",\"Scrypt\",\"SHA-256\",\"Scrypt\",\"Scrypt\",\"Scrypt\",\"Quark\",\"Groestl\",\"Scrypt\",\"Scrypt\",\"Scrypt\",\"Scrypt\",\"Scrypt\",\"X11\",\"Scrypt\",\"Groestl\",\"Multiple\",\"SHA-256\",\"Scrypt\",\"Scrypt\",\"Scrypt\",\"Scrypt\",\"PoS\",\"Scrypt\",\"Scrypt\",\"NeoScrypt\",\"Scrypt\",\"Scrypt\",\"Scrypt\",\"Scrypt\",\"X11\",\"Scrypt\",\"X11\",\"SHA-256\",\"Scrypt\",\"Scrypt\",\"Scrypt\",\"SHA3\",\"Scrypt\",\"HybridScryptHash256\",\"Scrypt\",\"Scrypt\",\"SHA-256\",\"Scrypt\",\"X13\",\"Scrypt\",\"SHA-256\",\"Scrypt\",\"X13\",\"NeoScrypt\",\"Scrypt\",\"Scrypt\",\"Scrypt\",\"Scrypt\",\"Scrypt\",\"Scrypt\",\"X11\",\"X11\",\"SHA-256\",\"Multiple\",\"SHA-256\",\"PHI1612\",\"X11\",\"SHA-256\",\"SHA-256\",\"SHA-256\",\"X11\",\"Scrypt\",\"Scrypt\",\"Scrypt\",\"Scrypt\",\"Lyra2REv2\",\"Scrypt\",\"X11\",\"Multiple\",\"SHA-256\",\"X13\",\"Scrypt\",\"CryptoNight\",\"CryptoNight\",\"Shabal256\",\"Counterparty\",\"Scrypt\",\"SHA-256\",\"Groestl\",\"Scrypt\",\"Scrypt\",\"Scrypt\",\"X13\",\"Scrypt\",\"Scrypt\",\"Scrypt\",\"Scrypt\",\"X13\",\"Scrypt\",\"Stanford Folding\",\"X11\",\"Multiple\",\"QuBit\",\"Scrypt\",\"Scrypt\",\"Scrypt\",\"M7 POW\",\"Scrypt\",\"SHA-256\",\"Scrypt\",\"X11\",\"SHA3\",\"X11\",\"Lyra2RE\",\"SHA-256\",\"QUAIT\",\"X11\",\"X11\",\"Scrypt\",\"Scrypt\",\"Scrypt\",\"Ethash\",\"X13\",\"Blake2b\",\"SHA-256\",\"X15\",\"X11\",\"SHA-256\",\"BLAKE256\",\"Scrypt\",\"1GB AES Pattern Search\",\"SHA-256\",\"X11\",\"Scrypt\",\"SHA-256\",\"SHA-256\",\"NIST5\",\"Scrypt\",\"Scrypt\",\"X11\",\"Dagger\",\"Scrypt\",\"X11GOST\",\"X11\",\"Scrypt\",\"SHA-256\",\"Scrypt\",\"PoS\",\"Scrypt\",\"X11\",\"X11\",\"SHA-256\",\"SHA-256\",\"NIST5\",\"X11\",\"Scrypt\",\"POS 3.0\",\"Scrypt\",\"Scrypt\",\"Scrypt\",\"X13\",\"X11\",\"X11\",\"Equihash\",\"X11\",\"Scrypt\",\"CryptoNight\",\"SHA-256\",\"SHA-256\",\"X11\",\"Scrypt\",\"Multiple\",\"Scrypt\",\"Scrypt\",\"Scrypt\",\"SHA-256\",\"Scrypt\",\"Scrypt\",\"SHA-256D\",\"PoS\",\"Scrypt\",\"X11\",\"Lyra2Z\",\"PoS\",\"X13\",\"X14\",\"PoS\",\"SHA-256D\",\"Ethash\",\"Equihash\",\"DPoS\",\"X11\",\"Scrypt\",\"X11\",\"X13\",\"X11\",\"PoS\",\"Scrypt\",\"Scrypt\",\"X11\",\"PoS\",\"X11\",\"SHA-256\",\"Scrypt\",\"X11\",\"Scrypt\",\"Scrypt\",\"X11\",\"CryptoNight\",\"Scrypt\",\"Scrypt\",\"Scrypt\",\"Scrypt\",\"Quark\",\"QuBit\",\"Scrypt\",\"CryptoNight\",\"Lyra2RE\",\"Scrypt\",\"SHA-256\",\"X11\",\"Scrypt\",\"X11\",\"Scrypt\",\"CryptoNight-V7\",\"Scrypt\",\"Scrypt\",\"Scrypt\",\"X13\",\"X11\",\"Equihash\",\"Scrypt\",\"Scrypt\",\"Lyra2RE\",\"Scrypt\",\"Dagger-Hashimoto\",\"X11\",\"Blake2S\",\"X11\",\"Scrypt\",\"PoS\",\"X11\",\"NIST5\",\"PoS\",\"X11\",\"Scrypt\",\"Scrypt\",\"Scrypt\",\"SHA-256\",\"X11\",\"Scrypt\",\"Scrypt\",\"SHA-256\",\"PoS\",\"Scrypt\",\"X15\",\"SHA-256\",\"Scrypt\",\"POS 3.0\",\"CryptoNight-V7\",\"536\",\"Argon2d\",\"Blake2b\",\"Cloverhash\",\"CryptoNight\",\"NIST5\",\"X11\",\"NIST5\",\"Skein\",\"Scrypt\",\"X13\",\"Scrypt\",\"X11\",\"X11\",\"Scrypt\",\"CryptoNight\",\"X13\",\"Time Travel\",\"Scrypt\",\"Keccak\",\"SkunkHash v2 Raptor\",\"X11\",\"Skein\",\"SHA-256\",\"X11\",\"Scrypt\",\"VeChainThor Authority\",\"Scrypt\",\"PoS\",\"Scrypt\",\"Scrypt\",\"Scrypt\",\"Scrypt\",\"Scrypt\",\"Scrypt\",\"Scrypt\",\"CryptoNight\",\"SHA-512\",\"Ouroboros\",\"X11\",\"Equihash\",\"NeoScrypt\",\"X11\",\"Scrypt\",\"NeoScrypt\",\"Lyra2REv2\",\"Equihash\",\"Scrypt\",\"SHA-256\",\"NIST5\",\"PHI1612\",\"Dagger\",\"Scrypt\",\"Quark\",\"Scrypt\",\"POS 2.0\",\"Scrypt\",\"SHA-256\",\"X11\",\"NeoScrypt\",\"Ethash\",\"NeoScrypt\",\"X11\",\"DPoS\",\"NIST5\",\"X13\",\"Multiple\",\"Scrypt\",\"CryptoNight\",\"CryptoNight\",\"Ethash\",\"NIST5\",\"Quark\",\"X11\",\"CryptoNight-V7\",\"Scrypt\",\"Scrypt\",\"Scrypt\",\"X11\",\"BLAKE256\",\"X11\",\"NeoScrypt\",\"Quark\",\"NeoScrypt\",\"Scrypt\",\"Scrypt\",\"Scrypt\",\"X11\",\"X11\",\"SHA-256\",\"C11\",\"POS 3.0\",\"Ethash\",\"Scrypt\",\"CryptoNight\",\"SkunkHash\",\"Scrypt\",\"CryptoNight\",\"Scrypt\",\"Dagger\",\"Lyra2REv2\",\"X13\",\"Proof-of-BibleHash\",\"SHA-256 + Hive\",\"Scrypt\",\"Scrypt\",\"X11\",\"C11\",\"Proof-of-Authority\",\"X11\",\"XEVAN\",\"Scrypt\",\"VBFT\",\"Ethash\",\"CryptoNight\",\"Scrypt\",\"IMesh\",\"NIST5\",\"Scrypt\",\"Scrypt\",\"Equihash\",\"Scrypt\",\"Lyra2Z\",\"Green Protocol\",\"PoS\",\"Scrypt\",\"Semux BFT consensus\",\"X11\",\"Quark\",\"PoS\",\"CryptoNight\",\"X16R\",\"Scrypt\",\"NIST5\",\"Lyra2RE\",\"XEVAN\",\"Tribus\",\"Scrypt\",\"Lyra2Z\",\"CryptoNight\",\"CryptoNight Heavy\",\"CryptoNight\",\"Scrypt\",\"Scrypt\",\"Jump Consistent Hash\",\"SHA-256D\",\"CryptoNight\",\"Scrypt\",\"X15\",\"Scrypt\",\"Quark\",\"SHA-256\",\"DPoS\",\"X16R\",\"HMQ1725\",\"X11\",\"X16R\",\"Quark\",\"Quark\",\"Scrypt\",\"Lyra2REv2\",\"Quark\",\"Scrypt\",\"Scrypt\",\"CryptoNight-V7\",\"Cryptonight-GPU\",\"XEVAN\",\"CryptoNight Heavy\",\"X11\",\"X11\",\"Scrypt\",\"PoS\",\"SHA-256\",\"Keccak\",\"X11\",\"X11\",\"Scrypt\",\"SHA-512\",\"X16R\",\"ECC 256K1\",\"Equihash\",\"XEVAN\",\"Lyra2Z\",\"SHA-256\",\"XEVAN\",\"X11\",\"CryptoNight\",\"Quark\",\"Blake\",\"Blake\",\"Equihash\",\"Exosis\",\"Scrypt\",\"Scrypt\",\"Equihash\",\"Quark\",\"Equihash\",\"Quark\",\"Scrypt\",\"QuBit\",\"X11\",\"Scrypt\",\"XEVAN\",\"SHA-256D\",\"X11\",\"SHA-256\",\"X13\",\"SHA-256\",\"X11\",\"DPoS\",\"Scrypt\",\"Scrypt\",\"X11\",\"NeoScrypt\",\"Scrypt\",\"Blake\",\"Scrypt\",\"SHA-256\",\"Scrypt\",\"X11\",\"Scrypt\",\"Scrypt\",\"SHA-256\",\"X11\",\"SHA-256\",\"Scrypt\",\"Scrypt\",\"Scrypt\",\"Groestl\",\"X11\",\"Scrypt\",\"PoS\",\"Scrypt\",\"Scrypt\",\"X11\",\"SHA-256\",\"DPoS\",\"Scrypt\",\"Scrypt\",\"NeoScrypt\",\"Multiple\",\"X13\",\"Equihash+Scrypt\",\"DPoS\",\"Ethash\",\"DPoS\",\"SHA-256\",\"Leased POS\",\"PoS\",\"TRC10\",\"PoS\",\"SHA-256\",\"Scrypt\",\"CryptoNight\",\"Equihash\",\"Scrypt\"],\"Class\":{\"__ndarray__\":\"AQAAAAEAAAABAAAAAAAAAAAAAAAAAAAAAQAAAAAAAAAAAAAAAAAAAAEAAAAAAAAAAQAAAAEAAAAAAAAAAQAAAAAAAAAAAAAAAQAAAAEAAAAAAAAAAAAAAAAAAAAAAAAAAAAAAAEAAAAAAAAAAAAAAAAAAAABAAAAAAAAAAEAAAAAAAAAAAAAAAEAAAABAAAAAAAAAAAAAAAAAAAAAAAAAAAAAAAAAAAAAQAAAAEAAAAAAAAAAAAAAAAAAAAAAAAAAAAAAAEAAAABAAAAAAAAAAEAAAAAAAAAAAAAAAAAAAAAAAAAAQAAAAAAAAAAAAAAAQAAAAAAAAABAAAAAQAAAAEAAAAAAAAAAAAAAAAAAAABAAAAAQAAAAEAAAABAAAAAQAAAAAAAAAAAAAAAAAAAAEAAAABAAAAAAAAAAEAAAAAAAAAAQAAAAEAAAAAAAAAAAAAAAAAAAAAAAAAAQAAAAEAAAAAAAAAAQAAAAAAAAAAAAAAAQAAAAEAAAAAAAAAAQAAAAEAAAAAAAAAAAAAAAEAAAABAAAAAAAAAAEAAAABAAAAAAAAAAEAAAAAAAAAAQAAAAAAAAABAAAAAAAAAAEAAAABAAAAAAAAAAAAAAABAAAAAAAAAAAAAAAAAAAAAQAAAAAAAAAAAAAAAAAAAAAAAAAAAAAAAQAAAAAAAAAAAAAAAAAAAAAAAAABAAAAAAAAAAEAAAAAAAAAAAAAAAEAAAAAAAAAAQAAAAAAAAABAAAAAQAAAAAAAAAAAAAAAQAAAAAAAAAAAAAAAQAAAAEAAAAAAAAAAQAAAAAAAAABAAAAAQAAAAEAAAAAAAAAAAAAAAAAAAAAAAAAAQAAAAEAAAABAAAAAQAAAAEAAAAAAAAAAAAAAAEAAAABAAAAAQAAAAEAAAABAAAAAAAAAAEAAAABAAAAAQAAAAEAAAABAAAAAAAAAAEAAAAAAAAAAQAAAAEAAAAAAAAAAQAAAAAAAAABAAAAAQAAAAAAAAABAAAAAAAAAAEAAAAAAAAAAQAAAAAAAAABAAAAAQAAAAEAAAABAAAAAAAAAAEAAAABAAAAAQAAAAEAAAABAAAAAAAAAAAAAAABAAAAAQAAAAAAAAAAAAAAAQAAAAEAAAABAAAAAQAAAAEAAAAAAAAAAQAAAAEAAAABAAAAAQAAAAEAAAABAAAAAQAAAAEAAAAAAAAAAQAAAAEAAAABAAAAAQAAAAEAAAABAAAAAAAAAAAAAAAAAAAAAQAAAAEAAAABAAAAAQAAAAAAAAABAAAAAAAAAAEAAAABAAAAAAAAAAEAAAAAAAAAAAAAAAEAAAAAAAAAAAAAAAEAAAAAAAAAAQAAAAEAAAABAAAAAAAAAAEAAAABAAAAAAAAAAEAAAABAAAAAQAAAAEAAAABAAAAAQAAAAEAAAAAAAAAAQAAAAAAAAABAAAAAQAAAAEAAAABAAAAAAAAAAEAAAAAAAAAAQAAAAAAAAAAAAAAAAAAAAAAAAABAAAAAAAAAAEAAAABAAAAAAAAAAEAAAAAAAAAAAAAAAAAAAABAAAAAAAAAAEAAAAAAAAAAAAAAAAAAAABAAAAAAAAAAEAAAAAAAAAAQAAAAEAAAADAAAAAAAAAAEAAAAAAAAAAAAAAAAAAAAAAAAAAAAAAAEAAAABAAAAAAAAAAEAAAABAAAAAQAAAAAAAAABAAAAAAAAAAEAAAAAAAAAAQAAAAAAAAABAAAAAQAAAAEAAAABAAAAAAAAAAEAAAABAAAAAAAAAAEAAAABAAAAAQAAAAAAAAAAAAAAAAAAAAAAAAABAAAAAQAAAAEAAAABAAAAAAAAAAEAAAAAAAAAAAAAAAAAAAABAAAAAQAAAAAAAAAAAAAAAQAAAAEAAAAAAAAAAQAAAAAAAAAAAAAAAAAAAAEAAAAAAAAAAAAAAAEAAAABAAAAAQAAAAAAAAAAAAAAAAAAAAEAAAABAAAAAQAAAAAAAAAAAAAAAQAAAAAAAAAAAAAAAAAAAAAAAAABAAAAAwAAAAMAAAAAAAAAAAAAAAAAAAABAAAAAwAAAAEAAAABAAAAAQAAAAEAAAAAAAAAAAAAAAAAAAAAAAAAAQAAAAEAAAABAAAAAAAAAAEAAAAAAAAAAQAAAAEAAAABAAAAAQAAAAAAAAABAAAAAQAAAAAAAAABAAAAAQAAAAAAAAAAAAAAAQAAAAAAAAABAAAAAAAAAAAAAAAAAAAAAAAAAAEAAAABAAAAAAAAAAEAAAAAAAAAAQAAAAEAAAABAAAAAQAAAAEAAAABAAAAAAAAAAAAAAAAAAAAAQAAAAEAAAABAAAAAQAAAAEAAAABAAAAAAAAAAEAAAAAAAAAAAAAAAAAAAAAAAAAAQAAAAEAAAABAAAAAQAAAAAAAAABAAAAAQAAAAAAAAABAAAAAQAAAAAAAAADAAAAAAAAAAEAAAAAAAAAAAAAAAEAAAABAAAAAAAAAAEAAAAAAAAAAAAAAAEAAAAAAAAAAAAAAAEAAAAAAAAAAQAAAAAAAAABAAAAAQAAAAAAAAABAAAAAQAAAAEAAAABAAAAAQAAAAAAAAAAAAAAAAAAAAEAAAABAAAAAQAAAAAAAAABAAAAAAAAAAEAAAAAAAAAAQAAAAEAAAABAAAAAQAAAAAAAAABAAAAAQAAAAEAAAAAAAAAAQAAAAAAAAABAAAAAAAAAAEAAAABAAAAAQAAAAAAAAAAAAAAAQAAAAEAAAABAAAAAQAAAAEAAAABAAAAAAAAAAEAAAAAAAAAAQAAAAAAAAABAAAAAQAAAAMAAAABAAAAAgAAAAEAAAABAAAAAQAAAAAAAAAAAAAAAQAAAA==\",\"dtype\":\"int32\",\"order\":\"little\",\"shape\":[532]},\"CoinName\":[\"42 Coin\",\"404Coin\",\"EliteCoin\",\"Bitcoin\",\"Ethereum\",\"Litecoin\",\"Dash\",\"Monero\",\"Ethereum Classic\",\"ZCash\",\"Bitshares\",\"DigiByte\",\"BitcoinDark\",\"PayCoin\",\"ProsperCoin\",\"KoboCoin\",\"Spreadcoin\",\"Argentum\",\"Aurora Coin\",\"BlueCoin\",\"MyriadCoin\",\"MoonCoin\",\"ZetaCoin\",\"SexCoin\",\"Quatloo\",\"EnergyCoin\",\"QuarkCoin\",\"Riecoin\",\"Digitalcoin \",\"BitBar\",\"Catcoin\",\"CryptoBullion\",\"CannaCoin\",\"CryptCoin\",\"CasinoCoin\",\"Diamond\",\"Verge\",\"DevCoin\",\"EarthCoin\",\"E-Gulden\",\"Einsteinium\",\"Emerald\",\"Exclusive Coin\",\"FlutterCoin\",\"Franko\",\"FeatherCoin\",\"GrandCoin\",\"GlobalCoin\",\"GoldCoin\",\"HoboNickels\",\"HyperStake\",\"Infinite Coin\",\"IOCoin\",\"IXcoin\",\"KrugerCoin\",\"LuckyCoin\",\"Litebar \",\"MaxCoin\",\"MegaCoin\",\"MediterraneanCoin\",\"MintCoin\",\"MinCoin\",\"MazaCoin\",\"Nautilus Coin\",\"NavCoin\",\"NobleCoin\",\"Namecoin\",\"NyanCoin\",\"OpalCoin\",\"Orbitcoin\",\"PotCoin\",\"PhoenixCoin\",\"Reddcoin\",\"RonPaulCoin\",\"StableCoin\",\"SmartCoin\",\"SuperCoin\",\"SyncCoin\",\"SysCoin\",\"TeslaCoin\",\"TigerCoin\",\"TittieCoin\",\"TorCoin\",\"TerraCoin\",\"UnbreakableCoin\",\"Unobtanium\",\"UroCoin\",\"UnitaryStatus Dollar\",\"UltraCoin\",\"ViaCoin\",\"VeriCoin\",\"Vertcoin\",\"WorldCoin\",\"X11 Coin\",\"Crypti\",\"JouleCoin\",\"StealthCoin\",\"ZCC Coin\",\"ByteCoin\",\"DigitalNote \",\"BurstCoin\",\"StorjCoin\",\"MonaCoin\",\"Neutron\",\"FairCoin\",\"Gulden\",\"RubyCoin\",\"PesetaCoin\",\"Kore\",\"Wild Beast Coin\",\"Dnotes\",\"Flo\",\"8BIT Coin\",\"Sativa Coin\",\"ArtByte\",\"Folding Coin\",\"Ucoin\",\"Unitus\",\"CypherPunkCoin\",\"OmniCron\",\"Vtorrent\",\"GreenCoin\",\"Cryptonite\",\"MasterCoin\",\"SoonCoin\",\"1Credit\",\"IslaCoin\",\"Nexus\",\"MarsCoin \",\"Crypto\",\"Anarchists Prime\",\"Droidz\",\"BowsCoin\",\"Squall Coin\",\"Song Coin\",\"BitZeny\",\"Diggits\",\"Expanse\",\"Paycon\",\"Siacoin\",\"Emercoin\",\"EverGreenCoin\",\"MindCoin\",\"I0coin\",\"Decred\",\"Revolution VR\",\"HOdlcoin\",\"EDRCoin\",\"Hitcoin\",\"Gamecredits\",\"DubaiCoin\",\"CarpeDiemCoin\",\"PWR Coin\",\"BillaryCoin\",\"GPU Coin\",\"Adzcoin\",\"SoilCoin\",\"YoCoin\",\"SibCoin\",\"EuropeCoin\",\"ZeitCoin\",\"SwingCoin\",\"SafeExchangeCoin\",\"Nebuchadnezzar\",\"Francs\",\"BolivarCoin\",\"Ratecoin\",\"Revenu\",\"Clockcoin\",\"VIP Tokens\",\"BitSend\",\"Omni\",\"Let it Ride\",\"PutinCoin\",\"iBankCoin\",\"Frankywillcoin\",\"MudraCoin\",\"PizzaCoin\",\"Lutetium Coin\",\"Komodo\",\"GoldBlocks\",\"CarterCoin\",\"Karbo\",\"BitTokens\",\"ZayedCoin\",\"MustangCoin\",\"ZoneCoin\",\"Circuits of Value\",\"RootCoin\",\"DopeCoin\",\"BitCurrency\",\"DollarCoin\",\"Swiscoin\",\"Shilling\",\"BuzzCoin\",\"Opair\",\"PesoBit\",\"Halloween Coin\",\"ZCoin\",\"CoffeeCoin\",\"RoyalCoin\",\"GanjaCoin V2\",\"TeamUP\",\"LanaCoin\",\"Elementrem\",\"ZClassic\",\"ARK\",\"InsaneCoin\",\"KiloCoin\",\"ArtexCoin\",\"EmberCoin\",\"XenixCoin\",\"FreeCoin\",\"PLNCoin\",\"AquariusCoin\",\"Kurrent\",\"Creatio\",\"Eternity\",\"Eurocoin\",\"BitcoinFast\",\"Stakenet\",\"BitConnect Coin\",\"MoneyCoin\",\"Enigma\",\"Cannabis Industry Coin\",\"Russiacoin\",\"PandaCoin\",\"GameUnits\",\"GAKHcoin\",\"Allsafe\",\"LiteCreed\",\"OsmiumCoin\",\"Bikercoins\",\"HexxCoin\",\"Klingon Empire Darsek\",\"Internet of People\",\"KushCoin\",\"Printerium\",\"PacCoin\",\"Impeach\",\"Citadel\",\"Zilbercoin\",\"FirstCoin\",\"BeaverCoin\",\"FindCoin\",\"VaultCoin\",\"Zero\",\"OpenChat\",\"Canada eCoin\",\"Zoin\",\"RenosCoin\",\"DubaiCoin\",\"VirtacoinPlus\",\"TajCoin\",\"Impact\",\"EB3coin\",\"Atmos\",\"HappyCoin\",\"Coinonat\",\"MacronCoin\",\"Condensate\",\"Independent Money System\",\"ArgusCoin\",\"LomoCoin\",\"ProCurrency\",\"GoldReserve\",\"BenjiRolls\",\"GrowthCoin\",\"ILCoin\",\"Phreak\",\"Degas Coin\",\"HTML5 Coin\",\"Ultimate Secure Cash\",\"EquiTrader\",\"QTUM\",\"Quantum Resistant Ledger\",\"Espers\",\"Dynamic\",\"Nano\",\"ChanCoin\",\"Dinastycoin\",\"Denarius\",\"DigitalPrice\",\"Virta Unique Coin\",\"Bitcoin Planet\",\"Unify\",\"BritCoin\",\"SocialCoin\",\"ArcticCoin\",\"DAS\",\"Linda\",\"LeviarCoin\",\"DeepOnion\",\"Bitcore\",\"gCn Coin\",\"SmartCash\",\"Signatum\",\"Onix\",\"Cream\",\"Bitcoin Cash\",\"Monoeci\",\"Draftcoin\",\"Vechain\",\"Sojourn Coin\",\"Stakecoin\",\"NewYorkCoin\",\"FrazCoin\",\"Kronecoin\",\"AdCoin\",\"Linx\",\"CoinonatX\",\"Ethereum Dark\",\"Sumokoin\",\"Obsidian\",\"Cardano\",\"Regalcoin\",\"BitcoinZ\",\"TrezarCoin\",\"Elements\",\"TerraNovaCoin\",\"VIVO Coin\",\"Rupee\",\"Bitcoin Gold\",\"WomenCoin\",\"Theresa May Coin\",\"NamoCoin\",\"LUXCoin\",\"Pirl\",\"Xios\",\"Bitcloud 2.0\",\"eBoost\",\"KekCoin\",\"BlackholeCoin\",\"Infinity Economics\",\"Pura\",\"Innova\",\"Ellaism\",\"GoByte\",\"Magnet\",\"Lamden Tau\",\"Electra\",\"Bitcoin Diamond\",\"SHIELD\",\"Cash & Back Coin\",\"UltraNote\",\"BitCoal\",\"DaxxCoin\",\"Bulwark\",\"Kalkulus\",\"AC3\",\"Lethean\",\"GermanCoin\",\"LiteCoin Ultra\",\"PopularCoin\",\"PhantomX\",\"Photon\",\"Sucre\",\"SparksPay\",\"Digiwage\",\"GunCoin\",\"IrishCoin\",\"Trollcoin\",\"Litecoin Plus\",\"Monkey Project\",\"Pioneer Coin\",\"UnitedBitcoin\",\"Interzone\",\"TokenPay\",\"1717 Masonic Commemorative Token\",\"My Big Coin\",\"TurtleCoin\",\"MUNcoin\",\"Unified Society USDEX\",\"Niobio Cash\",\"ShareChain\",\"Travelflex\",\"KREDS\",\"Tokyo Coin\",\"BiblePay\",\"LitecoinCash\",\"BitFlip\",\"LottoCoin\",\"Crypto Improvement Fund\",\"Stipend\",\"Poa Network\",\"Pushi\",\"Ellerium\",\"Velox\",\"Ontology\",\"Callisto Network\",\"BitTube\",\"Poseidon\",\"Aidos Kuneen\",\"Bitspace\",\"Briacoin\",\"Ignition\",\"Bitrolium\",\"MedicCoin\",\"Alpenschillling\",\"Bitcoin Green\",\"Deviant Coin\",\"Abjcoin\",\"Semux\",\"FuturoCoin\",\"Carebit\",\"Zealium\",\"Monero Classic\",\"Proton\",\"iDealCash\",\"Jumpcoin\",\"Infinex\",\"Bitcoin Incognito\",\"KEYCO\",\"HollyWoodCoin\",\"GINcoin\",\"PlatinCoin\",\"Loki\",\"Newton Coin\",\"Swisscoin\",\"Xt3ch\",\"MassGrid\",\"TheVig\",\"PluraCoin\",\"EmaratCoin\",\"Dekado\",\"Lynx\",\"Poseidon Quark\",\"BitcoinWSpectrum\",\"Muse\",\"Motion\",\"PlusOneCoin\",\"Axe\",\"Trivechain\",\"Dystem\",\"Giant\",\"Peony Coin\",\"Absolute Coin\",\"Vitae\",\"HexCoin\",\"TPCash\",\"Webchain\",\"Ryo\",\"Urals Coin\",\"Qwertycoin\",\"ARENON\",\"EUNO\",\"MMOCoin\",\"Ketan\",\"Project Pai\",\"XDNA\",\"PAXEX\",\"Azart\",\"ThunderStake\",\"Kcash\",\"Xchange\",\"Acute Angle Cloud\",\"CrypticCoin\",\"Bettex coin\",\"Actinium\",\"Bitcoin SV\",\"BitMoney\",\"Junson Ming Chan Coin\",\"FREDEnergy\",\"HerbCoin\",\"Universal Molecule\",\"Lithium\",\"PirateCash\",\"Exosis\",\"Block-Logic\",\"Oduwa\",\"Beam\",\"Galilel\",\"Bithereum\",\"Crypto Sports\",\"Credit\",\"SLICE\",\"Dash Platinum\",\"Nasdacoin\",\"Beetle Coin\",\"Titan Coin\",\"Award\",\"BLAST\",\"Bitcoin Rhodium\",\"GlobalToken\",\"Insane Coin\",\"ALAX\",\"LiteDoge\",\"SolarCoin\",\"TruckCoin\",\"UFO Coin\",\"OrangeCoin\",\"BlakeCoin\",\"BitstarCoin\",\"NeosCoin\",\"HyperCoin\",\"PinkCoin\",\"Crypto Escudo\",\"AudioCoin\",\"IncaKoin\",\"Piggy Coin\",\"Crown Coin\",\"Genstake\",\"SmileyCoin\",\"XiaoMiCoin\",\"Groestlcoin\",\"CapriCoin\",\" ClubCoin\",\"Radium\",\"Bata\",\"Pakcoin\",\"Creditbit \",\"OKCash\",\"Lisk\",\"HiCoin\",\"WhiteCoin\",\"FriendshipCoin\",\"JoinCoin\",\"Triangles Coin\",\"Vollar\",\"EOS\",\"Reality Clash\",\"Oxycoin\",\"TigerCash\",\"Waves\",\"Particl\",\"BitTorrent\",\"Nxt\",\"ZEPHYR\",\"Gapcoin\",\"Beldex\",\"Horizen\",\"BitcoinPlus\"],\"ProofType\":[\"PoW/PoS\",\"PoW/PoS\",\"PoW/PoS\",\"PoW\",\"PoW\",\"PoW\",\"PoW/PoS\",\"PoW\",\"PoW\",\"PoW\",\"PoS\",\"PoW\",\"PoW/PoS\",\"PoS\",\"PoW\",\"PoW/PoS\",\"PoW\",\"PoW\",\"PoW/PoS\",\"PoW/PoS\",\"PoW\",\"PoW\",\"PoW\",\"PoW\",\"PoW\",\"PoW/PoS\",\"PoW\",\"PoW\",\"PoW\",\"PoW/PoS\",\"PoW\",\"PoW/PoS\",\"PoW\",\"PoW\",\"PoC\",\"PoW/PoS\",\"PoW\",\"PoW\",\"PoW\",\"PoW\",\"PoW\",\"PoW\",\"PoS\",\"PoS/PoW/PoT\",\"PoW\",\"PoW\",\"PoW\",\"PoW\",\"PoW\",\"PoW/PoS\",\"PoS\",\"PoW\",\"PoW/PoS\",\"PoW\",\"PoW\",\"PoW\",\"PoW\",\"PoW/PoS\",\"PoW\",\"PoW\",\"PoS\",\"PoW\",\"PoW/PoS\",\"PoS\",\"PoW/PoS\",\"PoW\",\"PoW\",\"PoW\",\"PoW/PoS\",\"PoW/PoS\",\"PoW/PoS\",\"PoW/PoS\",\"PoW/PoS\",\"PoW\",\"PoW\",\"PoW\",\"PoS\",\"PoW/PoS\",\"PoW\",\"PoS\",\"PoW\",\"PoS\",\"PoW/PoS\",\"PoW\",\"PoW\",\"PoW\",\"PoW\",\"PoW/PoS\",\"PoW/PoS\",\"PoW\",\"PoST\",\"PoW\",\"PoW\",\"PoW/PoS\",\"PoS\",\"PoW\",\"PoW/PoS\",\"PoW/PoS\",\"PoW\",\"PoW\",\"PoC\",\"PoS\",\"PoW\",\"PoW/PoS\",\"PoW/PoS\",\"PoW\",\"PoS\",\"PoW\",\"PoW/PoS\",\"PoW\",\"PoS\",\"PoW\",\"PoW/PoS\",\"PoW/PoS\",\"PoW\",\"PoW\",\"PoS\",\"PoW\",\"PoW\",\"PoW\",\"PoW/PoS\",\"PoW\",\"PoW\",\"PoW\",\"PoW\",\"PoW\",\"PoW/PoS\",\"PoW/nPoS\",\"PoW\",\"PoW\",\"PoW\",\"PoW/PoS\",\"PoW\",\"PoS/PoW\",\"PoW\",\"PoW\",\"PoS\",\"PoW\",\"PoW/PoS\",\"PoW\",\"PoW/PoS\",\"PoW/PoS\",\"PoW\",\"PoW\",\"PoW/PoS\",\"PoW\",\"PoW\",\"PoW/PoS\",\"PoW/PoS\",\"PoW\",\"PoW/PoS\",\"PoW\",\"PoW/PoS\",\"PoW/PoS\",\"PoS\",\"PoW\",\"PoW\",\"PoW\",\"PoW\",\"PoW/PoS\",\"PoS\",\"PoW/PoS\",\"PoC\",\"PoS\",\"PoW\",\"PoW\",\"PoW/PoS\",\"PoW/PoS\",\"PoW/PoS\",\"PoW/PoS\",\"PoW/PoS\",\"PoW\",\"PoS\",\"PoW/PoS\",\"PoW/PoS\",\"PoW/PoS\",\"PoS\",\"PoW\",\"PoS\",\"dPoW/PoW\",\"PoW/PoS\",\"PoW/PoS\",\"PoW\",\"PoW/PoS\",\"PoW\",\"PoW/PoS\",\"PoW/PoS\",\"PoW\",\"PoW/PoS\",\"PoW\",\"PoS\",\"PoW\",\"PoW/PoW\",\"PoW\",\"PoW/PoS\",\"PoS\",\"PoW/PoS\",\"PoW/PoS\",\"PoW\",\"PoS\",\"PoS\",\"PoW/PoS\",\"PoS\",\"PoW/PoS\",\"PoW\",\"PoW\",\"DPoS\",\"PoW/PoS\",\"PoW\",\"PoW\",\"PoW/PoS\",\"PoW/PoS\",\"PoS\",\"PoW/PoS\",\"PoW/PoS\",\"PoW\",\"PoS\",\"PoW/PoS\",\"PoW/PoS\",\"PoW/PoS\",\"TPoS\",\"PoW/PoS\",\"PoW/PoS\",\"PoW/PoS\",\"PoW\",\"PoW/PoS\",\"PoS\",\"PoW/PoS\",\"PoW/PoS\",\"PoS\",\"PoW/PoS\",\"PoW\",\"PoW\",\"PoW\",\"PoW/PoS\",\"PoW/PoS\",\"PoW/PoS\",\"PoW/PoS\",\"PoW\",\"PoW/PoS\",\"PoW\",\"PoS\",\"PoW/PoS \",\"PoW\",\"PoS\",\"PoW\",\"PoW\",\"PoW/PoS\",\"PoW\",\"PoW\",\"PoS\",\"PoW\",\"PoW/PoS\",\"PoW/PoS\",\"PoW/PoS\",\"PoW\",\"PoS\",\"PoW/PoS\",\"PoW\",\"PoS\",\"PoW/PoS\",\"PoW/PoS\",\"PoW/PoS\",\"PoW/PoS\",\"PoS\",\"PoW/PoS\",\"PoW\",\"PoS\",\"PoW\",\"PoS\",\"PoW/PoS\",\"PoW/PoS\",\"PoS\",\"PoW\",\"PoS\",\"PoW\",\"PoW/PoS\",\"PoW\",\"PoW\",\"PoW\",\"PoW\",\"PoW/PoS\",\"PoW\",\"PoW/PoS\",\"PoW/PoS\",\"PoW\",\"PoW/PoS\",\"PoW\",\"PoW\",\"PoW\",\"PoW/PoS\",\"PoW\",\"PoW/PoS\",\"PoW\",\"PoW\",\"PoW\",\"PoS\",\"PoW\",\"PoW/PoS\",\"PoW\",\"PoW/PoS\",\"PoS\",\"Proof of Authority\",\"PoW\",\"PoS\",\"PoW\",\"PoW\",\"PoW\",\"PoW\",\"PoW\",\"PoW/PoS\",\"PoW/PoS\",\"PoW\",\"PoS\",\"PoS\",\"PoW/PoS\",\"PoW\",\"PoW/PoS\",\"PoW\",\"PoW/PoS\",\"PoW\",\"PoS\",\"PoW\",\"PoW/PoS\",\"PoW/PoS\",\"PoW/PoS\",\"PoW/PoS\",\"PoW\",\"PoW/PoS\",\"PoW/PoS\",\"PoW\",\"PoS\",\"PoW/PoS\",\"PoS\",\"PoW\",\"PoW\",\"PoW\",\"PoW\",\"PoW/PoS\",\"DPoS\",\"PoW/PoS\",\"PoW/PoS\",\"PoW\",\"PoW/PoS\",\"PoW\",\"PoW\",\"PoW\",\"PoS\",\"PoS\",\"PoW\",\"PoW\",\"PoW/PoS\",\"PoW/PoS\",\"PoW\",\"PoW/PoS\",\"PoW\",\"PoW\",\"PoW\",\"PoS\",\"PoW\",\"PoW\",\"PoW/PoS\",\"PoW/PoS\",\"PoS\",\"PoW\",\"PoW\",\"PoW\",\"PoS\",\"PoS\",\"PoW and PoS\",\"PoW\",\"PoW\",\"PoW/PoS\",\"PoW\",\"PoW\",\"PoW\",\"PoW\",\"PoS\",\"POBh\",\"PoW + Hive\",\"PoW\",\"PoW\",\"PoW\",\"PoW/PoS\",\"PoA\",\"PoW/PoS\",\"PoW/PoS\",\"PoS\",\"PoS\",\"PoW\",\"PoW\",\"PoW\",\"PoW\",\"PoW/PoS\",\"PoW/PoS\",\"PoW/PoS\",\"PoW\",\"PoS\",\"PoW\",\"PoS\",\"PoS\",\"PoW/PoS\",\"DPoS\",\"PoW\",\"PoW/PoS\",\"PoS\",\"PoW\",\"PoS\",\"PoW/PoS\",\"PoW\",\"PoW\",\"PoS/PoW\",\"PoW\",\"PoS\",\"PoW\",\"PoW\",\"PoW\",\"PoW\",\"PoW/PoS\",\"PoS\",\"PoW\",\"PoW/PoS\",\"PoW\",\"PoW/PoS\",\"PoS\",\"HPoW\",\"PoS\",\"PoS\",\"PoS\",\"PoW\",\"PoW\",\"PoW\",\"PoW/PoS\",\"PoS\",\"PoW/PoS\",\"PoS\",\"PoW/PoS\",\"PoS\",\"PoW\",\"PoW/PoS\",\"PoW\",\"PoW\",\"PoW\",\"PoW\",\"PoS\",\"PoW/PoS\",\"PoS\",\"PoS\",\"PoW\",\"PoW/PoS\",\"PoS\",\"PoW\",\"PoW/PoS\",\"Zero-Knowledge Proof\",\"PoW\",\"DPOS\",\"PoW\",\"PoS\",\"PoW\",\"PoW\",\"Pos\",\"PoS\",\"PoW\",\"PoW/PoS\",\"PoW\",\"PoW\",\"PoS\",\"PoW\",\"PoW\",\"PoW/PoS\",\"PoW\",\"PoW/PoS\",\"PoW\",\"PoS\",\"PoW/PoS\",\"PoW\",\"PoS\",\"PoW/PoS\",\"PoW/PoS\",\"PoW/PoS\",\"PoW/PoS\",\"PoW\",\"PoW\",\"PoW\",\"PoW/PoS\",\"DPoS\",\"PoW/PoS\",\"PoW\",\"PoW/PoS\",\"PoW\",\"PoW/PoS\",\"PoW\",\"PoW/PoS\",\"PoS\",\"PoW/PoS\",\"PoW/PoS\",\"PoW\",\"PoW/PoS\",\"PoW/PoS\",\"PoW/PoS\",\"PoW\",\"PoW/PoS\",\"PoW\",\"PoW/PoS\",\"PoW\",\"PoW/PoS\",\"PoW/PoS\",\"PoS\",\"PoW\",\"PoW\",\"Proof of Trust\",\"PoW/PoS\",\"DPoS\",\"PoS\",\"PoW/PoS\",\"PoW/PoS\",\"PoW\",\"PoW/PoS\",\"PoW\",\"DPoS\",\"PoW\",\"DPoS\",\"PoS\",\"LPoS\",\"PoS\",\"DPoS\",\"PoS/LPoS\",\"DPoS\",\"PoW/PoS\",\"PoW\",\"PoW\",\"PoS\"],\"TotalCoinSupply\":[\"42\",\"532000000\",\"314159265359\",\"21000000\",\"0\",\"84000000\",\"22000000\",\"0\",\"210000000\",\"21000000\",\"3600570502\",\"21000000000\",\"22000000\",\"12500000\",\"21000000\",\"350000000\",\"20000000\",\"64000000\",\"16768584\",\"0\",\"2000000000\",\"384000000000\",\"169795588\",\"250000000\",\"100000000\",\"0\",\"247000000\",\"84000000\",\"48166000\",\"500000\",\"21000000 \",\"1000000\",\"13140000\",\"18000000\",\"40000000000\",\"4380000\",\"16555000000\",\"21000000000\",\"13500000000\",\"21000000 \",\"299792458\",\"32000000\",\"0\",\"0\",\"11235813\",\"336000000\",\"1420609614\",\"70000000\",\"72245700\",\"120000000\",\"0\",\"90600000000\",\"22000000\",\"21000000\",\"265420800\",\"20000000\",\"1350000\",\"100000000\",\"42000000\",\"200000000\",\"0\",\"10000000\",\"2419200000\",\"16180000\",\"0\",\"15000000000\",\"21000000\",\"337000000\",\"0\",\"3770000\",\"420000000\",\"98000000\",\"0\",\"21000000\",\"250000000\",\"51200000\",\"0\",\"1000\",\"888000000\",\"100000000\",\"47011968\",\"2300000000\",\"10000000\",\"42000000\",\"80000000\",\"250000\",\"0\",\"1600000000\",\"100000000\",\"23000000\",\"0\",\"84000000\",\"265420800\",\"5500000\",\"0\",\"45000000\",\"0\",\"1000000000\",\"184467440735\",\"10000000000\",\"2158812800\",\"500000000\",\"105120000\",\"68000000\",\"0\",\"1680000000\",\"0\",\"166386000\",\"12000000\",\"2628000\",\"500000000\",\"160000000\",\"0\",\"10000000\",\"1000000000\",\"1000000000\",\"20000000\",\"0\",\"0\",\"3371337\",\"20000000\",\"10000000000\",\"1840000000\",\"619478\",\"21000000\",\"92000000000\",\"0\",\"78000000\",\"33000000\",\"65789100\",\"53760000\",\"5060000\",\"21000000\",\"0\",\"210240000\",\"250000000\",\"100000000\",\"16906397\",\"50000000\",\"0\",\"1000000000\",\"26298000\",\"16000000\",\"21000000\",\"21000000\",\"210000000\",\"81962100\",\"22000000\",\"26550000000\",\"84000000\",\"10500000\",\"21626280000 \",\"0\",\"42000000\",\"221052632\",\"84000000\",\"30000000\",\"168351300\",\"24000000\",\"384000000\",\" 99000000000\",\"40000000\",\"2147483647\",\"20000000\",\"20000000\",\"25000000\",\"75000000\",\"222725000\",\"525000000\",\"90000000\",\"139000000\",\"616448\",\"33500000\",\"2000000000\",\"44333333\",\"100000000\",\"200000000\",\"25000000\",\"657000000\",\"200000000\",\"50000000\",\"90000000\",\"10000000\",\"21000000\",\"9736000\",\"3000000\",\"21000000\",\"1200000000\",\"0\",\"200000000\",\"0\",\"10638298\",\"3100000000\",\"30000000\",\"20000000000\",\"74000000\",\"0\",\"1500000000\",\"21400000\",\"39999898\",\"2500124\",\"100000000\",\"301000000\",\"7506000000\",\"26205539\",\"21000000\",\"125000000\",\"30000000\",\"10000000000\",\"500000000\",\"850000000\",\"3853326.77707314\",\"50000000\",\"38540000 \",\"42000000\",\"228000000\",\"20000000\",\"60000000\",\"20000000\",\"33000000\",\"76500000\",\"28000000\",\"650659833\",\"5000000\",\"21000000\",\"144000000\",\"32514916898\",\"13000000\",\"3315789\",\"15000000\",\"78835200\",\"2714286\",\"25000000\",\"9999999\",\"500000000\",\"21000000\",\"9354000\",\"20000000\",\"100000000000\",\"21933333\",\"185000000\",\"55000000\",\"110000000\",\"3360000\",\"14524851.4827\",\"1000000000\",\"17000000\",\"1000000000\",\"100000000 \",\"21000000\",\"34426423\",\"2232901\",\"100000000\",\"36900000\",\"110000000\",\"4000000000\",\"110290030\",\"100000000\",\"48252000\",\"400000000\",\"500000000\",\"21212121\",\"28600000\",\"1000000000\",\"75000000000\",\"40000000\",\"35520400\",\"2000000000\",\"2500000000\",\"30000000\",\"105000000\",\"90000000000\",\"200084200\",\"72000000\",\"100000000\",\"105000000\",\"50000000000\",\"0\",\"340282367\",\"30000000\",\"2000000000\",\"10000000\",\"100000000\",\"120000000\",\"100000000\",\"19276800\",\"30000000\",\" 75000000\",\"60000000\",\"18900000\",\"50000000000\",\"54000000\",\"18898187.6216583\",\"21000000\",\"200000000000\",\"5000000000\",\"137500000\",\"1100000000\",\"100000000\",\"21000000\",\"9507271\",\"17405891.19707116\",\"86712634466\",\"10500000000\",\"61599965\",\"0\",\"20000000\",\"84000000\",\"100000000\",\"100000000\",\"48252000\",\"4200000\",\"88888888\",\"91388946\",\"45000000000\",\"27000000\",\"21000000000\",\"400000000\",\"1800000000\",\"15733333\",\"27000000\",\"24000000\",\"21000000\",\"25000000000\",\"100000000\",\"1200000000\",\"60000000\",\"156306732.71\",\"21000000\",\"200000000\",\"100000000\",\"21000000\",\"14788275.991\",\"9000000000\",\"350000000\",\"45000000\",\"280000000\",\"31800000\",\"144000000\",\"500000000\",\"30000000000\",\"210000000\",\"660000000\",\"210000000\",\"85000000000\",\"12500000\",\"10000000000\",\"27716121\",\"20000000\",\"550000000\",\"999481516\",\"50000000000\",\"150000000\",\"4999999999\",\"50000000\",\" 90000000000\",\"19800000\",\"21000000\",\"120000000\",\"500000000\",\"64000000\",\"900000000\",\"4000000\",\"21000000\",\"23000000\",\"20166000\",\"23000000\",\"25000000\",\"1618033\",\"30000000\",\"1000000000000\",\"16600000\",\"232000000\",\"336000000\",\"10000000000\",\"100000000\",\"1100000000\",\"800000000\",\"5200000000\",\"840000000\",\"40000000\",\"18406979840\",\"500000000\",\"19340594\",\"252460800\",\"25000000\",\"60000000\",\"124000000\",\"1000000000\",\"6500000000\",\"1000000000\",\"21000000\",\"25000000\",\"50000000\",\"3000000\",\"5000000\",\"70000000\",\"500000000\",\"300000000\",\"21000000\",\"88000000\",\"30000000\",\"100000000\",\"100000000\",\"200000000\",\"80000000\",\"18400000\",\"45000000\",\"5121951220\",\"21000000\",\"26280000\",\"21000000\",\"18000000\",\"26000000\",\"10500000\",\"600000518\",\"150000000\",\"184000000000\",\"10200000000\",\"44000000\",\"168000000\",\"100000000\",\"1000000000\",\"84000000\",\"90000000\",\"92000000000\",\"650000000 \",\"100262205\",\"18081806 \",\"22075700\",\"21000000\",\"21000000\",\"82546564\",\"21000000\",\"5151000\",\"16880000000\",\"52500000\",\"100000000\",\"22105263\",\"1000000000\",\"1750000000\",\"88188888\",\"210000000\",\"184470000000\",\"55000000\",\"50000000\",\"260000000\",\"210000000\",\"2100000000\",\"366000000\",\"100000000\",\"25000000\",\"18000000000\",\"1000000000\",\"100000000\",\"1000000000\",\"7600000000\",\"50000000\",\"84000000\",\"21000000\",\"70000000000\",\"0\",\"8080000000\",\"54000000\",\"105120001.44\",\"25228800\",\"105000000\",\"21000000\",\"120000000\",\"21000000\",\"262800000\",\"19035999\",\"30886000\",\"13370000\",\"74800000000\",\"100000000\",\"19700000\",\"84000000\",\"500000000\",\"5000000000\",\"420000000\",\"64000000\",\"2100000\",\"168000000\",\"30000000\",\"1000000000\",\"35000000000\",\"98100000000\",\"0\",\"4000000000\",\"200000000\",\"7000000000\",\"54256119\",\"21000000\",\"0\",\"500000000\",\"1000000000\",\"10500000000\",\"190000000\",\"1000000000\",\"42000000\",\"15000000\",\"50000000000\",\"400000000\",\"105000000\",\"208000000\",\"160000000\",\"9000000\",\"5000000\",\"182000000\",\"16504333\",\"105000000\",\"159918400\",\"10008835635\",\"300000000\",\"60168145\",\"2800000\",\"120000\",\"2100000000\",\"0\",\"24487944\",\"0\",\"1000000000\",\"100000000\",\"8634140\",\"990000000000\",\"1000000000\",\"2000000000\",\"250000000\",\"1400222610\",\"21000000\",\"1000000\"],\"TotalCoinsMined\":{\"__ndarray__\":\"E66yfP7/REC4HgUDbHLPQcQCukHCRBtCAAAAcMAYcUHb+b76hayZQfdoZlo4D45BczEFzM85YUFmkFFyf2dwQQAAAFztBptBAAAAEAQqXEEAAAA6IW3kQQAAKLzoPgVCAAAAAJ6qM0Epu0/cGOFmQQAAAIAdAVZBuzNpefhbeEFogey/NERlQRASPW7cR2dB+ijjv4NLcUEAAABO5u/CQQAAgMotKNlBAAAAAAAAVkCRe4LLOUqkQWlwu1zuvZ5B7FG4slgRXEES3YNEKFedQbxc1FkO8a5BjF0hSWmgh0FQLIHFyuR/Qc7ixUJvyuRAZlhcKb2KW0HCR4pNGbYvQdDqKuGh8VFBQQ4rjd4PU0GutucKX6AiQqBfqd8TNklB/fZoycqrDUIAAHBTCXwRQnSTloARWwdCS2bm7Bjxc0He//+wcBeqQbTI9iT1l3JBAAAAQJaqVUHBNFQR94a7QaQ8LSbMbzFBMPUDShPgqEEAAAA1WFnKQQFaxIOwUI9BD/H/v0jdg0EMI73Wa0iVQftcscYLA9lBo6E6fO0XNUJq65YfTtVwQW3n+0/EHHRBmpmZw9ANokHNzEzyVm5yQeu2uDrY2TBBAAAAaLVMjUFC3vH/OTGCQTMzM4eHR4NB0/wVEd7UE0K3KNQ4KyRWQdb//9BLDNhBAAAAAGTcbkFGZKnBRYOPQWh5ONDpoOFBAAAAAIIbbEHurnvnQfOzQWC5lIqR6GxBEqW9I0SSSEECRgfUkYuqQQAAgKodopFB7loEOWBNG0KzdfRrHdkwQZqZmdvoF3dBqQYrknhoeEEnrP5t5i2IQQAAAAAAZJJASWWmrurJwEEmvO6+tSKTQQAAAACNwoRBsaedNq8s2EHonwEAK9k1QQAAAEB233VBAAAAAINhQUF75AdVfoYIQQAAAAAObDJBZmYm5Ctg0EHqsCJZOvSHQfL/r8ISFHZBBWSeRqeJfkHHd4jeymaIQQAAAHQ6hJxBqj02xuuDWkEAAAAAhNeXQWWO5dqisIJBhvyY1oWPf0HN5/S7TaShQQAAB3WebUVCcSCmnaK6+UEAAADwLATbQQAAAMC4ZohBcBN8y0VCkEEAAADwmKeCQQAAADhjXYlBAAAAZOS8uEGF80Sm1ux5QeDz06y0ZKBBm6kQ40DcPkGTMePy+TQGQRqL3sPG0aRB26a4ke4mokEAAAAAwWU2QQAAAICAEltBAAAAUZSex0EAAABPt3DFQQAAAACKhURBAAAAsGYMj0EAAABAGUhYQclLLY4xV2NBAAAAQF4iZkFxPQ5ywyzxQQAAAMx5HcVBAAAAAKznIkEAAACAQ8VnQQAAAABQifVAAAAAAOgYN0EAAAAgqFqOQbTMIm2Yun5BAAAAQFI2akFuowEAyCBsQb/Mf8ucV2BBAAAAsANCbkFIisgQwBcUQQAAAECDDn9BAAAAkCQHkkEAAAAAhNeXQQAAAMClBGRBAAAAwKL5dUEAAEizP9MeQnMvcJZSiIRBdN9gjbfOaUEAAADg5UNuQXci101WBnRBZImz3Q7FY0EAAAAAsQipQQAAAKBO1mVB0TYn7F3/S0EAAJj8c3sEQgAAABB1ppBBAAAAgM2QU0EAAGSVNj8UQs9mP8p8wQJCZta35+opYUEAAACQC02DQQAAAKChgoVBAAAAAGjAVUEVe6IeXWwjQQAAALCvdnBBh9M4uazZY0FWnZ2VUDchQsSzAmd+slBBAADA////30EAAAAA0BJzQfWeCOrNEFlBACv2TwgLakHGaE16SgqgQQAAAAAFPjJBAAAAgCTIb0EAAACMaOWTQWZvBMgIQndBAAAAAADQIkH8k1OFq2aCQZ+vSflmO8hBAAAAAD1EUUEAAAAAhNeXQQAAAADQElNBAAAAAH0GNUEAAAAgg5TDQQAAAEzcoZtBAAAAIIyvbUEAAADgOZWEQSqHXC4Y111BAAAAAMorIkEAAAAAgNFXQXUZ5bDIESRBAAAAAOmyQ0EAAAAAZc3NQQAAAACxmT1BAAAAsKrbm0EAAAAwvTekQQAAAECjXmFBAACA3BLTw0EAAAAATDVlQQAA7E21OxJCKwwuO6qmkUEAAADQUPh/Qd7Fk3RYja9BUc34T+beXEEAAAAgerqhQQAAAAAOE0NBAAAAAITXl0F4eqWiQ/5wQW1b4nIfINBBAAAAMNb9eEEAAACA+2lVQQAAAJAhzJlBAAAA0Dl+cUEAAADmiWanQQAAAACfjshBAADD1R53NUL1IXdjB2ZNQQAAAACE14dBAAAAAERMcEGnlim1VLBCQQAAAGjSQo1BAAAAANASc0H6EPGEOidXQQAAAEDFrmdBAWxAemNOc0EAAACEqwWSQW8KEEyCImVBAAAAQE7RZEEAAAAAntwoQQAAAADC2S1BAAAAQIT1X0G1VTeErn0fQgAAAIArf0pBAAAAgCZMSUG3QKeXoQ9kQQAAAGDS03xBAAAAAJRIK0EAAAAA5NhhQeiBj3GyoDxBAAAAwOvadkGII9U8v0VDQawzRD12llVBAAAAAFSMZkEAAAAd2QDAQQAAAABMzxJBBwq80BzsZEGMg2z7OkxGQQAAAADeOZpBAAAAAH3ER0FFR3JvNrRrQQAAAEBY+nxBHHiWeW1nWkEAAAAAZc3NQaJtQ0H1zZdBAAAA2MWvcUEAAADorTCBQQAAAIAiCUFBTeW+oh8baUEhj6B9UD1nQd7hZs9XYJpBAAAAoDmQjkEEVo5zMX+aQcubKKA6hnRBAAAAAPhOY0EAAABZNO23QTtUk67eAZ1BAAAAgBl7VEEAAAAApIUxQQAAAACAhB5BAAAARNP4l0EAAABgO2BwQYwpWDI4VnNBCaRc6miXsUEAAADLzqLTQWBHLT+iuWVBAAAAwIpedEEAAMDR7u4iQgAAACBZumNBckLXzXcUakEAAAAAhNeXQWUIVsOfdZBBAADce2Q8FUKonWsKIt5yQQAAAKTUxJ9BkdtqsfWNcUEAAMDBkfbaQQAAAAA7009BAAAA+GzBgEEAAADYWwOOQQAAAIDi9FlBAAAAsAxLcUEAAADAZ0h0QQAAAMCntlNBIBX6xf/VeEEAAAAA0wJEQX/w+Yv12ABCAAAAYPECa0Ga3cmg1eZ0QZKakZIo+nBBAABOq2v7QkJLH6e/YrLgQQAAAHgivplByhiP2VEznUGRw9HTzpGGQWq8WVp0KXFBI1gm0VX5Z0Hya5UVeMxxQQAAoDO40ilCAAAAAHidHUEAAAAAgIROQe/X1k3upUBCAAAAQE2CYkFw2XdWK6VwQQkyArFkIn9BAAAAcMkTgEEAAABAaKJyQQAAAACQBVBBAAAAoHsQYUEAAAAAhNd3QQAAKM1+JRhCzr66gjC0W0EDPqDeH2rzQQAAAICuxaVBy0qbvkkj5EGLprPq/mcxQVF7mcmnyE9BAAAAAGDjdkH5hGyRy2dwQQAAjLzRkCZCAAAAwFXylUEAAAAKwrTAQdlvVtQbr19BAAAAIM00gEEAAAAAnGZAQYpweOjvSX1BJ0/5xefWl0Hg88PJ5oRnQcl2vh+GNW9BAACwz4jDAEIAAADmKeOkQSlcj8LWUVhBAAAA4LFUaEEAAAC4nD9WQY52rBbqNoJBYW9+x+krsUEAAACS4nIaQsmUx5ED4aVB6fCQBqC2vEHPayxFf3WaQTj4lfsk9RFCAAAAAIgqUUEAAACELQy/Qb7tLlxZRGlBqtpuTpcrcEEAAAC8HCaTQRKDYLnxTLpBXI/WvvhL8kHLoUVKCQ9gQUjhGyQdie1BBOfcMG6KhUFZF6rN7wUcQv52QCDsIVBBqQRZVX7vXUEAAAAA9gh6QQAAAMGN3rFBm/K3SiGwhUEAAABOJZ3BQQndJR2TG0NBAAAAAPXPUEFs0d4KsytgQQAAAABXO3NBRN0Hg6W6ZkFWAY1Yqn9zQQAAAABxsDhB6KPo0IXtYUE9ipsSw74oQiP3U79oYVJB4XaQc/D+q0HFrxjPlu6fQQAAACBfoAJCJXMcSJ2WmUHVIcXjxS/DQQAAAFoqdKtB8dd4J/5n2kGWsBp+eAbDQRXGFoAyvWdBAACoqNr9CkJPPwDNSjCpQURLA8bRdWVBAAAAfjRgqEHNzMyMCYpAQVK4HoUtlxlBWiYo0q1ieEEAAIC4lGXDQQAAAEqIhK1BdXWf684Vk0GYUBwTog1PQQAAAACE13dBGcIW1FlMakEZtn+gi84pQQAAAIDJCTJBAAAAVDEDkUEAAKAYR92vQYN0bFrtEnpBfQaUa/WyYkFNBaat9tx0Qeux5ct22GJBAAAAACvJMkGJEf1SB1R+QXJuA5mDqKBBTNr5wtYfZUEAAAAAvIxuQQAAAACWzFBB5nRdlm/s1EGTQQkk4hd0QURRfW02clNBjX70YrDMZEEAAAAAbkYoQbN2u8vzdIJBBFMT7aemWkEAAAAAwJT0QAAAAAAuRHJBAACivbA6I0IAAAAwvf8CQkhQ/AAsG11Bg20UIDEyoEGcs497yrJ/QSXLM+AdscBB78nDukaZdEHP8+dFmuF8QVnmi1WJITJC6NT8eTS5REEY0gHIAZGLQQAAAIAfWnFBpq1XQWr/XkE4UF7FY31gQaKloawBDFNBrPn2hDebgUFNI9YPZgRbQasgKXHAlFZBluWQ57jML0GotR8+EW5pQSFAAa03f49BSGTlENedNUEZ8ryfJp1UQddG4emEt21BAAAAQESoUkFpyxQjRSBsQV3NAOrTLTdCcT0KX3hgckEXDZ5fe1h9Qf+yq29isZlBB1Ybc0PKYUEAAABA3UrfQXtmCXYA01FBAAAAwA8vUUHawOFXUiJTQRiaN9DOls9BAAAAAGXNzUFRV68zk5piQQAAAABlzc1BAAAAitWN70FyYIdLU+RZQQAAAECkAWpBP8xZKrQocUFhFLwwZtuoQXBOQWIqBxBCkCxSxj/S20GEJfPNkdaAQZO4O1ApFThBx93xJ6g5bkEAAAAACrRpQTMzM7MvyRhBzT1kaTfTgEEdRpysmS9sQQAAAABjBIFBoET6MztrcUEAAAA4VPx3QfT+3KxthT1BTx7ABmy1HEKNuYbNa6doQdWNf+IW1yVBJsJLAz6Yc0FvD7pAHLenQQAAAGixtspBrfE+UWlpbUHNuQVlhu+IQQAAAIB02zFB0v7/r18slEE4zCGFrax2QQAAAABlzc1B5x1IVZ2IDEL7Pxej2H6KQSibcjLG6qxBAACA+gF/7EEAAAAAf/xKQUgFZGJXRnZBAAAAQJGfc0FeS8aPUMFQQW94x/+7XmJBF4V9WDoCukEAAAAGiUDHQR9ofThlOs1BBFbV6ym1EEJuUAeag3W9QUrmXREL7HVBAAAAADicjEFprytpX40bQpijizthGbhBuqmMb8R5kUGs4drOJgGoQa4Pq9CTtJhBBonp3l4nTUGfQd76IkZTQZk6wZ0znZBBDFuTijkecEEqosuD3c2RQQAAALD1nJxBApot/nygAkKKmGJ4mQquQaD9SAGBGDFBAAAAQJ1tSUGoOuQGTi8BQQAAAACE15dB2T2JBSNqzkH4eoiBgFp3QRSu13KMudBBAAAAAGXNzUEAAAAAhNeXQdmqyTHItGFBxfR7nv3PbEIAAAAAZc3NQfOO0/5kzd1BlPryxIx6bEEAAIBBgTbNQQAAAGCG1VtBR9gB8W9U/0A=\",\"dtype\":\"float64\",\"order\":\"little\",\"shape\":[532]}},\"selected\":{\"id\":\"1307\"},\"selection_policy\":{\"id\":\"1341\"}},\"id\":\"1306\",\"type\":\"ColumnDataSource\"},{\"attributes\":{\"format\":\"0,0.0[00000]\"},\"id\":\"1328\",\"type\":\"NumberFormatter\"},{\"attributes\":{},\"id\":\"1318\",\"type\":\"StringFormatter\"},{\"attributes\":{\"columns\":[{\"id\":\"1310\"},{\"id\":\"1315\"},{\"id\":\"1320\"},{\"id\":\"1325\"},{\"id\":\"1330\"},{\"id\":\"1335\"}],\"height\":300,\"reorderable\":false,\"source\":{\"id\":\"1306\"},\"view\":{\"id\":\"1339\"},\"width\":700},\"id\":\"1338\",\"type\":\"DataTable\"},{\"attributes\":{},\"id\":\"1309\",\"type\":\"StringEditor\"},{\"attributes\":{},\"id\":\"1333\",\"type\":\"NumberFormatter\"},{\"attributes\":{},\"id\":\"1313\",\"type\":\"StringFormatter\"},{\"attributes\":{},\"id\":\"1329\",\"type\":\"NumberEditor\"},{\"attributes\":{},\"id\":\"1308\",\"type\":\"StringFormatter\"},{\"attributes\":{},\"id\":\"1319\",\"type\":\"StringEditor\"},{\"attributes\":{},\"id\":\"1334\",\"type\":\"IntEditor\"},{\"attributes\":{\"source\":{\"id\":\"1306\"}},\"id\":\"1339\",\"type\":\"CDSView\"}],\"root_ids\":[\"1304\"]},\"title\":\"Bokeh Application\",\"version\":\"2.1.1\"}};\n",
       "  var render_items = [{\"docid\":\"18a5840e-dd0f-487d-a7df-218abf50f82d\",\"root_ids\":[\"1304\"],\"roots\":{\"1304\":\"0b9b57b5-4905-417e-b79e-de458d64f6a0\"}}];\n",
       "  root.Bokeh.embed.embed_items_notebook(docs_json, render_items);\n",
       "  }\n",
       "if (root.Bokeh !== undefined) {\n",
       "    embed_document(root);\n",
       "  } else {\n",
       "    var attempts = 0;\n",
       "    var timer = setInterval(function(root) {\n",
       "      if (root.Bokeh !== undefined) {\n",
       "        clearInterval(timer);\n",
       "        embed_document(root);\n",
       "      } else if (document.readyState == \"complete\") {\n",
       "        attempts++;\n",
       "        if (attempts > 100) {\n",
       "          clearInterval(timer);\n",
       "          console.log(\"Bokeh: ERROR: Unable to run BokehJS code because BokehJS library is missing\");\n",
       "        }\n",
       "      }\n",
       "    }, 10, root)\n",
       "  }\n",
       "})(window);</script>"
      ],
      "text/plain": [
       ":Table   [CoinName,Algorithm,ProofType,TotalCoinSupply,TotalCoinsMined,Class]"
      ]
     },
     "execution_count": 182,
     "metadata": {
      "application/vnd.holoviews_exec.v0+json": {
       "id": "1304"
      }
     },
     "output_type": "execute_result"
    }
   ],
   "source": [
    "# Create a table with tradable cryptocurrencies.\n",
    "table = clustered_df.hvplot.table(columns=['CoinName', 'Algorithm', 'ProofType','TotalCoinSupply','TotalCoinsMined', 'Class'])\n",
    "table"
   ]
  },
  {
   "cell_type": "code",
   "execution_count": 187,
   "metadata": {},
   "outputs": [
    {
     "name": "stdout",
     "output_type": "stream",
     "text": [
      "There are 532 tradable cryptocurrencies.\n"
     ]
    }
   ],
   "source": [
    "# Print the total number of tradable cryptocurrencies.\n",
    "currency_cnt = clustered_df.shape[0]\n",
    "print(f'There are {currency_cnt} tradable cryptocurrencies.')"
   ]
  },
  {
   "cell_type": "code",
   "execution_count": 191,
   "metadata": {},
   "outputs": [
    {
     "data": {
      "text/plain": [
       "array([[4.20000000e-11, 0.00000000e+00],\n",
       "       [5.32000000e-04, 1.06585544e-03],\n",
       "       [3.14159265e-01, 2.95755135e-02],\n",
       "       ...,\n",
       "       [1.40022261e-03, 9.90135079e-04],\n",
       "       [2.10000000e-05, 7.37028150e-06],\n",
       "       [1.00000000e-06, 1.29582282e-07]])"
      ]
     },
     "execution_count": 191,
     "metadata": {},
     "output_type": "execute_result"
    }
   ],
   "source": [
    "# Scaling data to create the scatter plot with tradable cryptocurrencies.\n",
    "minmax_scaled = MinMaxScaler(feature_range=(0,1)).fit_transform(X=clustered_df[['TotalCoinSupply','TotalCoinsMined']])\n",
    "minmax_scaled"
   ]
  },
  {
   "cell_type": "code",
   "execution_count": 197,
   "metadata": {},
   "outputs": [
    {
     "data": {
      "text/html": [
       "<div>\n",
       "<style scoped>\n",
       "    .dataframe tbody tr th:only-of-type {\n",
       "        vertical-align: middle;\n",
       "    }\n",
       "\n",
       "    .dataframe tbody tr th {\n",
       "        vertical-align: top;\n",
       "    }\n",
       "\n",
       "    .dataframe thead th {\n",
       "        text-align: right;\n",
       "    }\n",
       "</style>\n",
       "<table border=\"1\" class=\"dataframe\">\n",
       "  <thead>\n",
       "    <tr style=\"text-align: right;\">\n",
       "      <th></th>\n",
       "      <th>TotalCoinSupply</th>\n",
       "      <th>TotalCoinsMined</th>\n",
       "      <th>CoinName</th>\n",
       "      <th>Class</th>\n",
       "    </tr>\n",
       "    <tr>\n",
       "      <th></th>\n",
       "      <th></th>\n",
       "      <th></th>\n",
       "      <th></th>\n",
       "      <th></th>\n",
       "    </tr>\n",
       "  </thead>\n",
       "  <tbody>\n",
       "    <tr>\n",
       "      <th>42</th>\n",
       "      <td>4.200000e-11</td>\n",
       "      <td>0.000000</td>\n",
       "      <td>42 Coin</td>\n",
       "      <td>1</td>\n",
       "    </tr>\n",
       "    <tr>\n",
       "      <th>404</th>\n",
       "      <td>5.320000e-04</td>\n",
       "      <td>0.001066</td>\n",
       "      <td>404Coin</td>\n",
       "      <td>1</td>\n",
       "    </tr>\n",
       "    <tr>\n",
       "      <th>1337</th>\n",
       "      <td>3.141593e-01</td>\n",
       "      <td>0.029576</td>\n",
       "      <td>EliteCoin</td>\n",
       "      <td>1</td>\n",
       "    </tr>\n",
       "    <tr>\n",
       "      <th>BTC</th>\n",
       "      <td>2.100000e-05</td>\n",
       "      <td>0.000018</td>\n",
       "      <td>Bitcoin</td>\n",
       "      <td>0</td>\n",
       "    </tr>\n",
       "    <tr>\n",
       "      <th>ETH</th>\n",
       "      <td>0.000000e+00</td>\n",
       "      <td>0.000109</td>\n",
       "      <td>Ethereum</td>\n",
       "      <td>0</td>\n",
       "    </tr>\n",
       "    <tr>\n",
       "      <th>LTC</th>\n",
       "      <td>8.400000e-05</td>\n",
       "      <td>0.000064</td>\n",
       "      <td>Litecoin</td>\n",
       "      <td>0</td>\n",
       "    </tr>\n",
       "    <tr>\n",
       "      <th>DASH</th>\n",
       "      <td>2.200000e-05</td>\n",
       "      <td>0.000009</td>\n",
       "      <td>Dash</td>\n",
       "      <td>1</td>\n",
       "    </tr>\n",
       "    <tr>\n",
       "      <th>XMR</th>\n",
       "      <td>0.000000e+00</td>\n",
       "      <td>0.000017</td>\n",
       "      <td>Monero</td>\n",
       "      <td>0</td>\n",
       "    </tr>\n",
       "    <tr>\n",
       "      <th>ETC</th>\n",
       "      <td>2.100000e-04</td>\n",
       "      <td>0.000115</td>\n",
       "      <td>Ethereum Classic</td>\n",
       "      <td>0</td>\n",
       "    </tr>\n",
       "    <tr>\n",
       "      <th>ZEC</th>\n",
       "      <td>2.100000e-05</td>\n",
       "      <td>0.000007</td>\n",
       "      <td>ZCash</td>\n",
       "      <td>0</td>\n",
       "    </tr>\n",
       "  </tbody>\n",
       "</table>\n",
       "</div>"
      ],
      "text/plain": [
       "      TotalCoinSupply  TotalCoinsMined          CoinName  Class\n",
       "                                                               \n",
       "42       4.200000e-11         0.000000           42 Coin      1\n",
       "404      5.320000e-04         0.001066           404Coin      1\n",
       "1337     3.141593e-01         0.029576         EliteCoin      1\n",
       "BTC      2.100000e-05         0.000018           Bitcoin      0\n",
       "ETH      0.000000e+00         0.000109          Ethereum      0\n",
       "LTC      8.400000e-05         0.000064          Litecoin      0\n",
       "DASH     2.200000e-05         0.000009              Dash      1\n",
       "XMR      0.000000e+00         0.000017            Monero      0\n",
       "ETC      2.100000e-04         0.000115  Ethereum Classic      0\n",
       "ZEC      2.100000e-05         0.000007             ZCash      0"
      ]
     },
     "execution_count": 197,
     "metadata": {},
     "output_type": "execute_result"
    }
   ],
   "source": [
    "# Create a new DataFrame that has the scaled data with the clustered_df DataFrame index.\n",
    "plot_df = pd.DataFrame(minmax_scaled, columns=['TotalCoinSupply', 'TotalCoinsMined'], index=crypto_df.index.copy())\n",
    "\n",
    "# Add the \"CoinName\" column from the clustered_df DataFrame to the new DataFrame.\n",
    "plot_df['CoinName'] = crypto_names_df['CoinName']\n",
    "\n",
    "# Add the \"Class\" column from the clustered_df DataFrame to the new DataFrame. \n",
    "plot_df['Class'] = clustered_df['Class']\n",
    "\n",
    "plot_df.head(10)"
   ]
  },
  {
   "cell_type": "code",
   "execution_count": 203,
   "metadata": {},
   "outputs": [
    {
     "data": {},
     "metadata": {},
     "output_type": "display_data"
    },
    {
     "data": {
      "application/vnd.holoviews_exec.v0+json": "",
      "text/html": [
       "<div id='2319'>\n",
       "\n",
       "\n",
       "\n",
       "\n",
       "\n",
       "  <div class=\"bk-root\" id=\"aa6c8c2c-7b7e-4e0e-88a4-4a33a74f8cfe\" data-root-id=\"2319\"></div>\n",
       "</div>\n",
       "<script type=\"application/javascript\">(function(root) {\n",
       "  function embed_document(root) {\n",
       "  var docs_json = {\"eb2b3deb-0452-484c-8d5a-ead44d1390ce\":{\"roots\":{\"references\":[{\"attributes\":{},\"id\":\"2348\",\"type\":\"ResetTool\"},{\"attributes\":{\"source\":{\"id\":\"2379\"}},\"id\":\"2386\",\"type\":\"CDSView\"},{\"attributes\":{\"data_source\":{\"id\":\"2361\"},\"glyph\":{\"id\":\"2364\"},\"hover_glyph\":null,\"muted_glyph\":{\"id\":\"2366\"},\"nonselection_glyph\":{\"id\":\"2365\"},\"selection_glyph\":null,\"view\":{\"id\":\"2368\"}},\"id\":\"2367\",\"type\":\"GlyphRenderer\"},{\"attributes\":{},\"id\":\"2337\",\"type\":\"BasicTicker\"},{\"attributes\":{\"fill_alpha\":{\"value\":0.2},\"fill_color\":{\"value\":\"#d62628\"},\"line_alpha\":{\"value\":0.2},\"line_color\":{\"value\":\"#d62628\"},\"size\":{\"units\":\"screen\",\"value\":5.477225575051661},\"x\":{\"field\":\"TotalCoinsMined\"},\"y\":{\"field\":\"TotalCoinSupply\"}},\"id\":\"2424\",\"type\":\"Scatter\"},{\"attributes\":{},\"id\":\"2395\",\"type\":\"UnionRenderers\"},{\"attributes\":{\"axis\":{\"id\":\"2340\"},\"dimension\":1,\"grid_line_color\":null,\"ticker\":null},\"id\":\"2343\",\"type\":\"Grid\"},{\"attributes\":{},\"id\":\"2420\",\"type\":\"Selection\"},{\"attributes\":{\"axis_label\":\"TotalCoinsMined\",\"bounds\":\"auto\",\"formatter\":{\"id\":\"2357\"},\"major_label_orientation\":\"horizontal\",\"ticker\":{\"id\":\"2337\"}},\"id\":\"2336\",\"type\":\"LinearAxis\"},{\"attributes\":{\"fill_color\":{\"value\":\"#2ba02b\"},\"line_color\":{\"value\":\"#2ba02b\"},\"size\":{\"units\":\"screen\",\"value\":5.477225575051661},\"x\":{\"field\":\"TotalCoinsMined\"},\"y\":{\"field\":\"TotalCoinSupply\"}},\"id\":\"2401\",\"type\":\"Scatter\"},{\"attributes\":{\"label\":{\"value\":\"1\"},\"renderers\":[{\"id\":\"2385\"}]},\"id\":\"2397\",\"type\":\"LegendItem\"},{\"attributes\":{\"label\":{\"value\":\"3\"},\"renderers\":[{\"id\":\"2425\"}]},\"id\":\"2441\",\"type\":\"LegendItem\"},{\"attributes\":{\"fill_alpha\":{\"value\":0.1},\"fill_color\":{\"value\":\"#ff7e0e\"},\"line_alpha\":{\"value\":0.1},\"line_color\":{\"value\":\"#ff7e0e\"},\"size\":{\"units\":\"screen\",\"value\":5.477225575051661},\"x\":{\"field\":\"TotalCoinsMined\"},\"y\":{\"field\":\"TotalCoinSupply\"}},\"id\":\"2383\",\"type\":\"Scatter\"},{\"attributes\":{\"data_source\":{\"id\":\"2419\"},\"glyph\":{\"id\":\"2422\"},\"hover_glyph\":null,\"muted_glyph\":{\"id\":\"2424\"},\"nonselection_glyph\":{\"id\":\"2423\"},\"selection_glyph\":null,\"view\":{\"id\":\"2426\"}},\"id\":\"2425\",\"type\":\"GlyphRenderer\"},{\"attributes\":{},\"id\":\"2362\",\"type\":\"Selection\"},{\"attributes\":{\"axis\":{\"id\":\"2336\"},\"grid_line_color\":null,\"ticker\":null},\"id\":\"2339\",\"type\":\"Grid\"},{\"attributes\":{\"margin\":[5,5,5,5],\"name\":\"HSpacer04679\",\"sizing_mode\":\"stretch_width\"},\"id\":\"2568\",\"type\":\"Spacer\"},{\"attributes\":{\"click_policy\":\"mute\",\"items\":[{\"id\":\"2378\"},{\"id\":\"2397\"},{\"id\":\"2418\"},{\"id\":\"2441\"}],\"location\":[0,0],\"title\":\"Class\"},\"id\":\"2377\",\"type\":\"Legend\"},{\"attributes\":{\"source\":{\"id\":\"2419\"}},\"id\":\"2426\",\"type\":\"CDSView\"},{\"attributes\":{\"end\":1.1,\"reset_end\":1.1,\"reset_start\":-0.1,\"start\":-0.1,\"tags\":[[[\"TotalCoinSupply\",\"TotalCoinSupply\",null]]]},\"id\":\"2322\",\"type\":\"Range1d\"},{\"attributes\":{\"data\":{\"Class\":[1,1,1,1,1,1,1,1,1,1,1,1,1,1,1,1,1,1,1,1,1,1,1,1,1,1,1,1,1,1,1,1,1,1,1,1,1,1,1,1,1,1,1,1,1,1,1,1,1,1,1,1,1,1,1,1,1,1,1,1,1,1,1,1,1,1,1,1,1,1,1,1,1,1,1,1,1,1,1,1,1,1,1,1,1,1,1,1,1,1,1,1,1,1,1,1,1,1,1,1,1,1,1,1,1,1,1,1,1,1,1,1,1,1,1,1,1,1,1,1,1,1,1,1,1,1,1,1,1,1,1,1,1,1,1,1,1,1,1,1,1,1,1,1,1,1,1,1,1,1,1,1,1,1,1,1,1,1,1,1,1,1,1,1,1,1,1,1,1,1,1,1,1,1,1,1,1,1,1,1,1,1,1,1,1,1,1,1,1,1,1,1,1,1,1,1,1,1,1,1,1,1,1,1,1,1,1,1,1,1,1,1,1,1,1,1,1,1,1,1,1,1,1,1,1,1,1,1,1,1,1,1,1,1,1,1,1,1,1,1,1,1,1,1,1,1,1,1,1,1,1,1,1,1,1,1,1,1,1,1,1,1,1,1,1,1,1,1,1,1,1,1,1,1,1,1,1,1,1,1,1,1,1,1,1,1],\"CoinName\":[\"42 Coin\",\"404Coin\",\"EliteCoin\",\"Dash\",\"Bitshares\",\"BitcoinDark\",\"PayCoin\",\"KoboCoin\",\"Aurora Coin\",\"BlueCoin\",\"EnergyCoin\",\"BitBar\",\"CryptoBullion\",\"CasinoCoin\",\"Diamond\",\"Exclusive Coin\",\"FlutterCoin\",\"HoboNickels\",\"HyperStake\",\"IOCoin\",\"MaxCoin\",\"MintCoin\",\"MazaCoin\",\"Nautilus Coin\",\"NavCoin\",\"OpalCoin\",\"Orbitcoin\",\"PotCoin\",\"PhoenixCoin\",\"Reddcoin\",\"SuperCoin\",\"SyncCoin\",\"TeslaCoin\",\"TittieCoin\",\"TorCoin\",\"UnitaryStatus Dollar\",\"UltraCoin\",\"VeriCoin\",\"X11 Coin\",\"Crypti\",\"StealthCoin\",\"ZCC Coin\",\"BurstCoin\",\"StorjCoin\",\"Neutron\",\"FairCoin\",\"RubyCoin\",\"Kore\",\"Dnotes\",\"8BIT Coin\",\"Sativa Coin\",\"Ucoin\",\"Vtorrent\",\"IslaCoin\",\"Droidz\",\"Squall Coin\",\"Diggits\",\"Paycon\",\"Emercoin\",\"EverGreenCoin\",\"Decred\",\"EDRCoin\",\"Hitcoin\",\"DubaiCoin\",\"PWR Coin\",\"BillaryCoin\",\"GPU Coin\",\"EuropeCoin\",\"ZeitCoin\",\"SwingCoin\",\"SafeExchangeCoin\",\"Nebuchadnezzar\",\"Ratecoin\",\"Revenu\",\"Clockcoin\",\"VIP Tokens\",\"BitSend\",\"Let it Ride\",\"PutinCoin\",\"iBankCoin\",\"Frankywillcoin\",\"MudraCoin\",\"Lutetium Coin\",\"GoldBlocks\",\"CarterCoin\",\"BitTokens\",\"MustangCoin\",\"ZoneCoin\",\"RootCoin\",\"BitCurrency\",\"Swiscoin\",\"BuzzCoin\",\"Opair\",\"PesoBit\",\"Halloween Coin\",\"CoffeeCoin\",\"RoyalCoin\",\"GanjaCoin V2\",\"TeamUP\",\"LanaCoin\",\"ARK\",\"InsaneCoin\",\"EmberCoin\",\"XenixCoin\",\"FreeCoin\",\"PLNCoin\",\"AquariusCoin\",\"Creatio\",\"Eternity\",\"Eurocoin\",\"BitcoinFast\",\"Stakenet\",\"BitConnect Coin\",\"MoneyCoin\",\"Enigma\",\"Russiacoin\",\"PandaCoin\",\"GameUnits\",\"GAKHcoin\",\"Allsafe\",\"LiteCreed\",\"Klingon Empire Darsek\",\"Internet of People\",\"KushCoin\",\"Printerium\",\"Impeach\",\"Zilbercoin\",\"FirstCoin\",\"FindCoin\",\"OpenChat\",\"RenosCoin\",\"VirtacoinPlus\",\"TajCoin\",\"Impact\",\"Atmos\",\"HappyCoin\",\"MacronCoin\",\"Condensate\",\"Independent Money System\",\"ArgusCoin\",\"LomoCoin\",\"ProCurrency\",\"GoldReserve\",\"GrowthCoin\",\"Phreak\",\"Degas Coin\",\"HTML5 Coin\",\"Ultimate Secure Cash\",\"QTUM\",\"Espers\",\"Denarius\",\"Virta Unique Coin\",\"Bitcoin Planet\",\"BritCoin\",\"Linda\",\"DeepOnion\",\"Signatum\",\"Cream\",\"Monoeci\",\"Draftcoin\",\"Stakecoin\",\"CoinonatX\",\"Ethereum Dark\",\"Obsidian\",\"Cardano\",\"Regalcoin\",\"TrezarCoin\",\"TerraNovaCoin\",\"Rupee\",\"WomenCoin\",\"Theresa May Coin\",\"NamoCoin\",\"LUXCoin\",\"Xios\",\"Bitcloud 2.0\",\"KekCoin\",\"BlackholeCoin\",\"Infinity Economics\",\"Magnet\",\"Lamden Tau\",\"Electra\",\"Bitcoin Diamond\",\"Cash & Back Coin\",\"Bulwark\",\"Kalkulus\",\"GermanCoin\",\"LiteCoin Ultra\",\"PhantomX\",\"Digiwage\",\"Trollcoin\",\"Litecoin Plus\",\"Monkey Project\",\"TokenPay\",\"1717 Masonic Commemorative Token\",\"My Big Coin\",\"Unified Society USDEX\",\"Tokyo Coin\",\"Stipend\",\"Pushi\",\"Ellerium\",\"Velox\",\"Ontology\",\"Bitspace\",\"Briacoin\",\"Ignition\",\"MedicCoin\",\"Bitcoin Green\",\"Deviant Coin\",\"Abjcoin\",\"Semux\",\"Carebit\",\"Zealium\",\"Proton\",\"iDealCash\",\"Bitcoin Incognito\",\"HollyWoodCoin\",\"Swisscoin\",\"Xt3ch\",\"TheVig\",\"EmaratCoin\",\"Dekado\",\"Lynx\",\"Poseidon Quark\",\"BitcoinWSpectrum\",\"Muse\",\"Trivechain\",\"Dystem\",\"Giant\",\"Peony Coin\",\"Absolute Coin\",\"Vitae\",\"TPCash\",\"ARENON\",\"EUNO\",\"MMOCoin\",\"Ketan\",\"XDNA\",\"PAXEX\",\"ThunderStake\",\"Kcash\",\"Bettex coin\",\"BitMoney\",\"Junson Ming Chan Coin\",\"HerbCoin\",\"PirateCash\",\"Oduwa\",\"Galilel\",\"Crypto Sports\",\"Credit\",\"Dash Platinum\",\"Nasdacoin\",\"Beetle Coin\",\"Titan Coin\",\"Award\",\"Insane Coin\",\"ALAX\",\"LiteDoge\",\"TruckCoin\",\"OrangeCoin\",\"BitstarCoin\",\"NeosCoin\",\"HyperCoin\",\"PinkCoin\",\"AudioCoin\",\"IncaKoin\",\"Piggy Coin\",\"Genstake\",\"XiaoMiCoin\",\"CapriCoin\",\" ClubCoin\",\"Radium\",\"Creditbit \",\"OKCash\",\"Lisk\",\"HiCoin\",\"WhiteCoin\",\"FriendshipCoin\",\"Triangles Coin\",\"EOS\",\"Oxycoin\",\"TigerCash\",\"Particl\",\"Nxt\",\"ZEPHYR\",\"Gapcoin\",\"BitcoinPlus\"],\"TotalCoinSupply\":{\"__ndarray__\":\"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\",\"dtype\":\"float64\",\"order\":\"little\",\"shape\":[286]},\"TotalCoinsMined\":{\"__ndarray__\":\"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\",\"dtype\":\"float64\",\"order\":\"little\",\"shape\":[286]}},\"selected\":{\"id\":\"2380\"},\"selection_policy\":{\"id\":\"2395\"}},\"id\":\"2379\",\"type\":\"ColumnDataSource\"},{\"attributes\":{\"fill_alpha\":{\"value\":0.1},\"fill_color\":{\"value\":\"#d62628\"},\"line_alpha\":{\"value\":0.1},\"line_color\":{\"value\":\"#d62628\"},\"size\":{\"units\":\"screen\",\"value\":5.477225575051661},\"x\":{\"field\":\"TotalCoinsMined\"},\"y\":{\"field\":\"TotalCoinSupply\"}},\"id\":\"2423\",\"type\":\"Scatter\"},{\"attributes\":{},\"id\":\"2341\",\"type\":\"BasicTicker\"},{\"attributes\":{\"axis_label\":\"TotalCoinSupply\",\"bounds\":\"auto\",\"formatter\":{\"id\":\"2359\"},\"major_label_orientation\":\"horizontal\",\"ticker\":{\"id\":\"2341\"}},\"id\":\"2340\",\"type\":\"LinearAxis\"},{\"attributes\":{\"fill_color\":{\"value\":\"#1f77b3\"},\"line_color\":{\"value\":\"#1f77b3\"},\"size\":{\"units\":\"screen\",\"value\":5.477225575051661},\"x\":{\"field\":\"TotalCoinsMined\"},\"y\":{\"field\":\"TotalCoinSupply\"}},\"id\":\"2364\",\"type\":\"Scatter\"},{\"attributes\":{\"fill_alpha\":{\"value\":0.1},\"fill_color\":{\"value\":\"#2ba02b\"},\"line_alpha\":{\"value\":0.1},\"line_color\":{\"value\":\"#2ba02b\"},\"size\":{\"units\":\"screen\",\"value\":5.477225575051661},\"x\":{\"field\":\"TotalCoinsMined\"},\"y\":{\"field\":\"TotalCoinSupply\"}},\"id\":\"2402\",\"type\":\"Scatter\"},{\"attributes\":{},\"id\":\"2399\",\"type\":\"Selection\"},{\"attributes\":{},\"id\":\"2375\",\"type\":\"UnionRenderers\"},{\"attributes\":{},\"id\":\"2439\",\"type\":\"UnionRenderers\"},{\"attributes\":{\"margin\":[5,5,5,5],\"name\":\"HSpacer04678\",\"sizing_mode\":\"stretch_width\"},\"id\":\"2320\",\"type\":\"Spacer\"},{\"attributes\":{\"data_source\":{\"id\":\"2398\"},\"glyph\":{\"id\":\"2401\"},\"hover_glyph\":null,\"muted_glyph\":{\"id\":\"2403\"},\"nonselection_glyph\":{\"id\":\"2402\"},\"selection_glyph\":null,\"view\":{\"id\":\"2405\"}},\"id\":\"2404\",\"type\":\"GlyphRenderer\"},{\"attributes\":{\"fill_alpha\":{\"value\":0.2},\"fill_color\":{\"value\":\"#1f77b3\"},\"line_alpha\":{\"value\":0.2},\"line_color\":{\"value\":\"#1f77b3\"},\"size\":{\"units\":\"screen\",\"value\":5.477225575051661},\"x\":{\"field\":\"TotalCoinsMined\"},\"y\":{\"field\":\"TotalCoinSupply\"}},\"id\":\"2366\",\"type\":\"Scatter\"},{\"attributes\":{\"fill_alpha\":{\"value\":0.2},\"fill_color\":{\"value\":\"#2ba02b\"},\"line_alpha\":{\"value\":0.2},\"line_color\":{\"value\":\"#2ba02b\"},\"size\":{\"units\":\"screen\",\"value\":5.477225575051661},\"x\":{\"field\":\"TotalCoinsMined\"},\"y\":{\"field\":\"TotalCoinSupply\"}},\"id\":\"2403\",\"type\":\"Scatter\"},{\"attributes\":{},\"id\":\"2416\",\"type\":\"UnionRenderers\"},{\"attributes\":{\"bottom_units\":\"screen\",\"fill_alpha\":0.5,\"fill_color\":\"lightgrey\",\"left_units\":\"screen\",\"level\":\"overlay\",\"line_alpha\":1.0,\"line_color\":\"black\",\"line_dash\":[4,4],\"line_width\":2,\"right_units\":\"screen\",\"top_units\":\"screen\"},\"id\":\"2349\",\"type\":\"BoxAnnotation\"},{\"attributes\":{},\"id\":\"2357\",\"type\":\"BasicTickFormatter\"},{\"attributes\":{\"fill_color\":{\"value\":\"#ff7e0e\"},\"line_color\":{\"value\":\"#ff7e0e\"},\"size\":{\"units\":\"screen\",\"value\":5.477225575051661},\"x\":{\"field\":\"TotalCoinsMined\"},\"y\":{\"field\":\"TotalCoinSupply\"}},\"id\":\"2382\",\"type\":\"Scatter\"},{\"attributes\":{\"source\":{\"id\":\"2361\"}},\"id\":\"2368\",\"type\":\"CDSView\"},{\"attributes\":{\"active_drag\":\"auto\",\"active_inspect\":\"auto\",\"active_multi\":null,\"active_scroll\":\"auto\",\"active_tap\":\"auto\",\"tools\":[{\"id\":\"2323\"},{\"id\":\"2344\"},{\"id\":\"2345\"},{\"id\":\"2346\"},{\"id\":\"2347\"},{\"id\":\"2348\"}]},\"id\":\"2350\",\"type\":\"Toolbar\"},{\"attributes\":{\"callback\":null,\"renderers\":[{\"id\":\"2367\"},{\"id\":\"2385\"},{\"id\":\"2404\"},{\"id\":\"2425\"}],\"tags\":[\"hv_created\"],\"tooltips\":[[\"Class\",\"@{Class}\"],[\"TotalCoinsMined\",\"@{TotalCoinsMined}\"],[\"TotalCoinSupply\",\"@{TotalCoinSupply}\"],[\"CoinName\",\"@{CoinName}\"]]},\"id\":\"2323\",\"type\":\"HoverTool\"},{\"attributes\":{\"label\":{\"value\":\"0\"},\"renderers\":[{\"id\":\"2367\"}]},\"id\":\"2378\",\"type\":\"LegendItem\"},{\"attributes\":{},\"id\":\"2344\",\"type\":\"SaveTool\"},{\"attributes\":{\"fill_alpha\":{\"value\":0.2},\"fill_color\":{\"value\":\"#ff7e0e\"},\"line_alpha\":{\"value\":0.2},\"line_color\":{\"value\":\"#ff7e0e\"},\"size\":{\"units\":\"screen\",\"value\":5.477225575051661},\"x\":{\"field\":\"TotalCoinsMined\"},\"y\":{\"field\":\"TotalCoinSupply\"}},\"id\":\"2384\",\"type\":\"Scatter\"},{\"attributes\":{\"fill_alpha\":{\"value\":0.1},\"fill_color\":{\"value\":\"#1f77b3\"},\"line_alpha\":{\"value\":0.1},\"line_color\":{\"value\":\"#1f77b3\"},\"size\":{\"units\":\"screen\",\"value\":5.477225575051661},\"x\":{\"field\":\"TotalCoinsMined\"},\"y\":{\"field\":\"TotalCoinSupply\"}},\"id\":\"2365\",\"type\":\"Scatter\"},{\"attributes\":{},\"id\":\"2345\",\"type\":\"PanTool\"},{\"attributes\":{\"data\":{\"Class\":[0,0,0,0,0,0,0,0,0,0,0,0,0,0,0,0,0,0,0,0,0,0,0,0,0,0,0,0,0,0,0,0,0,0,0,0,0,0,0,0,0,0,0,0,0,0,0,0,0,0,0,0,0,0,0,0,0,0,0,0,0,0,0,0,0,0,0,0,0,0,0,0,0,0,0,0,0,0,0,0,0,0,0,0,0,0,0,0,0,0,0,0,0,0,0,0,0,0,0,0,0,0,0,0,0,0,0,0,0,0,0,0,0,0,0,0,0,0,0,0,0,0,0,0,0,0,0,0,0,0,0,0,0,0,0,0,0,0,0,0,0,0,0,0,0,0,0,0,0,0,0,0,0,0,0,0,0,0,0,0,0,0,0,0,0,0,0,0,0,0,0,0,0,0,0,0,0,0,0,0,0,0,0,0,0,0,0,0,0,0,0,0,0,0,0,0,0,0,0,0,0,0,0,0,0,0,0,0,0,0,0,0,0,0,0,0,0,0,0,0,0,0,0,0,0,0,0,0,0,0,0,0,0,0,0,0,0,0,0],\"CoinName\":[\"Bitcoin\",\"Ethereum\",\"Litecoin\",\"Monero\",\"Ethereum Classic\",\"ZCash\",\"DigiByte\",\"ProsperCoin\",\"Spreadcoin\",\"Argentum\",\"MyriadCoin\",\"MoonCoin\",\"ZetaCoin\",\"SexCoin\",\"Quatloo\",\"QuarkCoin\",\"Riecoin\",\"Digitalcoin \",\"Catcoin\",\"CannaCoin\",\"CryptCoin\",\"Verge\",\"DevCoin\",\"EarthCoin\",\"E-Gulden\",\"Einsteinium\",\"Emerald\",\"Franko\",\"FeatherCoin\",\"GrandCoin\",\"GlobalCoin\",\"GoldCoin\",\"Infinite Coin\",\"IXcoin\",\"KrugerCoin\",\"LuckyCoin\",\"Litebar \",\"MegaCoin\",\"MediterraneanCoin\",\"MinCoin\",\"NobleCoin\",\"Namecoin\",\"NyanCoin\",\"RonPaulCoin\",\"StableCoin\",\"SmartCoin\",\"SysCoin\",\"TigerCoin\",\"TerraCoin\",\"UnbreakableCoin\",\"Unobtanium\",\"UroCoin\",\"ViaCoin\",\"Vertcoin\",\"WorldCoin\",\"JouleCoin\",\"ByteCoin\",\"DigitalNote \",\"MonaCoin\",\"Gulden\",\"PesetaCoin\",\"Wild Beast Coin\",\"Flo\",\"ArtByte\",\"Folding Coin\",\"Unitus\",\"CypherPunkCoin\",\"OmniCron\",\"GreenCoin\",\"Cryptonite\",\"MasterCoin\",\"SoonCoin\",\"1Credit\",\"Nexus\",\"MarsCoin \",\"Crypto\",\"Anarchists Prime\",\"BowsCoin\",\"Song Coin\",\"BitZeny\",\"Expanse\",\"Siacoin\",\"MindCoin\",\"I0coin\",\"Revolution VR\",\"HOdlcoin\",\"Gamecredits\",\"CarpeDiemCoin\",\"Adzcoin\",\"SoilCoin\",\"YoCoin\",\"SibCoin\",\"Francs\",\"BolivarCoin\",\"Omni\",\"PizzaCoin\",\"Komodo\",\"Karbo\",\"ZayedCoin\",\"Circuits of Value\",\"DopeCoin\",\"DollarCoin\",\"Shilling\",\"ZCoin\",\"Elementrem\",\"ZClassic\",\"KiloCoin\",\"ArtexCoin\",\"Kurrent\",\"Cannabis Industry Coin\",\"OsmiumCoin\",\"Bikercoins\",\"HexxCoin\",\"PacCoin\",\"Citadel\",\"BeaverCoin\",\"VaultCoin\",\"Zero\",\"Canada eCoin\",\"Zoin\",\"DubaiCoin\",\"EB3coin\",\"Coinonat\",\"BenjiRolls\",\"ILCoin\",\"EquiTrader\",\"Quantum Resistant Ledger\",\"Dynamic\",\"Nano\",\"ChanCoin\",\"Dinastycoin\",\"DigitalPrice\",\"Unify\",\"SocialCoin\",\"ArcticCoin\",\"DAS\",\"LeviarCoin\",\"Bitcore\",\"gCn Coin\",\"SmartCash\",\"Onix\",\"Bitcoin Cash\",\"Sojourn Coin\",\"NewYorkCoin\",\"FrazCoin\",\"Kronecoin\",\"AdCoin\",\"Linx\",\"Sumokoin\",\"BitcoinZ\",\"Elements\",\"VIVO Coin\",\"Bitcoin Gold\",\"Pirl\",\"eBoost\",\"Pura\",\"Innova\",\"Ellaism\",\"GoByte\",\"SHIELD\",\"UltraNote\",\"BitCoal\",\"DaxxCoin\",\"AC3\",\"Lethean\",\"PopularCoin\",\"Photon\",\"Sucre\",\"SparksPay\",\"GunCoin\",\"IrishCoin\",\"Pioneer Coin\",\"UnitedBitcoin\",\"Interzone\",\"TurtleCoin\",\"MUNcoin\",\"Niobio Cash\",\"ShareChain\",\"Travelflex\",\"KREDS\",\"BitFlip\",\"LottoCoin\",\"Crypto Improvement Fund\",\"Callisto Network\",\"BitTube\",\"Poseidon\",\"Aidos Kuneen\",\"Bitrolium\",\"Alpenschillling\",\"FuturoCoin\",\"Monero Classic\",\"Jumpcoin\",\"Infinex\",\"KEYCO\",\"GINcoin\",\"PlatinCoin\",\"Loki\",\"Newton Coin\",\"MassGrid\",\"PluraCoin\",\"Motion\",\"PlusOneCoin\",\"Axe\",\"HexCoin\",\"Webchain\",\"Ryo\",\"Urals Coin\",\"Qwertycoin\",\"Project Pai\",\"Azart\",\"Xchange\",\"CrypticCoin\",\"Actinium\",\"Bitcoin SV\",\"FREDEnergy\",\"Universal Molecule\",\"Lithium\",\"Exosis\",\"Block-Logic\",\"Beam\",\"Bithereum\",\"SLICE\",\"BLAST\",\"Bitcoin Rhodium\",\"GlobalToken\",\"SolarCoin\",\"UFO Coin\",\"BlakeCoin\",\"Crypto Escudo\",\"Crown Coin\",\"SmileyCoin\",\"Groestlcoin\",\"Bata\",\"Pakcoin\",\"JoinCoin\",\"Vollar\",\"Reality Clash\",\"Beldex\",\"Horizen\"],\"TotalCoinSupply\":{\"__ndarray__\":\"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\",\"dtype\":\"float64\",\"order\":\"little\",\"shape\":[239]},\"TotalCoinsMined\":{\"__ndarray__\":\"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\",\"dtype\":\"float64\",\"order\":\"little\",\"shape\":[239]}},\"selected\":{\"id\":\"2362\"},\"selection_policy\":{\"id\":\"2375\"}},\"id\":\"2361\",\"type\":\"ColumnDataSource\"},{\"attributes\":{\"data\":{\"Class\":[3,3,3,3,3,3],\"CoinName\":[\"Vechain\",\"BiblePay\",\"LitecoinCash\",\"Poa Network\",\"Acute Angle Cloud\",\"Waves\"],\"TotalCoinSupply\":{\"__ndarray__\":\"+nQumcwytj+U9gZfmEx1P7x5qkNuhks/hFoo4ZaLMD/8qfHSTWJQPyxDHOviNho/\",\"dtype\":\"float64\",\"order\":\"little\",\"shape\":[6]},\"TotalCoinsMined\":{\"__ndarray__\":\"zaDgBxGurD+PWA2R2lNdP5CkxfJKIUU/nBkleI8SKz96Q0MFuIxQP/tFfmC/eho/\",\"dtype\":\"float64\",\"order\":\"little\",\"shape\":[6]}},\"selected\":{\"id\":\"2420\"},\"selection_policy\":{\"id\":\"2439\"}},\"id\":\"2419\",\"type\":\"ColumnDataSource\"},{\"attributes\":{},\"id\":\"2359\",\"type\":\"BasicTickFormatter\"},{\"attributes\":{},\"id\":\"2332\",\"type\":\"LinearScale\"},{\"attributes\":{\"fill_color\":{\"value\":\"#d62628\"},\"line_color\":{\"value\":\"#d62628\"},\"size\":{\"units\":\"screen\",\"value\":5.477225575051661},\"x\":{\"field\":\"TotalCoinsMined\"},\"y\":{\"field\":\"TotalCoinSupply\"}},\"id\":\"2422\",\"type\":\"Scatter\"},{\"attributes\":{},\"id\":\"2346\",\"type\":\"WheelZoomTool\"},{\"attributes\":{\"source\":{\"id\":\"2398\"}},\"id\":\"2405\",\"type\":\"CDSView\"},{\"attributes\":{\"data_source\":{\"id\":\"2379\"},\"glyph\":{\"id\":\"2382\"},\"hover_glyph\":null,\"muted_glyph\":{\"id\":\"2384\"},\"nonselection_glyph\":{\"id\":\"2383\"},\"selection_glyph\":null,\"view\":{\"id\":\"2386\"}},\"id\":\"2385\",\"type\":\"GlyphRenderer\"},{\"attributes\":{\"label\":{\"value\":\"2\"},\"renderers\":[{\"id\":\"2404\"}]},\"id\":\"2418\",\"type\":\"LegendItem\"},{\"attributes\":{\"overlay\":{\"id\":\"2349\"}},\"id\":\"2347\",\"type\":\"BoxZoomTool\"},{\"attributes\":{\"children\":[{\"id\":\"2320\"},{\"id\":\"2327\"},{\"id\":\"2568\"}],\"margin\":[0,0,0,0],\"name\":\"Row04674\",\"tags\":[\"embedded\"]},\"id\":\"2319\",\"type\":\"Row\"},{\"attributes\":{},\"id\":\"2334\",\"type\":\"LinearScale\"},{\"attributes\":{\"end\":1.042857142857143,\"reset_end\":1.042857142857143,\"reset_start\":-0.04285714285714286,\"start\":-0.04285714285714286,\"tags\":[[[\"TotalCoinsMined\",\"TotalCoinsMined\",null]]]},\"id\":\"2321\",\"type\":\"Range1d\"},{\"attributes\":{\"text\":\"\",\"text_color\":{\"value\":\"black\"},\"text_font_size\":{\"value\":\"12pt\"}},\"id\":\"2328\",\"type\":\"Title\"},{\"attributes\":{},\"id\":\"2380\",\"type\":\"Selection\"},{\"attributes\":{\"below\":[{\"id\":\"2336\"}],\"center\":[{\"id\":\"2339\"},{\"id\":\"2343\"}],\"left\":[{\"id\":\"2340\"}],\"margin\":null,\"min_border_bottom\":10,\"min_border_left\":10,\"min_border_right\":10,\"min_border_top\":10,\"plot_height\":300,\"plot_width\":700,\"renderers\":[{\"id\":\"2367\"},{\"id\":\"2385\"},{\"id\":\"2404\"},{\"id\":\"2425\"}],\"right\":[{\"id\":\"2377\"}],\"sizing_mode\":\"fixed\",\"title\":{\"id\":\"2328\"},\"toolbar\":{\"id\":\"2350\"},\"x_range\":{\"id\":\"2321\"},\"x_scale\":{\"id\":\"2332\"},\"y_range\":{\"id\":\"2322\"},\"y_scale\":{\"id\":\"2334\"}},\"id\":\"2327\",\"subtype\":\"Figure\",\"type\":\"Plot\"},{\"attributes\":{\"data\":{\"Class\":[2],\"CoinName\":[\"BitTorrent\"],\"TotalCoinSupply\":{\"__ndarray__\":\"rkfhehSu7z8=\",\"dtype\":\"float64\",\"order\":\"little\",\"shape\":[1]},\"TotalCoinsMined\":{\"__ndarray__\":\"AAAAAAAA8D8=\",\"dtype\":\"float64\",\"order\":\"little\",\"shape\":[1]}},\"selected\":{\"id\":\"2399\"},\"selection_policy\":{\"id\":\"2416\"}},\"id\":\"2398\",\"type\":\"ColumnDataSource\"}],\"root_ids\":[\"2319\"]},\"title\":\"Bokeh Application\",\"version\":\"2.1.1\"}};\n",
       "  var render_items = [{\"docid\":\"eb2b3deb-0452-484c-8d5a-ead44d1390ce\",\"root_ids\":[\"2319\"],\"roots\":{\"2319\":\"aa6c8c2c-7b7e-4e0e-88a4-4a33a74f8cfe\"}}];\n",
       "  root.Bokeh.embed.embed_items_notebook(docs_json, render_items);\n",
       "  }\n",
       "if (root.Bokeh !== undefined) {\n",
       "    embed_document(root);\n",
       "  } else {\n",
       "    var attempts = 0;\n",
       "    var timer = setInterval(function(root) {\n",
       "      if (root.Bokeh !== undefined) {\n",
       "        clearInterval(timer);\n",
       "        embed_document(root);\n",
       "      } else if (document.readyState == \"complete\") {\n",
       "        attempts++;\n",
       "        if (attempts > 100) {\n",
       "          clearInterval(timer);\n",
       "          console.log(\"Bokeh: ERROR: Unable to run BokehJS code because BokehJS library is missing\");\n",
       "        }\n",
       "      }\n",
       "    }, 10, root)\n",
       "  }\n",
       "})(window);</script>"
      ],
      "text/plain": [
       ":NdOverlay   [Class]\n",
       "   :Scatter   [TotalCoinsMined]   (TotalCoinSupply,CoinName)"
      ]
     },
     "execution_count": 203,
     "metadata": {
      "application/vnd.holoviews_exec.v0+json": {
       "id": "2319"
      }
     },
     "output_type": "execute_result"
    }
   ],
   "source": [
    "# Create a hvplot.scatter plot using x=\"TotalCoinsMined\" and y=\"TotalCoinSupply\".\n",
    "plot_df.hvplot.scatter(x='TotalCoinsMined', y='TotalCoinSupply', by='Class', hover_cols='CoinName')\n"
   ]
  },
  {
   "cell_type": "code",
   "execution_count": null,
   "metadata": {},
   "outputs": [],
   "source": []
  }
 ],
 "metadata": {
  "file_extension": ".py",
  "kernelspec": {
   "display_name": "PythonData",
   "language": "python",
   "name": "pythondata"
  },
  "language_info": {
   "codemirror_mode": {
    "name": "ipython",
    "version": 3
   },
   "file_extension": ".py",
   "mimetype": "text/x-python",
   "name": "python",
   "nbconvert_exporter": "python",
   "pygments_lexer": "ipython3",
   "version": "3.7.7"
  },
  "latex_envs": {
   "LaTeX_envs_menu_present": true,
   "autoclose": false,
   "autocomplete": true,
   "bibliofile": "biblio.bib",
   "cite_by": "apalike",
   "current_citInitial": 1,
   "eqLabelWithNumbers": true,
   "eqNumInitial": 1,
   "hotkeys": {
    "equation": "Ctrl-E",
    "itemize": "Ctrl-I"
   },
   "labels_anchors": false,
   "latex_user_defs": false,
   "report_style_numbering": false,
   "user_envs_cfg": false
  },
  "mimetype": "text/x-python",
  "name": "python",
  "npconvert_exporter": "python",
  "pygments_lexer": "ipython3",
  "version": 3
 },
 "nbformat": 4,
 "nbformat_minor": 2
}
